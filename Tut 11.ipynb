{
 "cells": [
  {
   "cell_type": "markdown",
   "metadata": {},
   "source": [
    "## Facultative anaerobes\n",
    "\n",
    "Some organisms like lactic acid bacteria and yeasts are able to survive under aerobic and anaerobic conditions. This implies that energy (ATP) can be generated form respiration (oxidative phosphorylation) or substrate level phosphorylation (ATP generation from the fermentative pathways). In the previous [section](https://nbviewer.jupyter.org/github/willienicol/Biochemical-engineering-notes/blob/master/6%20Modeling%20stoichiometry%20variations/Oxygen%20starvation%20in%20batch%20fermenters.ipynb) we have seen how growth is slow down by an oxygen limitation. In the example in this section the microbe has an alternative pathway to generate ATP (anaerobic) that can be used when the oxygen supply is limited. The microbe will thus attempt to maintain its growth rate ($\\mu$ factory) by generating the ATP without using oxygen. More detail is provided in the video.\n",
    "\n",
    "[Video: Lecture 17 Microbe suffocation](https://youtu.be/G5BEYfLWuBY)\n",
    "\n",
    "<img src=\"saccie.jpg\" width=\"450\" />\n",
    "\n",
    "\n",
    "_Pichia stipitis_ is a prime example of a facultative anaerobe. The metabolism of the organism is given by the following:\n",
    "\n",
    "<img src=\"etresp.png\" width=\"650\" />\n"
   ]
  },
  {
   "cell_type": "markdown",
   "metadata": {},
   "source": [
    "Note that the respiration flux is given as $r_2$.\n",
    "\n",
    "The following physiological parameters will be used:\n",
    "\n",
    "\n",
    "|$\\alpha \\qquad \\qquad$|$\\gamma \\qquad \\qquad $|$\\mu_{max} \\qquad$|$\\theta_{max}\\qquad$| $(P/O)$ $\\qquad \\qquad$\n",
    "|----|-|-|-|-\n",
    "|$\\frac{cmol\\,CO_2}{cmol \\, X}$|$\\frac{mol \\, ATP}{Cmol \\, X}$|$\\frac{1}{h}$|$\\frac{mol \\, ATP}{cmol\\,X\\cdot h}$|$\\frac{mol\\,ATP}{mol\\, O}$\n",
    "|0.05|2.3|0.25|0.15|1.5\n",
    "\n",
    "\n"
   ]
  },
  {
   "cell_type": "code",
   "execution_count": 3,
   "metadata": {},
   "outputs": [],
   "source": [
    "import numpy\n",
    "import pandas\n",
    "import matplotlib.pyplot as plt\n",
    "from scipy.integrate import odeint\n",
    "%matplotlib inline\n",
    "alpha, gamma, PO =0.05, 2.3, 1.5\n",
    "mumax, thetamax= 0.25, 0.15"
   ]
  },
  {
   "cell_type": "markdown",
   "metadata": {},
   "source": [
    "Let's assume the standard biomass formula of $CH_{1.8}O_{0.5}N_{0.2}$.\n",
    "\n",
    "The growth and maintenance functions are given below:\n",
    "\n",
    "$$\\mu=\\mu_{max}\\left[\\frac{Cs}{Km+Cs}\\right] \\left[1-\\frac{C_e}{C_e^*} \\right]$$\n",
    "\n",
    "$$\\theta=\\theta_{max}\\left[\\frac{Cs}{Km+Cs}\\right]$$\n",
    "\n",
    "Parameters are defined in the cell below:"
   ]
  },
  {
   "cell_type": "code",
   "execution_count": 4,
   "metadata": {},
   "outputs": [],
   "source": [
    "Cemax, Km= 2.5, 0.01"
   ]
  },
  {
   "cell_type": "markdown",
   "metadata": {},
   "source": [
    "The 'hidden' flux model is given as [Tut11_matrix.xlxs](https://github.com/willienicol/Biochemical-engineering-notes/blob/master/Tutorials/Tut11_matrix.xlsx). There is 4 fundamental equations for the 7 fluxes. The fourth equation (fourth row) represents the ATP balance and can be set equal to $\\theta$"
   ]
  },
  {
   "cell_type": "markdown",
   "metadata": {},
   "source": [
    "a) For questions a-f we will only work with the flux model (no integration required). Set up your own flux model and test against the supplied flux model. For anaerobic operation ($r_6=r_2=0$) the following should be obtained with $\\theta_{max}$ and $\\mu_{max} $ values:\n",
    "\n",
    "$$Gluc \\to 0.1026X + 0.594Et +0Glyc + 0.302CO_2 $$\n",
    "\n",
    "For full aerobic operation ($r_4=r_5=0$) the following should be obtained with $\\theta_{max}$ and $\\mu_{max} $ values:\n",
    "\n",
    "$$Gluc + 0.43 O_2 \\to 0.543X +0.456 CO_2$$\n",
    "\n",
    "(Answers were given on cmol basis while nitrogen source was ignored)"
   ]
  },
  {
   "cell_type": "code",
   "execution_count": 5,
   "metadata": {},
   "outputs": [],
   "source": [
    "#specifications r2=r6=0\n",
    "def response_anae(C):\n",
    "    Cx, Cs, Ce, Cg, Cco2, Cdhap = C[0], C[1], C[2], C[3], C[4], C[5]\n",
    "    \n",
    "    S = numpy.matrix(pandas.read_excel('Tut11_matrix.xlsx'))\n",
    "    S1 = numpy.vstack([S,[0,1,0,0,0,0,0],[0,0,1,0,0,0,0],[0,0,0,0,0,0,1]])\n",
    "    K = numpy.matrix([0,0,0, thetamax, mumax, 0, 0]).T\n",
    "    r = numpy.linalg.solve(S1,K)\n",
    "    \n",
    "    return [r[1,0],      #X\n",
    "            -r[0,0],     #Glucose\n",
    "            r[5,0],      #Ethanol\n",
    "            r[4,0],      #Gly\n",
    "            r[2,0],      #respiration\n",
    "            r[3,0]]      #DHAP(5)"
   ]
  },
  {
   "cell_type": "code",
   "execution_count": 6,
   "metadata": {},
   "outputs": [
    {
     "data": {
      "text/plain": [
       "[('Ysx=', 0.10256410256410249),\n",
       " ('Yss=', 1.0),\n",
       " ('Yse=', 0.5948717948717945),\n",
       " ('Ysg=', 2.4248002872994483e-16),\n",
       " ('Ysco2=', 0.3025641025641025)]"
      ]
     },
     "execution_count": 6,
     "metadata": {},
     "output_type": "execute_result"
    }
   ],
   "source": [
    "Cxo = 0\n",
    "Cso = 1\n",
    "Co = [Cxo, Cso, 0, 0, 0, 0]\n",
    "\n",
    "rates_anae = response_anae(Co)\n",
    "\n",
    "rx = rates_anae[0]\n",
    "rs = -rates_anae[1]\n",
    "re = rates_anae[2]\n",
    "rg = rates_anae[3]\n",
    "rdhap = rates_anae[5]\n",
    "rco2 = (1/3)*rdhap + alpha*rx + rates_anae[4]\n",
    "\n",
    "Yanae = [('Ysx=',rx/rs),\n",
    "        ('Yss=',rs/rs),\n",
    "        ('Yse=',re/rs),\n",
    "        ('Ysg=',rg/rs),\n",
    "        ('Ysco2=', rco2/rs)]\n",
    "\n",
    "Yanae"
   ]
  },
  {
   "cell_type": "markdown",
   "metadata": {},
   "source": [
    "The glycerol result is to the power of -16, so considered 0. Results verify given yield coefficients."
   ]
  },
  {
   "cell_type": "code",
   "execution_count": 7,
   "metadata": {},
   "outputs": [],
   "source": [
    "#specification: r4=r5=0\n",
    "def response_aero(C):\n",
    "    Cx, Cs, Ce, Co, Cco2, Cdhap = C[0], C[1], C[2], C[3], C[4], C[5]\n",
    "    \n",
    "    S = numpy.matrix(pandas.read_excel('Tut11_matrix.xlsx'))\n",
    "    S1 = numpy.vstack([S,[0,1,0,0,0,0,0],[0,0,0,0,1,0,0],[0,0,0,0,0,1,0]])\n",
    "    K = numpy.matrix([0,0,0, thetamax, mumax, 0, 0]).T\n",
    "    r = numpy.linalg.solve(S1,K)\n",
    "    \n",
    "    return [r[1,0],      #X\n",
    "            -r[0,0],     #glucose\n",
    "            r[5,0],      #Ethanol\n",
    "            r[6,0],      #oxygen\n",
    "            r[2,0],      #respiration\n",
    "            r[3,0]]      #DHAP "
   ]
  },
  {
   "cell_type": "code",
   "execution_count": 8,
   "metadata": {},
   "outputs": [
    {
     "data": {
      "text/plain": [
       "[('Ysx=', 0.5432098765432098),\n",
       " ('Yss=', 1.0),\n",
       " ('Yso=', 0.42962962962962953),\n",
       " ('Ysdhap=', -8.198699131207691e-17),\n",
       " ('Ysco2=', 0.45679012345679)]"
      ]
     },
     "execution_count": 8,
     "metadata": {},
     "output_type": "execute_result"
    }
   ],
   "source": [
    "Cxo = 0\n",
    "Cso = 1\n",
    "Co = [Cxo, Cso, 0, 0, 0, 0]\n",
    "\n",
    "rates_aero = response_aero(Co)\n",
    "\n",
    "rxaer = rates_aero[0]\n",
    "rsaer = -rates_aero[1]\n",
    "roaer = rates_aero[3]\n",
    "rdhapaer = rates_aero[5]\n",
    "rco2aer = (1/3)*rdhapaer + alpha*rx + rates_aero[4]\n",
    "\n",
    "Yaer = [('Ysx=',rxaer/rsaer),\n",
    "        ('Yss=',rsaer/rsaer),\n",
    "        ('Yso=',roaer/rsaer),\n",
    "        ('Ysdhap=',rdhapaer/rsaer), #check to ensure it's 0\n",
    "        ('Ysco2=', rco2aer/rsaer)]\n",
    "\n",
    "Yaer"
   ]
  },
  {
   "cell_type": "markdown",
   "metadata": {},
   "source": [
    "All values verify given coefficients for anaerobic respiration"
   ]
  },
  {
   "cell_type": "markdown",
   "metadata": {},
   "source": [
    "b) For the answers above, what is $\\frac{-r_S^{aerobic}}{-r_S^{anaerobic}}$ and why?  [$0.189$]"
   ]
  },
  {
   "cell_type": "code",
   "execution_count": 9,
   "metadata": {},
   "outputs": [
    {
     "data": {
      "text/plain": [
       "0.18881118881118866"
      ]
     },
     "execution_count": 9,
     "metadata": {},
     "output_type": "execute_result"
    }
   ],
   "source": [
    "Ratio_aer_anae = -rsaer/-rs\n",
    "Ratio_aer_anae"
   ]
  },
  {
   "cell_type": "markdown",
   "metadata": {},
   "source": [
    "The aerobic pull on glucose is higher. More energy required to produce ATP with the availability of oxygen."
   ]
  },
  {
   "cell_type": "markdown",
   "metadata": {},
   "source": [
    "c) Determine $r_O$ for aerobic operation. [$0.198 \\frac{mol}{cmol \\, X \\cdot h}$]"
   ]
  },
  {
   "cell_type": "code",
   "execution_count": 17,
   "metadata": {},
   "outputs": [
    {
     "name": "stdout",
     "output_type": "stream",
     "text": [
      "0.19772727272727272 mol/cmolx.h\n"
     ]
    }
   ],
   "source": [
    "print(roaer,'mol/cmolx.h')"
   ]
  },
  {
   "cell_type": "markdown",
   "metadata": {},
   "source": [
    "d) Specify $r_O =0.12 \\frac{mol}{cmol \\, X \\cdot h}$, assume zero glycerol formation while still using maximum energy generation ($\\theta_{max}$ and $\\mu_{max} $). Make sure you obtain the following:\n",
    "\n",
    "$$Gluc + 0.097 O_2 \\to 0.202X + 0.46Et +0Glyc + 0.337CO_2 $$\n",
    "\n",
    "We'll refer to the stoichiometry above as **partially aerobic.**\n",
    "\n",
    "The anaerobic pathway produces no glycerol (a) so the glycerol assumption is valid. Note that $r_O$ is smaller than the answer in (c). Specify the answer in (c) in the formulation and note that zero ethanol forms (without an ethanol specification).\n",
    "\n",
    "The partial aerobic stoichiometry represents a combination of respiration and ethanol formation. Ethanol was formed since the cell based oxygen supply ($r_O$) was not enough to obtain all the required ATP from respiration. \n",
    "\n",
    "Note that the total ATP requirement for all the scenarios above (aerobic, anaerobic and partially aerobic) is  $\\theta_{max}+\\gamma\\mu_{max}$ \n",
    "\n",
    "\n",
    "\n",
    "\n",
    "\n",
    "\n"
   ]
  },
  {
   "cell_type": "code",
   "execution_count": 25,
   "metadata": {},
   "outputs": [],
   "source": [
    "#spec: r6=0.12, r4=0 and using mumax and thetamax\n",
    "\n",
    "def resp_part_aero(C):\n",
    "    Cx, Cs, Ce, Co, Cco2, Cdhap = C[0], C[1], C[2], C[3], C[4], C[5]\n",
    "    \n",
    "    S = numpy.matrix(pandas.read_excel('Tut11_matrix.xlsx'))\n",
    "    S1 = numpy.vstack([S,[0,1,0,0,0,0,0],[0,0,0,0,1,0,0],[0,0,0,0,0,0,1]])\n",
    "    K = numpy.matrix([0,0,0, thetamax, mumax, 0, 0.12]).T\n",
    "    r = numpy.linalg.solve(S1,K)\n",
    "    \n",
    "    return [r[1,0],      #X\n",
    "            -r[0,0],     #Glucose\n",
    "            -r[6,0],     #Oxygen\n",
    "            r[5,0],      #Ethanol\n",
    "            r[4,0],      #Glycerol\n",
    "            r[2,0],      #respiration\n",
    "            r[3,0]]      #DHAP "
   ]
  },
  {
   "cell_type": "code",
   "execution_count": 23,
   "metadata": {},
   "outputs": [
    {
     "data": {
      "text/plain": [
       "[['Ysx=', 0.202020202020202],\n",
       " ['Yss=', 1.0],\n",
       " ['Yso=', 0.09696969696969694],\n",
       " ['Yse=', 0.46060606060606063],\n",
       " ['Ysg=', 0.0],\n",
       " ['Ysco2=', 0.33737373737373727]]"
      ]
     },
     "execution_count": 23,
     "metadata": {},
     "output_type": "execute_result"
    }
   ],
   "source": [
    "Cxo = 0\n",
    "Cso = 1\n",
    "Co = [Cxo, Cso, 0, 0, 0, 0]\n",
    "\n",
    "rates_pa = resp_part_aero(Co)\n",
    "\n",
    "rxpa = rates_pa[0]\n",
    "rspa = -rates_pa[1]\n",
    "ropa = -rates_pa[2]\n",
    "retpa = rates_pa[3]\n",
    "rgpa = rates_pa[4]\n",
    "rco2pa = rates_pa[5]\n",
    "rdhappa = rates_pa[6]\n",
    "rco2pa = (1/3)*rdhappa + alpha*rxpa + rates_pa[5]\n",
    "\n",
    "Yapa = [['Ysx=',  rxpa/rspa],\n",
    "        ['Yss=',  rspa/rspa],\n",
    "        ['Yso=',  ropa/rspa],\n",
    "        ['Yse=',  retpa/rspa],\n",
    "        ['Ysg=',  rgpa/rspa],\n",
    "        ['Ysco2=', rco2pa/rspa]]\n",
    "\n",
    "Yapa"
   ]
  },
  {
   "cell_type": "markdown",
   "metadata": {},
   "source": [
    "e) What fraction of ATP in (d) was generated via ethanol production? [39.3%]"
   ]
  },
  {
   "cell_type": "code",
   "execution_count": 32,
   "metadata": {},
   "outputs": [
    {
     "name": "stdout",
     "output_type": "stream",
     "text": [
      "39.31034482758622 %\n"
     ]
    }
   ],
   "source": [
    "ATP_tot = thetamax + gamma*mumax \n",
    "ATP_Et = (1/2)*retpa\n",
    "percentage = (ATP_Et/ATP_tot)*100\n",
    "print(percentage,'%')\n",
    "#ATP_Et\n",
    "#retpa"
   ]
  },
  {
   "cell_type": "markdown",
   "metadata": {},
   "source": [
    "Explaining ATP in stream r3 (ethanol stream):\n",
    "1ATP in stream r3 = 2/3*ATP in stream r5\n",
    "since there is 1/3 net ATP in stream r3, this can be translated as:\n",
    "ATP in stream r3 = (3/1)*(2/3)ATP in stream r5 "
   ]
  },
  {
   "cell_type": "markdown",
   "metadata": {},
   "source": [
    "Note that we are not integrating yet! We do however understand that partial aerobic conditions will result in the accumulation of ethanol in the fermenter. We can see from the the growth function $\\mu=\\mu_{max}\\left[\\frac{Cs}{Km+Cs}\\right] \\left[1-\\frac{C_e}{C_e^*} \\right]$ that ethanol will reduce the value of $\\mu$. Consider this when answering the next question.\n",
    "\n",
    "f) **Without integrating**, determine the concentration of ethanol in the fermenter where growth will terminate. Note that we assume that $r_O=0.12$ like in (d) at all times. [$1.24 \\frac{cmol}{L}$]"
   ]
  },
  {
   "cell_type": "markdown",
   "metadata": {},
   "source": [
    "Answer notes: we're just considering $\\mu=\\mu_{max} \\left[1-\\frac{C_e}{C_e^*} \\right]$"
   ]
  },
  {
   "cell_type": "code",
   "execution_count": 38,
   "metadata": {},
   "outputs": [
    {
     "name": "stdout",
     "output_type": "stream",
     "text": [
      "[[1.23913043]] cmol/L\n"
     ]
    }
   ],
   "source": [
    "S1 = numpy.matrix(pandas.read_excel('Tut11_matrix.xlsx'))\n",
    "S2 = numpy.vstack([S1,[0,0,0,0,0,1,0],[0,0,0,0,1,0,0],[0,0,0,0,0,0,1]])\n",
    "K = numpy.matrix([0,0,0, thetamax, 0, 0, 0.12]).T\n",
    "r = numpy.linalg.solve(S2,K)\n",
    "\n",
    "mu1=r[1] \n",
    "Ce = ((mu1/mumax) - 1)*Cemax\n",
    "print(-Ce,'cmol/L')\n",
    "\n",
    "#Cemax"
   ]
  },
  {
   "cell_type": "markdown",
   "metadata": {},
   "source": [
    "g) You are now going to construct your own response function. Like in tutorial 10 you will calculate a maximum volumetric transfer rate of oxygen ($r_{O_2}^{mt_{max}}$) and use this value to determine where the response function switch from aerobic to partial aerobic. Normal aerobic respiration (with a constant $r_O$) will occur if the following condition is obeyed:\n",
    "\n",
    "$$r_{O}^{mt_{max}}>r_{O}\\cdot C_X$$\n",
    "\n",
    "As soon as this condition is violated, the specifications in the stoichiometric matrix need to change. An oxygen specification similar to tutorial 10 will be used. The only difference is that $\\mu$ will still be specified (note that ethanol in the fermenter will reduce $\\mu$) while ethanol formation will be allowed for.\n",
    "\n",
    "Use the following values for your integration:\n"
   ]
  },
  {
   "cell_type": "code",
   "execution_count": 39,
   "metadata": {},
   "outputs": [],
   "source": [
    "kla=180 #1/h\n",
    "Co_sat= 7/1000/32  #mol O2 per liter\n",
    "Cxo=0.005  #cmol/L\n",
    "Cso=7  #cmol/L"
   ]
  },
  {
   "cell_type": "code",
   "execution_count": 40,
   "metadata": {},
   "outputs": [],
   "source": [
    "def response_fun(C):\n",
    "    \n",
    "    Cx, Cs, Ce, Co, Cco2 = C[0], C[1], C[2], C[3], C[4]      \n",
    "    mu=mumax*Cs/(Km+Cs)*(1-Ce/Cemax)\n",
    "    theta=thetamax*Cs/(Km+Cs)\n",
    "    \n",
    "    ro_mt=kla*Co_sat\n",
    "    \n",
    "    Sbase = numpy.matrix(pandas.read_excel('Tut11_matrix.xlsx'))\n",
    "    S1 = numpy.vstack([Sbase,[0,1,0,0,0,0,0],[0,0,0,0,1,0,0],[0,0,0,0,0,1,0]])\n",
    "    K = numpy.matrix([0,0,0, theta, mu, 0, 0]).T\n",
    "    r = numpy.linalg.solve(S1,K)        \n",
    "        \n",
    "    if ro_mt > r[6,0]*Cx:    #no oxygen limitation\n",
    "        \n",
    "        return [r[1,0],      #Biomass\n",
    "               -r[0,0],      #Glucose\n",
    "                r[5,0],      #Ethanol\n",
    "                r[6,0],      #Oxygen\n",
    "                r[2,0],      #respiration\n",
    "                r[3,0]]      #DHAP                                                 \n",
    "                \n",
    "    else:\n",
    "        \n",
    "        S2 = numpy.vstack([Sbase,[0,1,0,0,0,0,0],[0,0,0,0,1,0,0],[0,0,0,0,0,0,1]])\n",
    "        C2= numpy.matrix([[0,0,0,theta,mu,0,ro_mt/Cx]]).T   # Note the ro specification!!\n",
    "        r2 = numpy.linalg.solve(S2,C2)                 # rates for regime where oxygen limitation exist\n",
    "        \n",
    "        \n",
    "        return [r2[1,0],    #Biomass\n",
    "               -r2[0,0],    #Glucose\n",
    "                r2[5,0],    #Ethanol\n",
    "                r2[6,0],    #Oxygen\n",
    "                r2[2,0],    #respiration\n",
    "                r2[3,0]]    #Dhap "
   ]
  },
  {
   "cell_type": "code",
   "execution_count": 41,
   "metadata": {},
   "outputs": [],
   "source": [
    "def ferm_eq(C,t):\n",
    "    Cx, Cs, Ce, Co, Cco2 = C[0], C[1], C[2], C[3], C[4]\n",
    "    r=response_fun([Cx, Cs, Ce, Co, Cco2])     \n",
    "    \n",
    "    return [r[0]*Cx,\n",
    "            r[1]*Cx,\n",
    "            r[2]*Cx,\n",
    "            r[3]*Cx,\n",
    "            r[4]*Cx]   "
   ]
  },
  {
   "cell_type": "code",
   "execution_count": 43,
   "metadata": {},
   "outputs": [
    {
     "data": {
      "image/png": "[encoded data removed]",
      "text/plain": [
       "<matplotlib.figure.Figure at 0x1a6147d5470>"
      ]
     },
     "metadata": {},
     "output_type": "display_data"
    }
   ],
   "source": [
    "Co=[Cxo, Cso,0, 0, 0]                     # [Cxo, Cso, Ce, Co, Cco2] in cmol/L\n",
    "tmax=70                                  # Integrate for 120 hours  \n",
    "tspan=numpy.linspace(0,tmax,121)           # define the timespan of the integration\n",
    "Ci = odeint(ferm_eq, Co, tspan)             # integration via odeint that calls apon ferm_eq\n",
    "\n",
    "Cx, Cs, Cp, Co, Cco2 = Ci.T\n",
    "\n",
    "plt.figure(1)\n",
    "plt.plot(tspan, Cx, color='blue', label='Cx')\n",
    "plt.plot(tspan, Cs, color='red', label='Cs')\n",
    "plt.plot(tspan, Cp, color='green', label='Cp')\n",
    "plt.legend(loc='best')\n",
    "plt.ylabel('Concentration cmol/L') \n",
    "plt.xlabel('time (h)') \n",
    "plt.show()"
   ]
  },
  {
   "cell_type": "markdown",
   "metadata": {},
   "source": [
    "Your answer should look something like this:\n",
    "\n",
    "<img src=\"tut11_ans.png\" width=\"650\" />"
   ]
  },
  {
   "cell_type": "markdown",
   "metadata": {},
   "source": [
    "Play around with the rates to examine the different phases of the fermentation.\n"
   ]
  },
  {
   "cell_type": "markdown",
   "metadata": {
    "collapsed": true
   },
   "source": [
    "[Back to all tutorials](https://nbviewer.jupyter.org/github/willienicol/Biochemical-engineering-notes/blob/master/Tutorials/All%20tutorials.ipynb)"
   ]
  },
  {
   "cell_type": "code",
   "execution_count": null,
   "metadata": {},
   "outputs": [],
   "source": []
  }
 ],
 "metadata": {
  "kernelspec": {
   "display_name": "Python 3",
   "language": "python",
   "name": "python3"
  },
  "language_info": {
   "codemirror_mode": {
    "name": "ipython",
    "version": 3
   },
   "file_extension": ".py",
   "mimetype": "text/x-python",
   "name": "python",
   "nbconvert_exporter": "python",
   "pygments_lexer": "ipython3",
   "version": "3.6.4"
  }
 },
 "nbformat": 4,
 "nbformat_minor": 1
}
