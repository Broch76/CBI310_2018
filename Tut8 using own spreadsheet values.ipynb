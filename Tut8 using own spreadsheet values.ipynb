{
 "cells": [
  {
   "cell_type": "code",
   "execution_count": 5,
   "metadata": {},
   "outputs": [],
   "source": [
    "import numpy\n",
    "import pandas\n",
    "from numpy import matrix, linalg, linspace, interp, asarray, argmax\n",
    "from scipy.integrate import odeint\n",
    "from scipy.stats import linregress \n",
    "import matplotlib.pyplot as plt\n",
    "%matplotlib inline"
   ]
  },
  {
   "cell_type": "markdown",
   "metadata": {},
   "source": [
    "FLOW BALANCE:\n",
    "\n",
    "1)r0 = (1+alpha)r1 + r2\n",
    "\n",
    "2)r2 = r3 + r4\n",
    "\n",
    "3)r3 = r6 + r7 + r8\n",
    "\n",
    "Stoichiometric equations:\n",
    "\n",
    "4)r4 = (3/4)r5\n",
    "\n",
    "5)r8 = (2/3)r3\n",
    "\n",
    "NADH Balance:\n",
    "\n",
    "6)beta*r1 + (1/3)r2 - (1/2)r5 + r7 = 0\n",
    "\n",
    "ATP Balance:\n",
    "\n",
    "7)-gamma*r1 + (1/3)r3 + (1/3)r4 + (1/6)r5 + (1/2)r8 = 0\n",
    "\n",
    "Basis:\n",
    "\n",
    "8)r1 = mu = 0.15\n",
    "\n",
    "Specification:\n",
    "\n",
    "9) r6 = 0"
   ]
  },
  {
   "cell_type": "code",
   "execution_count": 6,
   "metadata": {},
   "outputs": [],
   "source": [
    "def response_fun(C):\n",
    "    if C[1]<=0:               # glucose concentration\n",
    "        return [0,0,0,0,0]      # all zero rates when there is no glucose\n",
    "            \n",
    "    else:\n",
    "        mu, theta= 0.15, 0.10\n",
    "                \n",
    "        import pandas, numpy\n",
    "        S = numpy.matrix(pandas.read_excel('Tut8eqOWN.xlsx'))\n",
    "        S1 = numpy.vstack([S,[0,1,0,0,0,0,0,0,0],[0,0,0,0,0,0,1,0,0]]) # Adding mu and zero PFL spec.\n",
    "\n",
    "        K = numpy.matrix([0, 0, 0, 0, 0, 0, theta, mu, 0]).T\n",
    "        r = numpy.linalg.solve(S1, K) \n",
    "        \n",
    "    \n",
    "        return [r[1,0],   # important to see the order of the rates (X,S,SA,F,A)\n",
    "               -r[0,0],   # glucose, note the negative since the flux model calculated (-rs)\n",
    "                r[5,0],   # Succinic acid\n",
    "                r[6,0],   # Fumarate\n",
    "                r[8,0]]   # Acetic Acid"
   ]
  },
  {
   "cell_type": "code",
   "execution_count": 7,
   "metadata": {},
   "outputs": [],
   "source": [
    "def ferm_eq(C,t):\n",
    "    Cx, Cs, Csa, Cf, Ca = C[0],C[1],C[2],C[3],C[4]  # order of components very important \n",
    "    r=response_fun([Cx, Cs, Csa, Cf, Ca])      # this is the 'fetching' from the response function\n",
    "    \n",
    "    return [r[0]*Cx,\n",
    "            r[1]*Cx,    \n",
    "            r[2]*Cx,\n",
    "            r[3]*Cx,\n",
    "            r[4]*Cx]"
   ]
  },
  {
   "cell_type": "code",
   "execution_count": 8,
   "metadata": {},
   "outputs": [
    {
     "data": {
      "image/png": "[encoded data removed]",
      "text/plain": [
       "<matplotlib.figure.Figure at 0x2ad76250240>"
      ]
     },
     "metadata": {},
     "output_type": "display_data"
    }
   ],
   "source": [
    "Co=[0.001, 100/30,0,0,0]                   # [Cxo, Cso, Csao, Cfo, Cao] in cmol/L\n",
    "tmax=60                                 # Integrate for 20 hours  \n",
    "tspan=numpy.linspace(0,tmax,500)           # define the timespan of the integration\n",
    "C = odeint(ferm_eq, Co, tspan)             # integration via odeint that calls upon ferm_eq\n",
    "\n",
    "Cx, Cs, Csa, Cf, Ca = C.T\n",
    "\n",
    "plt.plot(tspan, Ca, color='orange', label='a')\n",
    "plt.plot(tspan, Cf, color='blue', label='f')\n",
    "plt.plot(tspan, Csa, color='cyan', label='sa')\n",
    "plt.plot(tspan, Cs, color='red',label='s')\n",
    "plt.plot(tspan, Cx, color='green',label='x')\n",
    "plt.legend(loc='best')\n",
    "plt.ylabel('Concentration cmol/L') \n",
    "plt.xlabel('time (h)') \n",
    "plt.show()\n"
   ]
  },
  {
   "cell_type": "code",
   "execution_count": null,
   "metadata": {},
   "outputs": [],
   "source": []
  }
 ],
 "metadata": {
  "kernelspec": {
   "display_name": "Python 3",
   "language": "python",
   "name": "python3"
  },
  "language_info": {
   "codemirror_mode": {
    "name": "ipython",
    "version": 3
   },
   "file_extension": ".py",
   "mimetype": "text/x-python",
   "name": "python",
   "nbconvert_exporter": "python",
   "pygments_lexer": "ipython3",
   "version": "3.6.4"
  }
 },
 "nbformat": 4,
 "nbformat_minor": 2
}
