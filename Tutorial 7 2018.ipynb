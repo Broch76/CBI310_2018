{
 "cells": [
  {
   "cell_type": "markdown",
   "metadata": {},
   "source": [
    "### Tutorial 7\n",
    "\n",
    "$$\\frac{dC_1}{dt}=r_1C_1 $$\n",
    "\n",
    "\n",
    "\n",
    "$$\\frac{dC_2}{dt}=r_2C_1 $$\n",
    "\n",
    "\n",
    "\n",
    "$$r_1-2r_2=\\frac{-C_1}{C_2}$$\n",
    "\n",
    "\n",
    "\n",
    "$$2r_1-3r_3=-C_2$$\n",
    "\n",
    "\n",
    "\n",
    "$$r_1-r_2+r_3=\\frac{5}{C_2} $$\n",
    "\n",
    "\n",
    "\n",
    "$$ C_1(0)=15 \\,\\, , C_2(0)=2 $$ \n",
    "\n",
    "\n",
    "\n",
    "Plot the values of $C_1$ and $C_2$ from $t=0$ to $t=1$:\n",
    "\n",
    "Take the formulation from **tut 0**:\n"
   ]
  },
  {
   "cell_type": "markdown",
   "metadata": {},
   "source": [
    "Start by writing the 3 algebraic equations in matrix format and define a 'response function' in terms of $C_1$ and $C_2$.\n",
    "\n",
    "Define the differential equations as the 'fermenter equation' and integrate with odeint.\n",
    "\n",
    "The answer should look like this:\n",
    "\n",
    "<img src=\"tut7ans.png\" width=\"400\" />\n"
   ]
  },
  {
   "cell_type": "code",
   "execution_count": 8,
   "metadata": {},
   "outputs": [],
   "source": [
    "import numpy \n",
    "from matplotlib import pyplot as plt\n",
    "from scipy.integrate import odeint\n",
    "%matplotlib inline"
   ]
  },
  {
   "cell_type": "code",
   "execution_count": 9,
   "metadata": {},
   "outputs": [],
   "source": [
    "C1init = 15\n",
    "C2init = 2"
   ]
  },
  {
   "cell_type": "code",
   "execution_count": 10,
   "metadata": {},
   "outputs": [
    {
     "data": {
      "image/png": "[encoded data removed]",
      "text/plain": [
       "<matplotlib.figure.Figure at 0x244b84a0390>"
      ]
     },
     "metadata": {},
     "output_type": "display_data"
    }
   ],
   "source": [
    "#Functions\n",
    "def resp_func(C):\n",
    "    C1, C2 =C[0],C[1]\n",
    "       \n",
    "    S = numpy.matrix([[1,-2,0],\n",
    "                      [2,0,-3],\n",
    "                      [1,-1,1]])\n",
    "    U = numpy.matrix([-C1/C2,-C2,5/C2]).T\n",
    "    r = numpy.linalg.solve(S, U) \n",
    "        \n",
    "    \n",
    "    return [r[0,0],   \n",
    "            r[1,0],\n",
    "            r[2,0]]\n",
    "\n",
    "def ferm_eq(C,t):\n",
    "    C1, C2 = C[0],C[1]         # order of components very important \n",
    "    r=resp_func([C1, C2])      # this is the 'fetching' from the response function\n",
    "    \n",
    "    return [r[0]*C1,   #DE1\n",
    "            r[1]*C1]   #DE2 \n",
    "\n",
    "#Integration\n",
    "\n",
    "t=numpy.linspace(0,1,100)\n",
    "C = odeint(ferm_eq,[C1init,C2init], t)\n",
    "\n",
    "C1=C[:,0]                                  \n",
    "C2=C[:,1]\n",
    "\n",
    "\n",
    "plt.plot(t, C1, color='blue', label='C1')\n",
    "plt.plot(t, C2, color='red',label='C2')\n",
    "plt.axis([0,1, 2, 18])\n",
    "plt.legend(loc='best')\n",
    "plt.ylabel('Concentration cmol/L') \n",
    "plt.xlabel('Time (h)') \n",
    "plt.show()"
   ]
  },
  {
   "cell_type": "code",
   "execution_count": null,
   "metadata": {},
   "outputs": [],
   "source": []
  }
 ],
 "metadata": {
  "kernelspec": {
   "display_name": "Python 3",
   "language": "python",
   "name": "python3"
  },
  "language_info": {
   "codemirror_mode": {
    "name": "ipython",
    "version": 3
   },
   "file_extension": ".py",
   "mimetype": "text/x-python",
   "name": "python",
   "nbconvert_exporter": "python",
   "pygments_lexer": "ipython3",
   "version": "3.6.4"
  }
 },
 "nbformat": 4,
 "nbformat_minor": 2
}
