{
 "cells": [
  {
   "cell_type": "code",
   "execution_count": 1,
   "metadata": {},
   "outputs": [],
   "source": [
    "from __future__ import division\n",
    "import numpy\n",
    "import pandas\n",
    "import matplotlib.pyplot as plt\n",
    "from numpy import matrix, linalg, linspace, interp, asarray, argmax\n",
    "from scipy.integrate import odeint\n",
    "from scipy.stats import linregress \n",
    "%matplotlib inline\n",
    "#%matplotlib notebook"
   ]
  },
  {
   "cell_type": "markdown",
   "metadata": {},
   "source": [
    "## Fed-batch fermentation\n",
    "\n",
    "As example we'll use a _Lactobacillus_ strain that is severely inhibited by high glucose concentrations. Lactic acid will be the sole excreted metabolite in the example. Let's jump in by setting up the flux model for the organism. The necessary theory will follow as we progress through the problem. The metabolic map is given below:\n",
    "\n",
    "<img src=\"lacmap1.png\" width=\"450\" />"
   ]
  },
  {
   "cell_type": "markdown",
   "metadata": {},
   "source": [
    "The following physiological parameters will be used:\n",
    "\n",
    "\n",
    "|$\\alpha \\qquad \\qquad$|$\\gamma \\qquad \\qquad $|$\\mu_{max} \\qquad$|$\\theta_{max}\\qquad$\n",
    "|----|-|-|-\n",
    "|$\\frac{cmol\\,CO_2}{cmol \\, X}$|$\\frac{mol \\, ATP}{Cmol \\, X}$|$\\frac{1}{h}$|$\\frac{mol \\, ATP}{cmol\\,X\\cdot h}$\n",
    "|0.05|1.8|0.4|0.09\n",
    "\n",
    "Let's assume the standard biomass formula of $CH_{1.8}O_{0.5}N_{0.2}$.\n",
    "\n",
    "The growth and maintenance functions are given below:\n",
    "\n",
    "$$\\mu=\\mu_{max}\\left[\\frac{Cs}{Km+Cs}\\right] \\left[1+\\frac{C_P}{K_P} \\right]^{-1} \\left[1+\\frac{C_S}{K_S} \\right]^{-1}$$\n",
    "\n",
    "$$\\theta=\\theta_{max}\\left[\\frac{Cs}{Km+Cs}\\right]$$\n",
    "\n",
    "Parameters are defined in the cell below:"
   ]
  },
  {
   "cell_type": "code",
   "execution_count": 2,
   "metadata": {},
   "outputs": [],
   "source": [
    "Km, Kp, Ks = 0.001, 4, 0.5"
   ]
  },
  {
   "cell_type": "code",
   "execution_count": 3,
   "metadata": {},
   "outputs": [],
   "source": [
    "alpha = 0.05 #cmolCO2/cmolX\n",
    "gamma = 1.8 #molATP/cmolX\n",
    "mumax = 0.4 #1/h\n",
    "thetamax = 0.09 #molATP/cmolX/h"
   ]
  },
  {
   "cell_type": "markdown",
   "metadata": {},
   "source": [
    "Let's start by plotting the glucose inhibition characteristics. Ignore the formation of product for now and plot $\\mu$ as a function of $C_S$."
   ]
  },
  {
   "cell_type": "code",
   "execution_count": 4,
   "metadata": {},
   "outputs": [
    {
     "data": {
      "text/plain": [
       "-8.326672684688674e-17"
      ]
     },
     "execution_count": 4,
     "metadata": {},
     "output_type": "execute_result"
    }
   ],
   "source": [
    "DOR = numpy.matrix([[-1, 0, 1, 1, 0],\n",
    "                   [-4, 0, 4.2, 0, 2],\n",
    "                   [0, -1, 0.2, 0, 0],\n",
    "                   [0, 0, 1, 0, 0],\n",
    "                   [0, 0, 0, 1, 0]])\n",
    "\n",
    "C = numpy.matrix([0, 0, 0, 1, alpha]).T\n",
    "\n",
    "DORrates = numpy.linalg.solve(DOR,C)\n",
    "\n",
    "beta = DORrates[4,0]\n",
    "\n",
    "beta"
   ]
  },
  {
   "cell_type": "code",
   "execution_count": 5,
   "metadata": {},
   "outputs": [],
   "source": [
    "Cs = linspace(0, 7, 100)"
   ]
  },
  {
   "cell_type": "code",
   "execution_count": 6,
   "metadata": {},
   "outputs": [],
   "source": [
    "mu = mumax*(1/(1 + (Cs/Ks)))#(Cs/(Km + Cs))#"
   ]
  },
  {
   "cell_type": "code",
   "execution_count": 7,
   "metadata": {},
   "outputs": [
    {
     "data": {
      "image/png": "[encoded data removed]",
      "text/plain": [
       "<matplotlib.figure.Figure at 0x15a37aad278>"
      ]
     },
     "metadata": {},
     "output_type": "display_data"
    }
   ],
   "source": [
    "plt.figure(1)\n",
    "plt.plot(Cs,mu, color='cyan',label='mu')\n",
    "plt.ylabel('mu (1/h)') \n",
    "plt.xlabel('Cs (cmol/L)') \n",
    "plt.show()"
   ]
  },
  {
   "cell_type": "markdown",
   "metadata": {},
   "source": [
    "Set up the response function and integrate a batch fermenter where $C_{Xo}$ and $C_{So}$ is given by:"
   ]
  },
  {
   "cell_type": "code",
   "execution_count": 8,
   "metadata": {},
   "outputs": [],
   "source": [
    "Cxo=0.003  #cmol\\L\n",
    "Cso=6      #cmol/L\n",
    "Claco = 0"
   ]
  },
  {
   "cell_type": "code",
   "execution_count": 9,
   "metadata": {},
   "outputs": [],
   "source": [
    "def response_fun(C):\n",
    "    \n",
    "    Cx, Cs, Clac= C[0],C[1],C[2]  #Same component order as in the ferm-eq\n",
    "    Cp = Clac\n",
    "                                       \n",
    "    mu1=mumax*(Cs/(Km + Cs))*((1 + (Cp/Kp))**(-1))*((1 + (Cs/Ks))**(-1))\n",
    "    theta=thetamax*(Cs/(Km + Cs))\n",
    "    \n",
    "    if mu1 < 0.0001:   #Negative values of mu set to zero\n",
    "        mu=0 \n",
    "    else:\n",
    "        mu=mu1\n",
    "  \n",
    "    Sbase = numpy.matrix([[-1,(1+alpha),1],   #Stoichiometric matrix without specification (4x5)\n",
    "                          [0,(-1)*gamma,1/3]])\n",
    "    \n",
    "    S1 = numpy.vstack([Sbase,[0,1,0]])  #Stoich matrix with growth spec\n",
    "      \n",
    "    C= numpy.matrix([[0,theta, mu]]).T\n",
    "    r = numpy.linalg.solve(S1,C)             \n",
    "    \n",
    "    return [r[1,0],   # important to see the order of the rates (X,S,LAC)\n",
    "           -r[0,0],   # glucose, note the negative since the flux model calculated (-rs)\n",
    "            r[2,0]]   # LAC"
   ]
  },
  {
   "cell_type": "code",
   "execution_count": 10,
   "metadata": {},
   "outputs": [],
   "source": [
    "def ferm_eq(C,t):\n",
    "    Cx, Cs, Clac= C[0],C[1],C[2] # order of components very important \n",
    "    r=response_fun([Cx, Cs, Clac])      # this is the 'fetching' from the response function\n",
    "    \n",
    "    return [r[0]*Cx,    #X\n",
    "            r[1]*Cx,    #glucose\n",
    "            r[2]*Cx]    #LA"
   ]
  },
  {
   "cell_type": "code",
   "execution_count": 11,
   "metadata": {},
   "outputs": [
    {
     "data": {
      "image/png": "[encoded data removed]",
      "text/plain": [
       "<matplotlib.figure.Figure at 0x15a37dad240>"
      ]
     },
     "metadata": {},
     "output_type": "display_data"
    }
   ],
   "source": [
    "Co=[Cxo, Cso, Claco]                     # [Cxo, Cso, Cpo] in cmol/L\n",
    "tmax=180                                    \n",
    "tspan=numpy.linspace(0,tmax,200)           \n",
    "Ci = odeint(ferm_eq, Co, tspan)\n",
    "\n",
    "Cx=Ci[:,0]                                  \n",
    "Cs=Ci[:,1]\n",
    "Clac=Ci[:,2]\n",
    "\n",
    "plt.figure(2)\n",
    "plt.plot(tspan, Cs, color='red',label='Cs')\n",
    "plt.plot(tspan, Cx, color='blue',label='Cx')\n",
    "plt.plot(tspan, Clac, color='green', label='Clac')\n",
    "plt.legend(loc='best')\n",
    "plt.ylabel('Concentration cmol/L') \n",
    "plt.xlabel('time (h)') \n",
    "plt.show()"
   ]
  },
  {
   "cell_type": "markdown",
   "metadata": {},
   "source": [
    "Repeat the integration but omit the substrate inhibition term, accordingly:\n",
    "\n",
    "$$\\mu=\\mu_{max}\\left[\\frac{Cs}{Km+Cs}\\right] \\left[1+\\frac{C_P}{K_P} \\right]^{-1} $$\n",
    "\n",
    "Compare the profiles of the two scenarios. You should get something like this:\n",
    "\n",
    "<img src=\"batch_compare1.png\" width=\"850\" />\n"
   ]
  },
  {
   "cell_type": "code",
   "execution_count": 12,
   "metadata": {},
   "outputs": [],
   "source": [
    "def response_fun1(C):\n",
    "    \n",
    "    Cx, Cs, Clac= C[0],C[1],C[2]  #Same component order as in the ferm-eq\n",
    "    Cp = Clac\n",
    "                                       \n",
    "    mu1=mumax*(Cs/(Km + Cs))*((1 + (Cp/Kp))**(-1))\n",
    "    theta=thetamax*(Cs/(Km + Cs))\n",
    "    \n",
    "    if mu1 < 0.0001:   #Negative values of mu set to zero\n",
    "        mu=0 \n",
    "    else:\n",
    "        mu=mu1\n",
    "  \n",
    "    Sbase = numpy.matrix([[-1,(1+alpha),1],   #Stoichiometric matrix without specification (4x5)\n",
    "                          [0,(-1)*gamma,1/3]])\n",
    "    \n",
    "    S1 = numpy.vstack([Sbase,[0,1,0]])  #Stoich matrix with growth spec\n",
    "      \n",
    "    C= numpy.matrix([[0,theta, mu]]).T\n",
    "    r = numpy.linalg.solve(S1,C)             \n",
    "    \n",
    "    return [r[1,0],   # important to see the order of the rates (X,S,LAC)\n",
    "           -r[0,0],   # glucose, note the negative since the flux model calculated (-rs)\n",
    "            r[2,0]]   # LAC"
   ]
  },
  {
   "cell_type": "code",
   "execution_count": 13,
   "metadata": {},
   "outputs": [],
   "source": [
    "def ferm_eq1(C,t):\n",
    "    Cx, Cs, Clac= C[0],C[1],C[2] # order of components very important \n",
    "    r=response_fun1([Cx, Cs, Clac])      # this is the 'fetching' from the response function\n",
    "    \n",
    "    return [r[0]*Cx,    #X\n",
    "            r[1]*Cx,    #glucose\n",
    "            r[2]*Cx]    #LA"
   ]
  },
  {
   "cell_type": "code",
   "execution_count": 14,
   "metadata": {},
   "outputs": [],
   "source": [
    "Co=[Cxo, Cso, Claco]                     # [Cxo, Cso, Cpo] in cmol/L\n",
    "tmax1=40\n",
    "\n",
    "tspan1=numpy.linspace(0,tmax1,200)           \n",
    "Ci1 = odeint(ferm_eq1, Co, tspan1)\n",
    "\n",
    "Cx1=Ci1[:,0]                                  \n",
    "Cs1=Ci1[:,1]\n",
    "Clac1=Ci1[:,2]"
   ]
  },
  {
   "cell_type": "code",
   "execution_count": 15,
   "metadata": {},
   "outputs": [
    {
     "data": {
      "image/png": "[encoded data removed]",
      "text/plain": [
       "<matplotlib.figure.Figure at 0x15a38db4240>"
      ]
     },
     "metadata": {},
     "output_type": "display_data"
    }
   ],
   "source": [
    "plt.figure(3)\n",
    "plt.plot(tspan1, Cs1, color='red',label='Cs1')\n",
    "plt.plot(tspan1, Cx1, color='blue',label='Cx1')\n",
    "plt.plot(tspan1, Clac1, color='green', label='Clac1')\n",
    "plt.legend(loc='best')\n",
    "plt.ylabel('Concentration cmol/L') \n",
    "plt.xlabel('time (h)') \n",
    "plt.show()"
   ]
  },
  {
   "cell_type": "markdown",
   "metadata": {},
   "source": [
    "We now want to adress the issue by gradually adding glucose to the fermenter. To do this we need to consider the original cmol component balance given in [section 5.3](https://nbviewer.jupyter.org/github/willienicol/Biochemical-engineering-notes/blob/master/5%20Basic%20bioreactor%20modeling/The%20fermenter%20equation.ipynb):\n",
    "\n",
    "$$\\frac{dN_i}{dt}=Q^F C^F_i-QC_i  + r_i C_X V $$  \n",
    "\n",
    "Since there will be no outlet flow from the fermenter, the equation will reduce to:\n",
    "\n",
    "$$\\frac{dN_i}{dt}=Q^F C^F_i + r_i C_X V $$\n",
    "\n",
    "Note that the superscript $^F$ is used for the feed stream. The change in fermenter volume will be given by:\n",
    "\n",
    "$$\\frac{dV}{dt}=Q^F$$\n",
    "\n",
    "To incorporate these equations we need to alter the fermenter equation in the code. The easiest route is to integrate the cmol amounts ($N_i$) and to calculate concentration afterwards given the known cmol amounts and volume ($C_i=\\frac{Ni}{V}$). The response function will remain the same and will still be described by concentrations. We will also add volume ($V$) as an additional variable to the fermenter equation in order to incorporate the volume change within the fermenter equation. Below is the incomplete fermentation equation:\n"
   ]
  },
  {
   "cell_type": "code",
   "execution_count": 16,
   "metadata": {},
   "outputs": [],
   "source": [
    "def response_fun2(C):\n",
    "    \n",
    "    Cx, Cs, Clac= C[0],C[1],C[2]  #Same component order as in the ferm-eq\n",
    "    Cp = Clac\n",
    "                                       \n",
    "    mu1=mumax*(Cs/(Km + Cs))*(1/(1 + (Cp/Kp)))*(1/(1 + (Cs/Ks)))\n",
    "    theta=thetamax*(Cs/(Km + Cs))\n",
    "    \n",
    "    if mu1 < 0.0001:   #Negative values of mu set to zero\n",
    "        mu=0 \n",
    "    else:\n",
    "        mu=mu1\n",
    "  \n",
    "    Sbase = numpy.matrix([[-1,(1+alpha),1],   #Stoichiometric matrix without specification (4x5)\n",
    "                          [0,(-1)*gamma,1/3]])\n",
    "    \n",
    "    S1 = numpy.vstack([Sbase,[0,1,0]])  #Stoich matrix with growth spec\n",
    "      \n",
    "    C= numpy.matrix([[0,theta, mu]]).T\n",
    "    r = numpy.linalg.solve(S1,C)             \n",
    "    \n",
    "    return [r[1,0],   # important to see the order of the rates (X,S,LAC)\n",
    "           -r[0,0],   # glucose, note the negative since the flux model calculated (-rs)\n",
    "            r[2,0]]   # LAC"
   ]
  },
  {
   "cell_type": "code",
   "execution_count": 17,
   "metadata": {},
   "outputs": [],
   "source": [
    "def ferm_eq2(N,t):\n",
    "    Cx, Cs, Clac, V = N[0]/N[3],N[1]/N[3],N[2]/N[3],N[3] # defining concentration and volume, Note that N=[Nx,Ns,Np,V]\n",
    "    r=response_fun2([Cx, Cs, Clac])      # this is the 'fetching' from the response function\n",
    "    \n",
    "    return [r[0]*Cx*V,    #X\n",
    "            Qf*Csf + r[1]*Cx*V,    #glucose\n",
    "            r[2]*Cx*V,  #lac \n",
    "            Qf]   #change in fermenter volume"
   ]
  },
  {
   "cell_type": "markdown",
   "metadata": {},
   "source": [
    "Make sure you understand that $N=[N_X, N_S, N_P, V]$ is passed between the integration function (**odeint**) and the fermentation equation (**ferm_eq**). The initial condition will thus consist out of cmol amounts and volume and not just concentrations like we had in our batch fermenter models.\n",
    "\n",
    "In the end we still want to plot concentrations. These can be obtained after the integration is completed by merely dividing with the volume at the specific instant in time:\n",
    "\n",
    "$$C_i(t)=\\frac{N_i(t)}{V(t)}$$\n",
    "\n",
    "To test whether you understand the description above, you need to model the fed-batch fermenter on your own. You can use the following conditions:"
   ]
  },
  {
   "cell_type": "code",
   "execution_count": 18,
   "metadata": {},
   "outputs": [],
   "source": [
    "V, Csf, Qf = 1000, 400/30, 8  #L, cmol/L, L/h\n",
    "Cso2, Cxo2 = 0.1, 0.003          #cmol/l"
   ]
  },
  {
   "cell_type": "code",
   "execution_count": 19,
   "metadata": {},
   "outputs": [],
   "source": [
    "No=[Cxo2*V, Cso2*V, Claco*V, V]                     # [Cxo, Cso, Cpo] in cmol/L\n",
    "tmax2=160\n",
    "tspan2=numpy.linspace(0,tmax2,500)\n",
    "Ni = odeint(ferm_eq2, No, tspan2)\n",
    "\n",
    "Cx2=Ni[:,0]/Ni[:,3]\n",
    "Cs2=Ni[:,1]/Ni[:,3]\n",
    "Clac2=Ni[:,2]/Ni[:,3]\n",
    "V2=Ni[:,3]"
   ]
  },
  {
   "cell_type": "code",
   "execution_count": 20,
   "metadata": {},
   "outputs": [
    {
     "data": {
      "image/png": "[encoded data removed]",
      "text/plain": [
       "<matplotlib.figure.Figure at 0x15a38ed2668>"
      ]
     },
     "metadata": {},
     "output_type": "display_data"
    }
   ],
   "source": [
    "plt.figure(4)\n",
    "plt.plot(tspan2, Clac2, color='blue', label='Clac2')\n",
    "plt.plot(tspan2, Cs2, color='red',label='Cs2')\n",
    "plt.plot(tspan2, Cx2, color='green',label='Cx2')\n",
    "plt.legend(loc='best')\n",
    "plt.ylabel('Concentration cmol/L') \n",
    "plt.xlabel('time (h)') \n",
    "plt.show()"
   ]
  },
  {
   "cell_type": "markdown",
   "metadata": {},
   "source": [
    "If you calculate the volume after 120 hours you will note that the fermenter volume has almost doubled (1960 $L$). The fermentation has to stop when the fermenter is full and this will depend on the physical size of the fermenter itself. We will base the productivity of the fermenter on the final liquid volume of the fermenter. Compare the productivity of the batch and fed-batch system, by using the final product concentration in the batch fermenter as the endpoint. \n",
    "\n",
    "[1.07 & 1.5 $\\frac{g}{L \\cdot h}$] "
   ]
  },
  {
   "cell_type": "code",
   "execution_count": 21,
   "metadata": {},
   "outputs": [
    {
     "name": "stdout",
     "output_type": "stream",
     "text": [
      "FedBatch Vfinal= 1960.0000000000023 L\n"
     ]
    }
   ],
   "source": [
    "V2f = interp(120,tspan2,V2)\n",
    "print('FedBatch Vfinal=',V2f, 'L')\n"
   ]
  },
  {
   "cell_type": "code",
   "execution_count": 22,
   "metadata": {},
   "outputs": [
    {
     "data": {
      "text/plain": [
       "155.5751297222525"
      ]
     },
     "execution_count": 22,
     "metadata": {},
     "output_type": "execute_result"
    }
   ],
   "source": [
    "tdone = interp(0.001,Cs[::-1],tspan[::-1]) #on batch with all inhibition factors\n",
    "tdone"
   ]
  },
  {
   "cell_type": "code",
   "execution_count": 23,
   "metadata": {},
   "outputs": [
    {
     "data": {
      "text/plain": [
       "5.518409716234926"
      ]
     },
     "execution_count": 23,
     "metadata": {},
     "output_type": "execute_result"
    }
   ],
   "source": [
    "Clacmax = max(Clac)\n",
    "Clacmax"
   ]
  },
  {
   "cell_type": "code",
   "execution_count": 24,
   "metadata": {},
   "outputs": [
    {
     "data": {
      "text/plain": [
       "1.0641308272254533"
      ]
     },
     "execution_count": 24,
     "metadata": {},
     "output_type": "execute_result"
    }
   ],
   "source": [
    "Pbatch = max(Clac)/tdone*30\n",
    "Pbatch"
   ]
  },
  {
   "cell_type": "code",
   "execution_count": 25,
   "metadata": {},
   "outputs": [
    {
     "data": {
      "text/plain": [
       "6.493721774139464"
      ]
     },
     "execution_count": 25,
     "metadata": {},
     "output_type": "execute_result"
    }
   ],
   "source": [
    "findClac2F = interp(tdone,tspan2,Clac2)\n",
    "findClac2F #this is the Product of the fedbatch at the time the batch system stopped"
   ]
  },
  {
   "cell_type": "code",
   "execution_count": 26,
   "metadata": {},
   "outputs": [
    {
     "data": {
      "text/plain": [
       "1.2522030582393227"
      ]
     },
     "execution_count": 26,
     "metadata": {},
     "output_type": "execute_result"
    }
   ],
   "source": [
    "Pfedferm = findClac2F/tdone*30\n",
    "Pfedferm"
   ]
  },
  {
   "cell_type": "markdown",
   "metadata": {},
   "source": [
    "The glucose concentration against time had an interesting characteristic. There is an initial bump followed by an **almost zero** 'regime' of $C_S$. This relates to the amount of biomass in the fermenter ($C_X$) and the constant addition rate of glucose. Initially $C_X$ is not enough to consume all the added glucose and accordingly there is accumulation of glucose. As $C_X$ is increased the condition is reversed up to the point where **all glucose fed is immediately consumed**. This occurs at around 43 hours. For the remainder of the fermentation the glucose addition rate controls the growth and production of lactic acid. Play around with changing $Q^F$ and see whether the profiles make sense. Remember that high $C_S$ will inhibit $\\mu$ and that the magnitude of $\\mu$ determines the uptake of glucose."
   ]
  },
  {
   "cell_type": "markdown",
   "metadata": {},
   "source": [
    "Let's now plot $\\mu$ as a function of time."
   ]
  },
  {
   "cell_type": "code",
   "execution_count": 27,
   "metadata": {},
   "outputs": [
    {
     "data": {
      "image/png": "[encoded data removed]",
      "text/plain": [
       "<matplotlib.figure.Figure at 0x15a38e4b6a0>"
      ]
     },
     "metadata": {},
     "output_type": "display_data"
    }
   ],
   "source": [
    "Ci=(Ni[:,:3].T/Ni[:,3]).T                   #first 3 elements of N divided by 4th element to get Ci, \n",
    "\n",
    "r=numpy.asarray([response_fun2(C) for C in Ci])\n",
    "\n",
    "rx2=r[:,0]\n",
    "rs2=r[:,1]\n",
    "rlac2=r[:,2]\n",
    "plt.plot(tspan2, rx2, color='blue',label='mu')\n",
    "plt.legend(loc='best')\n",
    "plt.ylabel('mu 1/h') \n",
    "plt.xlabel('time (h)') \n",
    "plt.show()"
   ]
  },
  {
   "cell_type": "markdown",
   "metadata": {},
   "source": [
    "Interesting. In the first regime up to 43 hours $\\mu$ is clearly influenced by $C_S$ where high $C_S$ gives low $\\mu$ values. This is a direct influence of the $\\left[1+\\frac{C_S}{K_S} \\right]^{-1}$ term.\n",
    "\n",
    "In the second regime beyond 43 hours we have a scenario where the $C_S$ values are very low and accordingly the Monod term ($ \\left[\\frac{Cs}{Km+Cs} \\right] $) has a major effect on $\\mu$. Note that though $C_S$ might appear to be approaching zero, it has a magnitude that controls the value of $\\mu$ that is non-zero as observed above.\n",
    "\n",
    "Considering the glucose balance we have the following:\n",
    "\n",
    "$$\\frac{dN_S}{dt}=Q^F C^F_S + r_S C_X V $$\n",
    "\n",
    "Determine the value of the two non-differential terms at 90 and 120 hours [106.67 and -106.67 $\\frac{cmol}{h}$ for both times]\n",
    "\n",
    "This should tell you that whatever gets added, gets consumed and that no accumulation of glucose is occurring. The chemical engineer will say that the glucose balance is at steady state. \n",
    "\n",
    "Convince yourself from the equation above that $r_S$ must decrease as time progress in regime 2. This will cause $\\mu$ to decrease as observed above.\n",
    "\n",
    "\n"
   ]
  },
  {
   "cell_type": "code",
   "execution_count": 28,
   "metadata": {},
   "outputs": [
    {
     "data": {
      "text/plain": [
       "8"
      ]
     },
     "execution_count": 28,
     "metadata": {},
     "output_type": "execute_result"
    }
   ],
   "source": [
    "Qf\n"
   ]
  },
  {
   "cell_type": "code",
   "execution_count": 29,
   "metadata": {},
   "outputs": [
    {
     "data": {
      "text/plain": [
       "13.333333333333334"
      ]
     },
     "execution_count": 29,
     "metadata": {},
     "output_type": "execute_result"
    }
   ],
   "source": [
    "Csf"
   ]
  },
  {
   "cell_type": "code",
   "execution_count": 30,
   "metadata": {},
   "outputs": [
    {
     "data": {
      "text/plain": [
       "106.66666666666667"
      ]
     },
     "execution_count": 30,
     "metadata": {},
     "output_type": "execute_result"
    }
   ],
   "source": [
    "NDE1 = Qf*Csf   #this remains constant\n",
    "NDE1"
   ]
  },
  {
   "cell_type": "code",
   "execution_count": 31,
   "metadata": {},
   "outputs": [
    {
     "data": {
      "text/plain": [
       "0.6728761608153633"
      ]
     },
     "execution_count": 31,
     "metadata": {},
     "output_type": "execute_result"
    }
   ],
   "source": [
    "Cx90=interp(90,tspan2,Cx2)\n",
    "Cx90"
   ]
  },
  {
   "cell_type": "code",
   "execution_count": 32,
   "metadata": {},
   "outputs": [
    {
     "data": {
      "text/plain": [
       "0.7938176024179369"
      ]
     },
     "execution_count": 32,
     "metadata": {},
     "output_type": "execute_result"
    }
   ],
   "source": [
    "Cx120=interp(120,tspan2,Cx2)\n",
    "Cx120"
   ]
  },
  {
   "cell_type": "code",
   "execution_count": 33,
   "metadata": {},
   "outputs": [
    {
     "data": {
      "text/plain": [
       "-0.09216550538167537"
      ]
     },
     "execution_count": 33,
     "metadata": {},
     "output_type": "execute_result"
    }
   ],
   "source": [
    "rs90=interp(90,tspan2,rs2)\n",
    "rs90"
   ]
  },
  {
   "cell_type": "code",
   "execution_count": 34,
   "metadata": {},
   "outputs": [
    {
     "data": {
      "text/plain": [
       "-0.06855728167251421"
      ]
     },
     "execution_count": 34,
     "metadata": {},
     "output_type": "execute_result"
    }
   ],
   "source": [
    "rs120=interp(120,tspan2,rs2)\n",
    "rs120"
   ]
  },
  {
   "cell_type": "code",
   "execution_count": 35,
   "metadata": {},
   "outputs": [
    {
     "data": {
      "text/plain": [
       "1720.0000000000018"
      ]
     },
     "execution_count": 35,
     "metadata": {},
     "output_type": "execute_result"
    }
   ],
   "source": [
    "V90=interp(90,tspan2,V2)\n",
    "V90"
   ]
  },
  {
   "cell_type": "code",
   "execution_count": 36,
   "metadata": {},
   "outputs": [
    {
     "data": {
      "text/plain": [
       "1960.0000000000023"
      ]
     },
     "execution_count": 36,
     "metadata": {},
     "output_type": "execute_result"
    }
   ],
   "source": [
    "V120=interp(120,tspan2,V2)\n",
    "V120"
   ]
  },
  {
   "cell_type": "code",
   "execution_count": 37,
   "metadata": {},
   "outputs": [
    {
     "data": {
      "text/plain": [
       "-106.66747084382672"
      ]
     },
     "execution_count": 37,
     "metadata": {},
     "output_type": "execute_result"
    }
   ],
   "source": [
    "NDE2 = rs90*Cx90*V90\n",
    "NDE2"
   ]
  },
  {
   "cell_type": "code",
   "execution_count": 38,
   "metadata": {},
   "outputs": [
    {
     "data": {
      "text/plain": [
       "-106.66707485251025"
      ]
     },
     "execution_count": 38,
     "metadata": {},
     "output_type": "execute_result"
    }
   ],
   "source": [
    "NDE3 = rs120*Cx120*V120\n",
    "NDE3"
   ]
  },
  {
   "cell_type": "markdown",
   "metadata": {},
   "source": [
    "Therefore, we confirm that after the firt regime (43hours or so), glucose change is zero. As it is supplied, it is consumed. Also, because the 2nd non-differential term is constant, as the concentration of biomass increases and the volume increases, the rate of glucose consumption HAS to drop."
   ]
  },
  {
   "cell_type": "markdown",
   "metadata": {},
   "source": [
    "### Further improving productivity:\n",
    "\n",
    "The issue in the fed-batch fermenter above was that we fed too much glucose initially (at low $C_X$) and too little towards the end of the fermentation (at high $C_X$). Let's consider increasing $Q^F$ as time progress. We can use the simple liner function:\n",
    "\n",
    "$$Q^F=kt$$\n",
    "\n",
    "Note that you will have to calculate $Q^F$ within the time dependent fermenter equation since it not a constant anymore. Use a k value of $1 \\frac{L}{h^2}$ and see if you can generate the following graph:\n",
    "\n",
    "<img src=\"fedbatch21.png\" width=\"600\" />\n"
   ]
  },
  {
   "cell_type": "code",
   "execution_count": 39,
   "metadata": {},
   "outputs": [],
   "source": [
    "V3, Csf3, k = 1000, 400/30, 1  #L, cmol/L, L/h/h\n",
    "Cso3, Cxo3 = 0.1, 0.003  "
   ]
  },
  {
   "cell_type": "code",
   "execution_count": 40,
   "metadata": {},
   "outputs": [],
   "source": [
    "def ferm_eq3(N,t):\n",
    "    Cx, Cs, Clac, V = N[0]/N[3],N[1]/N[3],N[2]/N[3],N[3] # defining concentration and volume, Note that N=[Nx,Ns,Np,V]\n",
    "    r=response_fun2([Cx, Cs, Clac])      # this is the 'fetching' from the response function\n",
    "    \n",
    "    Qf = k*t\n",
    "    \n",
    "    return [r[0]*Cx*V,    #X\n",
    "            Qf*Csf + r[1]*Cx*V,    #glucose\n",
    "            r[2]*Cx*V,  #lac \n",
    "            Qf]   #change in fermenter volume"
   ]
  },
  {
   "cell_type": "code",
   "execution_count": 41,
   "metadata": {},
   "outputs": [],
   "source": [
    "No3=[Cxo3*V3, Cso3*V3, Claco*V3, V3]                     # [Cxo, Cso, Cpo] in cmol/L\n",
    "tmax3=50\n",
    "tspan3=numpy.linspace(0,tmax3,500)\n",
    "Ni3 = odeint(ferm_eq3, No3, tspan3)\n",
    "\n",
    "Cx3=Ni3[:,0]/Ni3[:,3]\n",
    "Cs3=Ni3[:,1]/Ni3[:,3]\n",
    "Clac3=Ni3[:,2]/Ni3[:,3]\n",
    "V3=Ni3[:,3]"
   ]
  },
  {
   "cell_type": "code",
   "execution_count": 42,
   "metadata": {},
   "outputs": [
    {
     "data": {
      "image/png": "[encoded data removed]",
      "text/plain": [
       "<matplotlib.figure.Figure at 0x15a38fcae80>"
      ]
     },
     "metadata": {},
     "output_type": "display_data"
    }
   ],
   "source": [
    "plt.figure(5)\n",
    "plt.plot(tspan3, Clac3, color='blue', label='Clac3')\n",
    "plt.plot(tspan3, Cs3, color='red',label='Cs3')\n",
    "plt.plot(tspan3, Cx3, color='green',label='Cx3')\n",
    "plt.legend(loc='best')\n",
    "plt.ylabel('Concentration cmol/L') \n",
    "plt.xlabel('time (h)') \n",
    "plt.show()"
   ]
  },
  {
   "cell_type": "markdown",
   "metadata": {},
   "source": [
    "Convince yourself that the productivity at the previous $C_P$ final value is now $3.9 \\frac{g}{L \\cdot h}$. Much better than before, **but why?** What is the ever increasing value of  $Q^F$ doing to $\\mu$ and $r_P$ in the 'second regime'?\n",
    "\n",
    "Increase the k value to $1.2 \\frac{L}{h^2}$ and see if you can get this:\n",
    "\n",
    "<img src=\"fedbatch31.png\" width=\"600\" />"
   ]
  },
  {
   "cell_type": "code",
   "execution_count": 43,
   "metadata": {},
   "outputs": [
    {
     "data": {
      "text/plain": [
       "3.423326751412684"
      ]
     },
     "execution_count": 43,
     "metadata": {},
     "output_type": "execute_result"
    }
   ],
   "source": [
    "Clac2_50=interp(50,tspan2,Clac2)\n",
    "Clac2_50"
   ]
  },
  {
   "cell_type": "code",
   "execution_count": 44,
   "metadata": {},
   "outputs": [
    {
     "data": {
      "text/plain": [
       "2.0539960508476103"
      ]
     },
     "execution_count": 44,
     "metadata": {},
     "output_type": "execute_result"
    }
   ],
   "source": [
    "Pfedferm1 = Clac2_50/50*30 #the fed-fermentation batch at constant Qf\n",
    "Pfedferm1"
   ]
  },
  {
   "cell_type": "code",
   "execution_count": 45,
   "metadata": {},
   "outputs": [
    {
     "data": {
      "text/plain": [
       "3.887677819767313"
      ]
     },
     "execution_count": 45,
     "metadata": {},
     "output_type": "execute_result"
    }
   ],
   "source": [
    "Pfedferm3=max(Clac3)/50*30\n",
    "Pfedferm3"
   ]
  },
  {
   "cell_type": "code",
   "execution_count": 46,
   "metadata": {},
   "outputs": [],
   "source": [
    "#We can now see the same system with an increasing Qf has\n",
    "#a P of 3.9 g/L/h at 50hours vs 2.05 g/L/H with a constant Qf\n",
    "# the ever increasing Qf counteacts the monod effect on mu, although in this case not enough\n",
    "#the rs consumption does not drop as quickly"
   ]
  },
  {
   "cell_type": "code",
   "execution_count": 47,
   "metadata": {},
   "outputs": [],
   "source": [
    "V4, Csf4, k4 = 1000, 400/30, 1.2  #L, cmol/L, L/h/h\n",
    "Cso4, Cxo4 = 0.1, 0.003  "
   ]
  },
  {
   "cell_type": "code",
   "execution_count": 48,
   "metadata": {},
   "outputs": [],
   "source": [
    "def ferm_eq4(N,t):\n",
    "    Cx, Cs, Clac, V = N[0]/N[3],N[1]/N[3],N[2]/N[3],N[3] # defining concentration and volume, Note that N=[Nx,Ns,Np,V]\n",
    "    r=response_fun2([Cx, Cs, Clac])      # this is the 'fetching' from the response function\n",
    "    \n",
    "    Qf = k4*t\n",
    "    \n",
    "    return [r[0]*Cx*V,    #X\n",
    "            Qf*Csf + r[1]*Cx*V,    #glucose\n",
    "            r[2]*Cx*V,  #lac \n",
    "            Qf]   #change in fermenter volume"
   ]
  },
  {
   "cell_type": "code",
   "execution_count": 49,
   "metadata": {},
   "outputs": [],
   "source": [
    "No4=[Cxo4*V4, Cso4*V4, Claco*V4, V4]                     # [Cxo, Cso, Cpo] in cmol/L\n",
    "tmax4=50\n",
    "tspan4=numpy.linspace(0,tmax4,500)\n",
    "Ni4 = odeint(ferm_eq4, No4, tspan4)\n",
    "\n",
    "Cx4=Ni4[:,0]/Ni4[:,3]\n",
    "Cs4=Ni4[:,1]/Ni4[:,3]\n",
    "Clac4=Ni4[:,2]/Ni4[:,3]\n",
    "V4=Ni4[:,3]\n"
   ]
  },
  {
   "cell_type": "code",
   "execution_count": 50,
   "metadata": {},
   "outputs": [
    {
     "data": {
      "image/png": "[encoded data removed]",
      "text/plain": [
       "<matplotlib.figure.Figure at 0x15a390372b0>"
      ]
     },
     "metadata": {},
     "output_type": "display_data"
    }
   ],
   "source": [
    "plt.figure(6)\n",
    "plt.plot(tspan4, Clac4, color='blue', label='Clac4')\n",
    "plt.plot(tspan4, Cs4, color='red',label='Cs4')\n",
    "plt.plot(tspan4, Cx4, color='green',label='Cx4')\n",
    "plt.legend(loc='best')\n",
    "plt.ylabel('Concentration cmol/L') \n",
    "plt.xlabel('time (h)') \n",
    "plt.show()"
   ]
  },
  {
   "cell_type": "markdown",
   "metadata": {},
   "source": [
    "What is happening here? It is as if the microbes are saying: \"you have overstayed your welcome!\". What is the mathematical cause for the unfavourable event?"
   ]
  },
  {
   "cell_type": "markdown",
   "metadata": {},
   "source": [
    "By increasing the k value, it means that Qf is increasing in time at a rate that is faster than the growth of biomass and the higher concentration of glucose means the substrate inhibition coefficient now comes into effect and pushed mu down"
   ]
  },
  {
   "cell_type": "markdown",
   "metadata": {},
   "source": [
    "### CBI310 higher grade (won't be asked in exam)\n",
    "\n",
    "Given the major productivity improvement that we have obtained by adjusting the flowrate with time, the greedy bioprocess engineer will be interested in the optimum flowrate addition function. We can start by finding the $C_S$ value that will optimise $\\mu$ in the function:\n",
    "\n",
    "$$\\mu=\\mu_{max}\\left[\\frac{Cs}{Km+Cs}\\right] \\left[1+\\frac{C_S}{K_S} \\right]^{-1} $$\n",
    "\n",
    "Repeat the $\\mu$ vs $C_S$ plot that we had at the beginning of the example, but choose a much smaller $C_S$ span. You will see the $C_S=0.0202 \\frac{cmol}{L}$ gives the highest $\\mu$. If we can operate the fermenter at this $C_S$ value we'll have the perfect balance between substrate inhibition and Monod inhibition. But how do we manipulate $Q^F$ in order to keep $C_S$ constant?  \n",
    "\n",
    "We need to calculate $Q^{\\,f}$ such that  $\\frac{dC_S}{dt}=0$. If this is obeyed $C_S$ will remain at the initial value of $C_S^o$. The following manipulation can be performed to obtain the function for $Q^{\\,f}$:\n",
    "\n",
    "$$\\frac{dN_S}{dt}=V\\frac{dC_S}{dt}+C_S \\frac{dV}{dt}  $$\n",
    "\n",
    "$$\\frac{dV}{dt}=Q^{\\,f} $$\n",
    "\n",
    "$$ \\frac{dC_s}{dt}=\\frac{1}{V} \\left[ \\frac{dN_S}{dt}-C_S Q^{\\,f} \\right]=0 $$\n",
    "\n",
    "$$Q^{\\,f}= \\frac{1}{C_S} \\frac{dN_S}{dt}=\\frac{1}{C_S} \\left[Q^fC_s^f+r_S C_XV \\right]$$\n",
    "\n",
    "$$Q^{\\,f}= \\frac{r_S C_XV}{C_S-C_S^f} $$\n",
    "\n",
    "You now need to implement this fancy control strategy into the **fermenter equation**. If successful you will bring the productivity up to $7.5 \\frac{g}{L \\cdot h}$ at the $C_P^{\\text{final}}$ used before."
   ]
  },
  {
   "cell_type": "code",
   "execution_count": 51,
   "metadata": {},
   "outputs": [],
   "source": [
    "Cs5 = linspace(0, 0.5, 100)"
   ]
  },
  {
   "cell_type": "code",
   "execution_count": 52,
   "metadata": {},
   "outputs": [],
   "source": [
    "mu5 = mumax*(1/(1 + (Cs5/Ks)))*(Cs5/(Km + Cs5))"
   ]
  },
  {
   "cell_type": "code",
   "execution_count": 53,
   "metadata": {},
   "outputs": [
    {
     "data": {
      "image/png": "[encoded data removed]",
      "text/plain": [
       "<matplotlib.figure.Figure at 0x15a39037908>"
      ]
     },
     "metadata": {},
     "output_type": "display_data"
    }
   ],
   "source": [
    "plt.figure(7)\n",
    "plt.plot(Cs5,mu5, color='cyan',label='mu5')\n",
    "plt.ylabel('mu (1/h)') \n",
    "plt.xlabel('Cs (cmol/L)') \n",
    "plt.show()"
   ]
  },
  {
   "cell_type": "code",
   "execution_count": 54,
   "metadata": {},
   "outputs": [
    {
     "data": {
      "text/plain": [
       "0.020202020202020204"
      ]
     },
     "execution_count": 54,
     "metadata": {},
     "output_type": "execute_result"
    }
   ],
   "source": [
    "i = argmax(mu5==max(mu5))\n",
    "Cs5_opt = Cs5[i]\n",
    "Cs5_opt"
   ]
  },
  {
   "cell_type": "code",
   "execution_count": 126,
   "metadata": {},
   "outputs": [],
   "source": [
    "V5, Csf5= 1000, 400/30  #L, cmol/L\n",
    "Cso5, Cxo5 = Cs5_opt, 0.003          #cmol/l 0.1"
   ]
  },
  {
   "cell_type": "code",
   "execution_count": 127,
   "metadata": {},
   "outputs": [],
   "source": [
    "def ferm_eq5(N,t):\n",
    "    Cx, Cs, Clac, V = N[0]/N[3],N[1]/N[3],N[2]/N[3],N[3] # defining concentration and volume, Note that N=[Nx,Ns,Np,V]\n",
    "    r=response_fun2([Cx, Cs, Clac])      # this is the 'fetching' from the response function\n",
    "    \n",
    "    Qf = r[1]*Cx*V/(Cs-Csf5)\n",
    "    \n",
    "    return [r[0]*Cx*V,    #X\n",
    "            Qf*Csf5 + r[1]*Cx*V,    #glucose\n",
    "            r[2]*Cx*V,  #lac \n",
    "            Qf]   #change in fermenter volume"
   ]
  },
  {
   "cell_type": "code",
   "execution_count": 128,
   "metadata": {},
   "outputs": [],
   "source": [
    "No5=[Cxo5*V5, Cso5*V5, Claco*V5, V5]                     # [Cxo, Cso, Cpo] in cmol/L\n",
    "tmax5=50\n",
    "tspan5=numpy.linspace(0,tmax5,500)\n",
    "Ni5 = odeint(ferm_eq5, No5, tspan5)\n",
    "\n",
    "Cx5=Ni5[:,0]/Ni5[:,3]\n",
    "Cs5=Ni5[:,1]/Ni5[:,3]\n",
    "Clac5=Ni5[:,2]/Ni5[:,3]\n",
    "V5=Ni5[:,3]"
   ]
  },
  {
   "cell_type": "code",
   "execution_count": 129,
   "metadata": {},
   "outputs": [
    {
     "data": {
      "image/png": "[encoded data removed]",
      "text/plain": [
       "<matplotlib.figure.Figure at 0x15a391a4978>"
      ]
     },
     "metadata": {},
     "output_type": "display_data"
    }
   ],
   "source": [
    "plt.figure(8)\n",
    "plt.plot(tspan5, Clac5, color='blue', label='Clac5')\n",
    "plt.plot(tspan5, Cs5, color='red',label='Cs5')\n",
    "plt.plot(tspan5, Cx5, color='green',label='Cx5')\n",
    "plt.legend(loc='best')\n",
    "plt.ylabel('Concentration cmol/L') \n",
    "plt.xlabel('time (h)') \n",
    "plt.show()"
   ]
  },
  {
   "cell_type": "code",
   "execution_count": 130,
   "metadata": {},
   "outputs": [
    {
     "data": {
      "text/plain": [
       "6.479463032945522"
      ]
     },
     "execution_count": 130,
     "metadata": {},
     "output_type": "execute_result"
    }
   ],
   "source": [
    "Clac3[-1] # where last Cp was run to 50hours\n"
   ]
  },
  {
   "cell_type": "code",
   "execution_count": 131,
   "metadata": {},
   "outputs": [
    {
     "data": {
      "text/plain": [
       "24.1318726206763"
      ]
     },
     "execution_count": 131,
     "metadata": {},
     "output_type": "execute_result"
    }
   ],
   "source": [
    "t_compare = interp(Clac3[-1],Clac5,tspan5) #getting time where same Cp was reached\n",
    "t_compare"
   ]
  },
  {
   "cell_type": "code",
   "execution_count": 132,
   "metadata": {},
   "outputs": [
    {
     "data": {
      "text/plain": [
       "8.055068665571218"
      ]
     },
     "execution_count": 132,
     "metadata": {},
     "output_type": "execute_result"
    }
   ],
   "source": [
    "Productivity = Clac3[-1]/t_compare*30\n",
    "Productivity"
   ]
  },
  {
   "cell_type": "code",
   "execution_count": null,
   "metadata": {},
   "outputs": [],
   "source": []
  }
 ],
 "metadata": {
  "kernelspec": {
   "display_name": "Python 3",
   "language": "python",
   "name": "python3"
  },
  "language_info": {
   "codemirror_mode": {
    "name": "ipython",
    "version": 3
   },
   "file_extension": ".py",
   "mimetype": "text/x-python",
   "name": "python",
   "nbconvert_exporter": "python",
   "pygments_lexer": "ipython3",
   "version": "3.6.4"
  }
 },
 "nbformat": 4,
 "nbformat_minor": 2
}
