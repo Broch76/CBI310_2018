{
 "cells": [
  {
   "cell_type": "markdown",
   "metadata": {},
   "source": [
    "## Tutorial 6\n",
    "\n",
    "The bacteria genus _Acetobacter_ produces acetic acid by using ethanol as substrate. Most commercial vinegar (acetic acid) is produced via the **aerobic** conversion of ethanol.\n",
    "\n",
    "<img src=\"vinegar.jpg\" width=\"220\" />\n",
    "\n",
    "The metabolic pathway of the process is given by the following:\n",
    "\n",
    "<img src=\"aceticmap.png\" width=\"400\" />\n",
    "\n",
    "The following physiological parameters are known:\n",
    "\n",
    "|$\\alpha \\qquad \\qquad$|$\\gamma \\qquad \\qquad $|$\\mu \\qquad$|$\\theta\\qquad$|$P/O$\n",
    "|----|-|-|-|-|-\n",
    "|$\\frac{\\text{cmol $CO_2$}}{\\text{cmol X}}$|$\\frac{\\text{mol ATP}}{\\text{cmol X}}$|$\\frac{1}{\\text{h}}$|$\\frac{\\text{mol ATP}}{\\text{cmol X}\\cdot \\text{h}}$| $\\frac{\\text {mol ATP}}{\\text {mol NADH} }$\n",
    "|0.08|2.4|0.3|0|1.6\n",
    "\n",
    "The biomass formula is given by $CH_{1.8}O_{0.5}N_{0.2}$\n",
    "\n"
   ]
  },
  {
   "cell_type": "markdown",
   "metadata": {},
   "source": [
    "a) Determine the mass based yield of acetic acid on ethanol. [0.26 g/g]\n",
    "\n",
    "b) Will the value in (a) change if the growth rate ($\\mu$) was 0.4$\\frac{1}{\\text{h}}$? \n",
    "\n",
    "c) What is the rate of ethanol consumption in (a)? [0.406 $\\frac{\\text{cmol Et}}{\\text{cmol X}\\cdot \\text{h}}$] \n",
    "\n",
    "d) What will happen to the bacterium under anaerobic conditions?\n",
    "\n",
    "e) If the $\\theta$ value becomes 0.15 $\\frac{\\text{mol ATP}}{\\text{cmol X}\\cdot \\text{h}}$, what will the answer in (a) become and why? [0.420 g/g] \n",
    "\n",
    "f) What fraction of ATP is spent on maintenance in (e)? [17.2%]\n",
    "\n",
    "g) What fraction of acetic acid is spent on maintenance in (e)? [46.5% cmol basis]  \n",
    "\n",
    "h) What is the maximum mass based yield of acetic acid on ethanol and what will you do to achieve this? [1.304 g/g]\n",
    "\n",
    "\n"
   ]
  },
  {
   "cell_type": "markdown",
   "metadata": {},
   "source": [
    "[Back to all tutorials](https://nbviewer.jupyter.org/github/willienicol/Biochemical-engineering-notes/blob/master/Tutorials/All%20tutorials.ipynb)"
   ]
  },
  {
   "cell_type": "code",
   "execution_count": null,
   "metadata": {
    "collapsed": true
   },
   "outputs": [],
   "source": []
  }
 ],
 "metadata": {
  "kernelspec": {
   "display_name": "Python 3",
   "language": "python",
   "name": "python3"
  },
  "language_info": {
   "codemirror_mode": {
    "name": "ipython",
    "version": 3
   },
   "file_extension": ".py",
   "mimetype": "text/x-python",
   "name": "python",
   "nbconvert_exporter": "python",
   "pygments_lexer": "ipython3",
   "version": "3.6.4"
  }
 },
 "nbformat": 4,
 "nbformat_minor": 1
}
