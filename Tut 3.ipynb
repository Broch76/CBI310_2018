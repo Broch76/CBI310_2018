{
 "cells": [
  {
   "cell_type": "markdown",
   "metadata": {},
   "source": [
    "### Tutorial 3\n",
    "\n",
    "The production of 1,3 propanediol (PDO) by the company DuPont is one of the success stories of bioproduction of polymer intermediates on a bulk scale. Read on the polymer [SORONA](http://www.dupont.com/products-and-services/fabrics-fibers-nonwovens/fibers/brands/dupont-sorona/articles/how-dupont-sorona-is-made.html) for some background on the process and final product.\n",
    "\n",
    "<img src=\"pdo.jpg\" width=\"900\" />\n",
    "\n",
    "PDO is a natural metabolic product when _Klebsiella pneumonica_ grows on glycerol as substrate. DuPont opted for glucose as feedstock and engineered _Escherichia coli_ to aerobically convert glucose into PDO.\n",
    "\n",
    "Write out the overall stoichiometry of the reaction using glucose, ammonia and oxygen as feed. Assume that apart from PDO and biomass, no by-products are formed except water and $CO_2$. It is further given that biomass can be described by $CH_{1.91}O_{0.48}N_{0.22}$. The following yields are specified:\n",
    "\n",
    "$Y_{SX}$ =  0.0822 g/g\n",
    "\n",
    "$Y_{SO}$ = 0.00267 mol $O_2$/g  [reagent]\n",
    "\n",
    "a)\tDetermine the mass based yield of PDO on glucose(YSP). [0.51 g/g]\n",
    "\n",
    "b)\tPDO synthesis is a two step reaction from Dihydroxyacetone Phosphate (DHAP) in glycolysis. In order to calculate the amount of **NADH** required/generated in the pathway from glucose to PDO, we can consider the following reaction within the cell:\n",
    "\n",
    "$$Gluc \\to PDO + xNADH$$\n",
    "\n",
    "Determine the NADH amount with a DOR balance and confirm your answer by googling the metabolic pathway map.\n",
    "\n",
    "c)\tWhat is the ATP requirements in the pathway from glucose to PDO?\n",
    "\n",
    "d)\tWhy is oxygen used in the overall stoichiometry?\n",
    "\n",
    "e)\tWill all the DHAP that form proceed to produce PDO?\n",
    "\n",
    "f)\tDetermine the moles of ATP formed in oxidative phosphorylation. Express the answer using a cmol of boimass as basis. Assume a $(P/O)_{NADH}$ and $(P/O)_{FADH}$ of 1.5.   [2.9 $\\frac{mol \\, ATP}{cmol \\,X}$]\n",
    "\n",
    "g)\tWhat is the ATP in (f) used for. Identify 3 separate targets.\n"
   ]
  },
  {
   "cell_type": "markdown",
   "metadata": {
    "collapsed": true
   },
   "source": [
    "[Back to all tutorials](https://nbviewer.jupyter.org/github/willienicol/Biochemical-engineering-notes/blob/master/Tutorials/All%20tutorials.ipynb)"
   ]
  },
  {
   "cell_type": "code",
   "execution_count": null,
   "metadata": {
    "collapsed": true
   },
   "outputs": [],
   "source": []
  }
 ],
 "metadata": {
  "kernelspec": {
   "display_name": "Python 3",
   "language": "python",
   "name": "python3"
  },
  "language_info": {
   "codemirror_mode": {
    "name": "ipython",
    "version": 3
   },
   "file_extension": ".py",
   "mimetype": "text/x-python",
   "name": "python",
   "nbconvert_exporter": "python",
   "pygments_lexer": "ipython3",
   "version": "3.6.1"
  }
 },
 "nbformat": 4,
 "nbformat_minor": 1
}
