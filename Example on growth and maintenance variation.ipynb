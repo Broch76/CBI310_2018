{
 "cells": [
  {
   "cell_type": "markdown",
   "metadata": {},
   "source": [
    "## $\\mu$ & $\\theta$ changing with time\n",
    "\n",
    "We'll start with a video to give us perspective on what is happening in the code below:\n",
    "\n",
    "[Video: Lecture 11 Thick red arrows](https://youtu.be/Z2U5MpP3PO0)\n",
    "\n",
    "We will now return to the example in [section 5.3](https://nbviewer.jupyter.org/github/willienicol/Biochemical-engineering-notes/blob/master/5%20Basic%20bioreactor%20modeling/The%20fermenter%20equation.ipynb). We'll intoduce substrate depeletion terms (Monod functions) and product inhibition for both the $\\mu$ and $\\theta$ rates. As before we will start with the flux model:\n",
    "\n",
    "<img src=\"etmap.png\" width=\"570\" />\n",
    "\n"
   ]
  },
  {
   "cell_type": "markdown",
   "metadata": {},
   "source": [
    "Unless stated otherwise, the parameters are the same as in section 5.3. We need to define maximum values for the physiological rates ($\\mu$ & $\\theta$):\n",
    " \n",
    " $\\mu_{max}\\,\\left(\\frac{1}{h} \\right)$|$\\theta_{max} \\, \\left(\\frac{mol\\, ATP}{cmol\\, X\\cdot h} \\right) $\n",
    " -|-\n",
    " 0.12 |0.1\n",
    "\n",
    "The parameters of the various inhibition terms are given by:\n",
    "\n",
    "|$K_M \\, \\left(\\frac{cmol}{L} \\right)$|$K_P \\, \\left(\\frac{cmol}{L} \\right)$|$C_P^* \\,  \\left(\\frac{cmol}{L} \\right)$\n",
    " -|-|-|-\n",
    " **Growth**|0.0004|$-$|1.95\n",
    " **Maintenance**|0.00005|2.5|$-$\n",
    " \n",
    " "
   ]
  },
  {
   "cell_type": "markdown",
   "metadata": {},
   "source": [
    "Note that the following equations result from the table above:\n",
    "\n",
    "$$\\mu(C_S,C_P)= \\mu_{max} \\left[\\frac{Cs}{K_m^{\\mu}+Cs} \\right]   \\left[ 1-\\frac{C_P}{{C_P^{*}}^{\\mu}} \\right] $$\n",
    "\n",
    "$$\\theta(C_S,C_P)= \\theta_{max} \\left[\\frac{Cs}{K_m^{\\theta}+Cs} \\right]  \\left[1+\\frac{C_P}{K_P^{\\theta}} \\right]^{-1}  $$\n",
    "\n",
    "$C_P$ refers to the ethanol concentration since glycerol has no inhibitory effect. \n",
    "\n",
    "We'll start by defining the parameters:"
   ]
  },
  {
   "cell_type": "code",
   "execution_count": 1,
   "metadata": {
    "collapsed": true
   },
   "outputs": [],
   "source": [
    "import numpy\n",
    "import matplotlib.pyplot as plt\n",
    "from scipy.integrate import odeint\n",
    "%matplotlib inline\n",
    "alpha, beta, gamma = 0.1, 0.1,1.8\n",
    "Km_mu, Km_theta = 0.0004, 0.00005\n",
    "Cp_star, Kp = 1.95, 2.5\n",
    "mumax, thetamax = 0.12, 0.1"
   ]
  },
  {
   "cell_type": "markdown",
   "metadata": {},
   "source": [
    "The response function (or rate function) will now be altered to include the $\\mu$ and $\\theta$ functions. We'll only use the function for $\\mu$ up to the point where a zero value is obtained:"
   ]
  },
  {
   "cell_type": "code",
   "execution_count": 2,
   "metadata": {},
   "outputs": [],
   "source": [
    "def response_fun(C):\n",
    "    \n",
    "    Cx, Cs, Cg, Ce = C[0],C[1],C[2],C[3]   #Same component order as in the ferm-eq\n",
    "    Cp = Ce                                #Ethanol is Cp \n",
    "    \n",
    "    mu1=mumax*Cs/(Km_mu+Cs)*(1-Cp/Cp_star)\n",
    "    theta=thetamax*Cs/(Km_theta+Cs)*(1+Cp/Kp)**(-1)\n",
    "    \n",
    "    if mu1 < 0.0001:   #Negative values of mu set to zero\n",
    "        mu=0 \n",
    "    else:\n",
    "        mu=mu1\n",
    "                 \n",
    "    S = numpy.matrix([[-1,1+alpha,1,0,0],\n",
    "                      [ 0,0,-1,1,1.5],\n",
    "                      [  0,beta,0,-1/3,0],\n",
    "                      [ 0,-gamma,-1/3,0,1],\n",
    "                      [ 0,1,0,0,0]])\n",
    "\n",
    "    K = numpy.matrix([0, 0, 0, theta, mu]).T\n",
    "    r = numpy.linalg.solve(S, K) \n",
    "        \n",
    "    \n",
    "    return [r[1,0],   # important to see the order of the rates (X,S,G,E)\n",
    "           -r[0,0],   # glucose, note the negative since the flux model calculated (-rs)\n",
    "            r[3,0],   # glycerol\n",
    "            r[4,0],   # ethanol   \n",
    "            theta]"
   ]
  },
  {
   "cell_type": "markdown",
   "metadata": {},
   "source": [
    "Note that the response function returns the rates for a given set of concentrations in the fermenter. The response function also returns $\\theta$. Let's define an arbitrary condition in the fermenter where $C_S= 60 \\frac{g}{L}$, $C_X= 12 \\frac{g}{L}$, $C_G= 0 \\frac{g}{L}$ and $C_E=C_P= 20 \\frac{g}{L}$. We can calculate the rates for this specific fermenter condition:"
   ]
  },
  {
   "cell_type": "code",
   "execution_count": 3,
   "metadata": {},
   "outputs": [
    {
     "data": {
      "text/plain": [
       "[0.09322550205677925,\n",
       " -0.91745023142951776,\n",
       " 0.027967650617033785,\n",
       " 0.52462301903335118,\n",
       " 0.085183055608795]"
      ]
     },
     "execution_count": 3,
     "metadata": {},
     "output_type": "execute_result"
    }
   ],
   "source": [
    "rate1=response_fun([12/24.6,60/30,0,20/46])\n",
    "rate1"
   ]
  },
  {
   "cell_type": "markdown",
   "metadata": {},
   "source": [
    "Can you see that the rate of ethanol production ($r_E$) is $0.525 \\frac{\\text{cmol Et}}{\\text{cmol X}\\cdot \\text{h}}$? Can you see that both $\\mu$ and $\\theta$ is not at their maximum values anymore? \n",
    "\n",
    "We can even calculate the yield at these conditions. We'll use the term **instantaneous yield** since the yield will vary as the conditions in the fermenter vary. This yield will thus only apply at the specific point in time where the specific concentration conditions are obtained. Let's calculate the yield of ethanol on glucose ($Y_{SE}$): "
   ]
  },
  {
   "cell_type": "code",
   "execution_count": 4,
   "metadata": {},
   "outputs": [
    {
     "data": {
      "text/plain": [
       "0.57182722404016839"
      ]
     },
     "execution_count": 4,
     "metadata": {},
     "output_type": "execute_result"
    }
   ],
   "source": [
    "Yse1 = rate1[3]/-rate1[1]\n",
    "Yse1"
   ]
  },
  {
   "cell_type": "markdown",
   "metadata": {},
   "source": [
    "We can now calculate the rates and yield at another concentration condition. Let's take $C_S= 20 \\frac{g}{L}$,$C_X= 15 \\frac{g}{L}$, $C_G= 0 \\frac{g}{L}$ and $C_E=C_P= 100 \\frac{g}{L}$. "
   ]
  },
  {
   "cell_type": "code",
   "execution_count": 5,
   "metadata": {},
   "outputs": [
    {
     "data": {
      "text/plain": [
       "[-4.7755105284618349e-18,\n",
       " -0.16044907137193259,\n",
       " 5.4509540098558525e-19,\n",
       " 0.10696604758128839,\n",
       " 0.0534830237906442]"
      ]
     },
     "execution_count": 5,
     "metadata": {},
     "output_type": "execute_result"
    }
   ],
   "source": [
    "rate2=response_fun([20/24.6,15/30,0,100/46])\n",
    "rate2"
   ]
  },
  {
   "cell_type": "markdown",
   "metadata": {},
   "source": [
    "Much lower rates and zero biomass formation. Can you understand why? **Try really hard**\n",
    "\n",
    "Let's see if $Y_{SE}$ is different?"
   ]
  },
  {
   "cell_type": "code",
   "execution_count": 6,
   "metadata": {},
   "outputs": [
    {
     "data": {
      "text/plain": [
       "0.66666666666666663"
      ]
     },
     "execution_count": 6,
     "metadata": {},
     "output_type": "execute_result"
    }
   ],
   "source": [
    "Yse2 = rate2[3]/-rate2[1]\n",
    "Yse2"
   ]
  },
  {
   "cell_type": "markdown",
   "metadata": {},
   "source": [
    "Significantly higher yield! What was the contribution of maintenance and growth at this specific concentration condition? **Try really hard to explain it to yourself**"
   ]
  },
  {
   "cell_type": "markdown",
   "metadata": {},
   "source": [
    "Before we integrate, we want to see how $\\mu$ and $\\theta$ change as $C_P$ increase. We'll ignore the possible influence of $C_S$ for now. Let's plot: "
   ]
  },
  {
   "cell_type": "code",
   "execution_count": 7,
   "metadata": {},
   "outputs": [
    {
     "data": {
      "image/png": "[encoded data removed]",
      "text/plain": [
       "<matplotlib.figure.Figure at 0xa7cc6ca5c0>"
      ]
     },
     "metadata": {},
     "output_type": "display_data"
    }
   ],
   "source": [
    "Cp_curve=numpy.linspace(0,3,100)\n",
    "mu_curve=mumax*(1-Cp_curve/Cp_star)\n",
    "theta_curve=thetamax*(1+Cp_curve/Kp)**(-1)\n",
    "\n",
    "plt.plot(Cp_curve, mu_curve, color='blue', label='mu')\n",
    "plt.plot(Cp_curve, theta_curve, color='red', label='theta')\n",
    "plt.ylim([0,0.14])  #y limits on graph\n",
    "plt.legend(loc='best')\n",
    "plt.ylabel('rate') \n",
    "plt.xlabel('time (h)') \n",
    "plt.show()"
   ]
  },
  {
   "cell_type": "markdown",
   "metadata": {},
   "source": [
    "You should see from the graph above that $\\mu$ terminates at $C_P=1.95 \\frac{cmol}{L}$, while $\\theta$ only gradually decreases as $C_P$ increases. There will thus be a time at the end where only maintenance production of ethanol occurs, provided that sufficient substrate is left once growth has terminated. Let's integrate to see if we can observe this behaviour. The fermenter equation will be the same as before (batch fermenter):"
   ]
  },
  {
   "cell_type": "code",
   "execution_count": 8,
   "metadata": {
    "collapsed": true
   },
   "outputs": [],
   "source": [
    "def ferm_eq(C,t):\n",
    "    Cx, Cs, Cg, Ce = C[0],C[1],C[2],C[3]  # order of components very important \n",
    "    r=response_fun([Cx, Cs, Cg, Ce])      # this is the 'fetching' from the response function\n",
    "    \n",
    "    return [r[0]*Cx,\n",
    "            r[1]*Cx,    \n",
    "            r[2]*Cx,\n",
    "            r[3]*Cx]   "
   ]
  },
  {
   "cell_type": "markdown",
   "metadata": {},
   "source": [
    "We'll use the following initial conditions. $C_X^0=0.001 \\frac{cmol}{L}$ and $C_S^0=\\frac{120}{30} \\frac{cmol}{L}$"
   ]
  },
  {
   "cell_type": "code",
   "execution_count": 9,
   "metadata": {},
   "outputs": [
    {
     "data": {
      "image/png": "[encoded data removed]",
      "text/plain": [
       "<matplotlib.figure.Figure at 0xa7ccda7860>"
      ]
     },
     "metadata": {},
     "output_type": "display_data"
    }
   ],
   "source": [
    "Co=[0.001, 120/30,0,0]                     # [Cxo, Cso, Cgo, Ceo] in cmol/L\n",
    "tmax=90                                    # Integrate for 20 hours  \n",
    "tspan=numpy.linspace(0,tmax,200)           # define the timespan of the integration\n",
    "C = odeint(ferm_eq, Co, tspan)             # integration via odeint that calls apon ferm_eq\n",
    "\n",
    "Cx=C[:,0]                                  \n",
    "Cs=C[:,1]\n",
    "Cg=C[:,2]\n",
    "Ce=C[:,3]\n",
    "\n",
    "plt.plot(tspan, Ce, color='blue', label='e')\n",
    "plt.plot(tspan, Cg, color='cyan', label='g')\n",
    "plt.plot(tspan, Cs, color='red',label='s')\n",
    "plt.plot(tspan, Cx, color='green',label='x')\n",
    "plt.legend(loc='best')\n",
    "plt.ylabel('Concentration cmol/L') \n",
    "plt.xlabel('time (h)') \n",
    "plt.show()"
   ]
  },
  {
   "cell_type": "markdown",
   "metadata": {},
   "source": [
    "Interesting shapes! What is happening here? Let's have a closer look at the ethanol and biomass profiles: "
   ]
  },
  {
   "cell_type": "code",
   "execution_count": 10,
   "metadata": {},
   "outputs": [
    {
     "data": {
      "image/png": "[encoded data removed]",
      "text/plain": [
       "<matplotlib.figure.Figure at 0xa7ccda72e8>"
      ]
     },
     "metadata": {},
     "output_type": "display_data"
    }
   ],
   "source": [
    "plt.plot(tspan, Ce, color='blue', label='e')\n",
    "plt.plot(tspan, Cx, color='green',label='x')\n",
    "plt.legend(loc='best')\n",
    "plt.ylabel('Concentration cmol/L') \n",
    "plt.xlabel('time (h)') \n",
    "plt.show()"
   ]
  },
  {
   "cell_type": "markdown",
   "metadata": {},
   "source": [
    "Can you make sense out of these shapes? Let's see what happens to the glycerol?"
   ]
  },
  {
   "cell_type": "code",
   "execution_count": 11,
   "metadata": {},
   "outputs": [
    {
     "data": {
      "image/png": "[encoded data removed]",
      "text/plain": [
       "<matplotlib.figure.Figure at 0xa7cce11c18>"
      ]
     },
     "metadata": {},
     "output_type": "display_data"
    }
   ],
   "source": [
    "plt.plot(tspan, Cg, color='cyan', label='g')\n",
    "plt.legend(loc='best')\n",
    "plt.ylabel('Concentration cmol/L') \n",
    "plt.xlabel('time (h)') \n",
    "plt.show()"
   ]
  },
  {
   "cell_type": "markdown",
   "metadata": {},
   "source": [
    "What is happening here? Play around with the answers. More to follow in the class example on this example."
   ]
  },
  {
   "cell_type": "markdown",
   "metadata": {
    "collapsed": true
   },
   "source": [
    "### Class questions\n",
    "\n",
    "a) Plot $r_E$ without using your computer. Share graphs among the group before testing with Jupyter notebooks.\n",
    "\n",
    "Product yield and productivity are two crucial parameters for quantifying the economy of the fermenter. In short these paramenters can be defined as:\n",
    "\n",
    "$$\\text{Product yield}=\\frac{\\text{amount of targeted product made}}{\\text{amount of feedstock spent}} \\Rightarrow \\frac{g}{g}$$\n",
    "\n",
    "$$\\text{Productivity}=\\frac{\\text{amount of product made}}{\\text{volume of fermenter} \\cdot \\text{time}} \\Rightarrow \\frac{g}{L \\cdot h}$$\n",
    "\n",
    "We'll be using ethanol as targeted product and glucose as feedstock for the calculation. \n",
    "\n"
   ]
  },
  {
   "cell_type": "markdown",
   "metadata": {},
   "source": [
    "b) Determine $r_{E}^V$ and $Y_{E}$ at 40 minutes. Give in units $\\frac{g}{L \\cdot h}$ and $\\frac{g}{g}$.\n",
    "\n",
    "c) Determine $r_{E}^V$ and $Y_{E}$ at 70 minutes. Give in units $\\frac{g}{L \\cdot h}$ and $\\frac{g}{g}$.\n",
    "\n",
    "d) What is the overall product yield and productivity of the fermenter above?"
   ]
  },
  {
   "cell_type": "markdown",
   "metadata": {},
   "source": [
    "e) Remove all product inhibition terms from $\\mu$ and $\\theta$ and determine product yield and productivity when all glucose is consumed. Before doing this draw the anticipated concentration graph within the group without using Jupyter. Also predict a productivity and yield increase/decrease relative to the base scenario before checking the figures on Jupyter.\n",
    "\n",
    "f) Repeat (e) with zero maintenance product inhibition, while $C_E^*=0.5$ for the product inhibition of growth."
   ]
  },
  {
   "cell_type": "code",
   "execution_count": null,
   "metadata": {
    "collapsed": true
   },
   "outputs": [],
   "source": []
  }
 ],
 "metadata": {
  "kernelspec": {
   "display_name": "Python 3",
   "language": "python",
   "name": "python3"
  },
  "language_info": {
   "codemirror_mode": {
    "name": "ipython",
    "version": 3
   },
   "file_extension": ".py",
   "mimetype": "text/x-python",
   "name": "python",
   "nbconvert_exporter": "python",
   "pygments_lexer": "ipython3",
   "version": "3.6.4"
  }
 },
 "nbformat": 4,
 "nbformat_minor": 1
}
