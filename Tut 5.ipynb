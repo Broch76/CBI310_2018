{
 "cells": [
  {
   "cell_type": "markdown",
   "metadata": {},
   "source": [
    "## Tutorial 5\n",
    "\n",
    "\n",
    "For this tutorial we’ll consider the bacterium of [tut 1](https://nbviewer.jupyter.org/github/willienicol/Biochemical-engineering-notes/blob/master/Tutorials/Tut%201.ipynb). _Actinobacillus succinogenes_ is a natural succinic acid producer under anaerobic conditions. Microbial production of succinic acid (or biosuccinic acid) as bulk chemical has taken off during the past decade and numerous organisms, natural and modified, are considered for commercial use. The diagram below show some of the applications of succinic acid, with the bioplastic and solvent applications having the largest bulk scale potential.\n",
    "\n",
    "<img src=\"succapp.png\" width=\"600\" />\n",
    "\n",
    "The central carbon metabolism of _A. succinogenes_ is given below. You will note the reverse of the TCA cycle is used up to succinic acid (SA) and that oxaloacetate (OXA) is formed by carboxylation of phosphoenolpyruvate (PEP) and not from pyruvate like in eukaryotes. The PEP carboxylation step is also associated with the formation of ATP via the specialized enzyme [PEP carboxykinase](https://en.wikipedia.org/wiki/Phosphoenolpyruvate_carboxykinase#/media/File:PBB_Protein_PCK1_image.jpg). Also note that pyruvate is oxidised via the pyruvate dehydrogenase as well as formate lyase route. All NADH and ATP is given on a molar basis of substrate except for the NADH in glycolysis where half a mole of glucose was used as indicated in the metabolic map.\n",
    "\n",
    "<img src=\"tut4new.png\" width=\"600\" />\n",
    "\n",
    "The following physiological parameters are known:\n",
    "\n",
    "|$\\alpha \\qquad \\qquad$|$\\gamma \\qquad \\qquad $|$\\mu \\qquad$|$\\theta\\qquad$\n",
    "|----|-|-|-|-\n",
    "|$\\frac{\\text{cmol $CO_2$}}{\\text{cmol X}}$|$\\frac{\\text{mol ATP}}{\\text{cmol X}}$|$\\frac{1}{\\text{h}}$|$\\frac{\\text{mol ATP}}{\\text{cmol X}\\cdot \\text{h}}$\n",
    "|0.12|1.8|0.15|0.05\n",
    "\n",
    "\n",
    "The biomass formula is given by $CH_{1.9}O_{0.45}N_{0.23}$\n",
    "\n",
    "\n",
    "\n",
    "a)\tSet up the cmol pathway map and include the formation of biomass. Determine the value of $\\beta$. [0.085]\n",
    "\n",
    "b)\tSet up the flux model and show that there is a single degree of freedom.\n",
    "\n",
    "c)\tAssume zero pyruvate dehydrogenase action (your single specification) and determine all the glucose based yield coefficients on a cmol basis.\n",
    "\n",
    "[$Y_{SX}=0.216$, $Y_{SSA}=0.542$, $Y_{SAA}=0.234$, $Y_{SF}=0.117$].\n",
    "\n",
    "d)\tDetermine the $CO_2$ production/consumption rate (c). [$-r_{CO_2}=0.0762 \\frac{\\text{mol $CO_2$}}{\\text{cmol X}\\cdot \\text{h}} $]\n",
    "\n",
    "e)\tTest your answer for mass balance consistancy by performing an elemental balance (chapter 3).\n",
    "\n",
    "f)\tAssume zero formate formation (only pyruvate dehydrogenase) and determine the yield coefficients.\n",
    "\n",
    "[$Y_{SX}=0.211$, $Y_{SSA}=0.703$, $Y_{SAA}=0.158$].\n",
    "\n",
    "g)\tWhy is the SA yield in (f) higher than in (c)?\n",
    "\n",
    "h)\tThe organism does not grow under high acid conditions. Determine the cmol based succinic acid yield on glucose under these conditions when pyruvate oxidation occurs via the pyruvate dehydrogenase pathway. [$Y_{SAA}=0.89$]\n",
    "\n",
    "i) For the conditions in (h), what is rate of succinic acid production ($r_{SA}$)? How does this rate compare to the $r_{SA}$ when growth occurs (low acid conditions). \n",
    "\n",
    "[$r_{SA}= 0.075 \\frac{\\text{cmol SA}}{\\text{cmol X}\\cdot \\text{h}}  $ , **15%**]\n",
    "\n",
    "The following video might be helpful to understand the growth and maintenance fractions of the glucose flux:\n",
    "\n",
    "[Video : Lecture 9 Growth and maintenance fluxes](https://youtu.be/eF7EizszcvA)\n",
    "\n",
    "j) Go back to [tut 4](https://nbviewer.jupyter.org/github/willienicol/Biochemical-engineering-notes/blob/master/Tutorials/Tut%204.ipynb) and do question (i). Remember that getting the answer and understanding the answer is not the same thing!\n"
   ]
  },
  {
   "cell_type": "markdown",
   "metadata": {},
   "source": [
    "[Back to all tutorials](https://nbviewer.jupyter.org/github/willienicol/Biochemical-engineering-notes/blob/master/Tutorials/All%20tutorials.ipynb)"
   ]
  },
  {
   "cell_type": "code",
   "execution_count": null,
   "metadata": {
    "collapsed": true
   },
   "outputs": [],
   "source": []
  }
 ],
 "metadata": {
  "kernelspec": {
   "display_name": "Python 3",
   "language": "python",
   "name": "python3"
  },
  "language_info": {
   "codemirror_mode": {
    "name": "ipython",
    "version": 3
   },
   "file_extension": ".py",
   "mimetype": "text/x-python",
   "name": "python",
   "nbconvert_exporter": "python",
   "pygments_lexer": "ipython3",
   "version": "3.6.4"
  }
 },
 "nbformat": 4,
 "nbformat_minor": 1
}
