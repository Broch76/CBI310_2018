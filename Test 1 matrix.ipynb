{
 "cells": [
  {
   "cell_type": "code",
   "execution_count": 5,
   "metadata": {},
   "outputs": [],
   "source": [
    "import numpy\n",
    "\n",
    "# 7 rows, 9 columns\n",
    "\n",
    "S = numpy.matrix([[-0.22,0.2464,-0.12,0.34,0.34,0.76,0.76,-1.14,0],\n",
    "[-0.33,0.2976,0.15,0.33,0.03,-0.225,0,-0.3375,0.9],\n",
    "[0,0,0,0,-0.85,-0.795,1.1775,0.495,0],\n",
    "[0.34,-0.3456,-0.34,-0.073333333,0.073333333,-0.45,-0.56,1.005,-0.44],\n",
    "[-0.1,0.112,0.1,0,0.3,0.69,-1.095,0.3,0],\n",
    "[-0.22,0.3184,0.22,-0.15,0.75,-0.475,-0.25,0.0375,-0.9],\n",
    "[0.44,-2.6608,-0.773333333,-0.066666667,-0.126666667,1.39,0.395,0.4,2.8]])"
   ]
  },
  {
   "cell_type": "code",
   "execution_count": null,
   "metadata": {
    "collapsed": true
   },
   "outputs": [],
   "source": []
  }
 ],
 "metadata": {
  "kernelspec": {
   "display_name": "Python 3",
   "language": "python",
   "name": "python3"
  },
  "language_info": {
   "codemirror_mode": {
    "name": "ipython",
    "version": 3
   },
   "file_extension": ".py",
   "mimetype": "text/x-python",
   "name": "python",
   "nbconvert_exporter": "python",
   "pygments_lexer": "ipython3",
   "version": "3.6.1"
  }
 },
 "nbformat": 4,
 "nbformat_minor": 2
}
