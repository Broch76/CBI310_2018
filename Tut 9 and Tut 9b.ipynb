{
 "cells": [
  {
   "cell_type": "markdown",
   "metadata": {},
   "source": [
    "### Tutorial 9\n",
    "\n",
    "Modified _E.coli_ can be used to produce succinic acid without forming any by-products. The modified metabolism is given below.\n",
    "\n",
    "<img src=\"homosucc.png\" width=\"550\" />\n",
    "\n",
    "Note that the pathway to acetic acid is not present since the gene coding for the required enzyme was removed. Also note that the PEP carboxykinase enzyme (found natively in _A. succinogenes_ from tut 2) was added to the  organism by inserting the relevant gene.\n",
    "\n",
    "The flux model is supplied, but make sure you can set it up yourself (this might take some time so you can do it after performing the integration part of the problem). Like before the flux model is supplied in a hidden format. Ten equations are supplied in [Tut9eq.xlsx](https://github.com/willienicol/Biochemical-engineering-notes/blob/master/Tutorials/Tut9eq.xlsx), with equation 10 representing the energy balance. All equations are equal to zero except the energy balance that is equal to $\\theta$. All rates correspond to the flux numbers on the map with $r_{11}$ representing $CO_2$\n",
    "\n",
    "It is easy to transfer the 12x10 matrix into Python and add specification equations. You can use the code below. Ensure that the Excel file is in the same directory as the Jupyter notebook file.\n",
    "\n",
    "The code below generates the matrix for anaerobic conditions where $r_O$ is specified as zero, while $r_X=\\mu$ is specified as basis.\n"
   ]
  },
  {
   "cell_type": "code",
   "execution_count": 2,
   "metadata": {},
   "outputs": [],
   "source": [
    "from __future__ import division\n",
    "from numpy import matrix, linalg, linspace, interp, asarray, argmax\n",
    "import numpy\n",
    "import pandas\n",
    "from scipy.integrate import odeint\n",
    "from matplotlib import pyplot as plt\n",
    "%matplotlib notebook"
   ]
  },
  {
   "cell_type": "code",
   "execution_count": 3,
   "metadata": {},
   "outputs": [],
   "source": [
    "import pandas, numpy\n",
    "\n",
    "M = numpy.matrix(pandas.read_excel('Tut9eq.xlsx'))\n",
    "M1 = numpy.vstack([M,[0,1,0,0,0,0,0,0,0,0,0,0],[0,0,0,0,0,0,0,0,0,0,1,0]])\n",
    "#print (M1)"
   ]
  },
  {
   "cell_type": "markdown",
   "metadata": {},
   "source": [
    "The physiological parameters can be taken as:\n",
    "\n",
    "|$\\alpha \\qquad \\qquad$|$\\gamma \\qquad \\qquad $|$\\mu_{max} \\qquad$|$\\theta_{max}\\qquad$\n",
    "|----|-|-|-|-\n",
    "|$\\frac{\\text{cmol $CO_2$}}{\\text{cmol X}}$|$\\frac{\\text{mol ATP}}{\\text{cmol X}}$|$\\frac{1}{\\text{h}}$|$\\frac{\\text{mol ATP}}{\\text{cmol X}\\cdot \\text{h}}$\n",
    "|0.1|2.2|0.3|0.08\n",
    "\n",
    "The inhibition functions are given by:\n",
    "\n",
    "$$\\mu(C_S,C_P)= \\mu_{max} \\left[\\frac{Cs}{K_m^{\\mu}+Cs} \\right]   \\left[ 1-\\frac{C_P}{{C_P^{*}}^{\\mu}} \\right] $$\n",
    "\n",
    "$$\\theta(C_S,C_P)= \\theta_{max} \\left[\\frac{Cs}{K_m^{\\theta}+Cs} \\right]   $$\n",
    "\n",
    "$C_{P^{*}}^{\\mu}$ refers to the terminal succinic acid concentration of $0.75$ $\\frac{\\text{cmol}}{\\text{L}}$. All Monod constants can be taken as $4 \\times 10^{-4}$ $\\frac{\\text{cmol}}{\\text{L}}$.\n",
    "\n",
    "The following initial conditions. $C_X^0=0.002 \\frac{cmol}{L}$ and $C_S^0=\\frac{100}{30} \\frac{cmol}{L}$"
   ]
  },
  {
   "cell_type": "code",
   "execution_count": 4,
   "metadata": {},
   "outputs": [],
   "source": [
    "alpha = 0.1\n",
    "gamma = 2.2\n",
    "mu_max, theta_max = 0.3, 0.08\n",
    "Km_mu, Km_theta = 4e-4, 4e-4\n",
    "Cp_star = 0.75"
   ]
  },
  {
   "cell_type": "code",
   "execution_count": 5,
   "metadata": {},
   "outputs": [],
   "source": [
    "def response_fun(C):\n",
    "    Cx, Cs, Csa, Cc = C[0], C[1], C[2], C[3] #X S SA C - C is added for question f)\n",
    "    Cp = Csa\n",
    "    \n",
    "    mu1 = mu_max*(Cs/(Km_mu+Cs))*(1-(Cp/Cp_star))\n",
    "    theta = theta_max*(Cs/(Km_theta+Cs))\n",
    "    \n",
    "    if mu1 < 0.0001:\n",
    "        mu=0\n",
    "    else:\n",
    "        mu=mu1\n",
    "    \n",
    "    #M1\n",
    "    K = matrix([[0,0,0,0,0,0,0,0,0,theta,mu,0]]).T\n",
    "    r = linalg.solve(M1,K)\n",
    "    \n",
    "    rx, rs, rsa, rc = r[1,0], -r[0,0], r[9,0], r[11,0]\n",
    "    \n",
    "    return [rx,\n",
    "            rs,\n",
    "            rsa,\n",
    "            rc]\n"
   ]
  },
  {
   "cell_type": "code",
   "execution_count": 6,
   "metadata": {},
   "outputs": [],
   "source": [
    "def ferm_eq(C,t):\n",
    "    Cx, Cs, Csa, Cc = C[0], C[1], C[2], C[3] #X S SA CarbonD\n",
    "    r = response_fun([Cx, Cs, Csa, Cc])\n",
    "    \n",
    "    rx, rs, rsa, rc = r[0], r[1], r[2], r[3]\n",
    "    \n",
    "    return [rx*Cx,\n",
    "            rs*Cx,\n",
    "            rsa*Cx,\n",
    "            rc*Cx]"
   ]
  },
  {
   "cell_type": "code",
   "execution_count": 7,
   "metadata": {},
   "outputs": [],
   "source": [
    "Co = [0.002,100/30,0,0] # X S SA\n",
    "tspan = linspace(0,200,300)\n",
    "\n",
    "Ci = odeint(ferm_eq, Co, tspan)\n",
    "\n",
    "Cx = Ci[:,0]\n",
    "Cs = Ci[:,1]\n",
    "Csa = Ci[:,2]\n",
    "Cc = Ci[:,3]"
   ]
  },
  {
   "cell_type": "code",
   "execution_count": 8,
   "metadata": {},
   "outputs": [
    {
     "data": {
      "image/png": "[encoded data removed]",
      "text/plain": [
       "<matplotlib.figure.Figure at 0x1d4b097ad68>"
      ]
     },
     "metadata": {},
     "output_type": "display_data"
    }
   ],
   "source": [
    "plt.figure(1)\n",
    "plt.plot(tspan, Cx, color = 'green', label = 'x')\n",
    "plt.plot(tspan, Cs, color = 'red', label = 's')\n",
    "plt.plot(tspan, Csa, color = 'cyan', label = 'sa')\n",
    "plt.axis([0,200,-0.05,4])\n",
    "plt.xlabel('t (h)')\n",
    "plt.ylabel('Concentration (cmol/L)')\n",
    "plt.legend(loc='best')\n",
    "#plt.grid()\n",
    "plt.show()"
   ]
  },
  {
   "cell_type": "markdown",
   "metadata": {},
   "source": [
    "a) How long will the fermentation take? "
   ]
  },
  {
   "cell_type": "code",
   "execution_count": 9,
   "metadata": {},
   "outputs": [
    {
     "name": "stdout",
     "output_type": "stream",
     "text": [
      "the fermentation process will take  168.56187283839085 hours\n"
     ]
    }
   ],
   "source": [
    "#the fermentation process proceeds untill gluc is fully consumed - i.e when Cs = 0\n",
    "\n",
    "t_nogluc = interp(0,Cs[::-1],tspan[::-1])\n",
    "print ('the fermentation process will take ', t_nogluc, 'hours')\n"
   ]
  },
  {
   "cell_type": "markdown",
   "metadata": {},
   "source": [
    "b) Determine the instantaneous **volumetric** rate of succinic acid production and $Y_{SSA}$ at 10 hours. [$1.5 \\frac{g}{L\\cdot h}$, $0.97 \\frac{g}{g}$]"
   ]
  },
  {
   "cell_type": "code",
   "execution_count": 10,
   "metadata": {},
   "outputs": [
    {
     "data": {
      "image/png": "[encoded data removed]",
      "text/plain": [
       "<matplotlib.figure.Figure at 0x1d4b0a6ca90>"
      ]
     },
     "metadata": {},
     "output_type": "display_data"
    }
   ],
   "source": [
    "r = asarray([response_fun(C) for C in Ci])\n",
    "rs = r[:,1]\n",
    "rsa = r[:,2]\n",
    "rc = r[:,3]\n",
    "\n",
    "plt.figure(2)\n",
    "plt.plot(tspan, rsa, color = 'green', label = 'rsa')\n",
    "plt.plot(tspan, rs, color = 'blue', label = 'rs')\n",
    "#plt.axis([0,200,-0.05, 2.5])\n",
    "plt.xlabel('t (h)')\n",
    "plt.ylabel('Rate (cmol/cmolX)')\n",
    "plt.legend(loc='best')\n",
    "#plt.grid()\n",
    "plt.show()"
   ]
  },
  {
   "cell_type": "code",
   "execution_count": 11,
   "metadata": {},
   "outputs": [
    {
     "data": {
      "image/png": "[encoded data removed]",
      "text/plain": [
       "<matplotlib.figure.Figure at 0x1d4b0869320>"
      ]
     },
     "metadata": {},
     "output_type": "display_data"
    }
   ],
   "source": [
    "rsa_V = rsa*Cx\n",
    "\n",
    "plt.figure(3)\n",
    "plt.plot(tspan, rsa_V, color = 'magenta', label = 'rsa_V')\n",
    "plt.axis([0,200,-0.01, 0.1])\n",
    "plt.xlabel('t (h)')\n",
    "plt.ylabel('Rate (cmol/Lh)')\n",
    "plt.legend(loc='best')\n",
    "#plt.grid()\n",
    "plt.show()"
   ]
  },
  {
   "cell_type": "code",
   "execution_count": 12,
   "metadata": {},
   "outputs": [
    {
     "name": "stdout",
     "output_type": "stream",
     "text": [
      "at t = 10 hours, rsa_V =  1.4960528336085128 gSA/Lh\n",
      "  \n",
      "at t = 10 hours, Yssa =  0.9744037917988729 gSA/gS\n",
      "  \n"
     ]
    }
   ],
   "source": [
    "findrsa_V = interp(10,tspan,rsa_V)\n",
    "#print ('at t = 10 hours, rsa_V = ', findrsa_V, 'cmolSA/Lh')\n",
    "print ('at t = 10 hours, rsa_V = ', findrsa_V*29.5, 'gSA/Lh')\n",
    "print ('  ')\n",
    "\n",
    "findrs = interp(10,tspan,rs)\n",
    "findrsa = interp(10,tspan,rsa)\n",
    "print ('at t = 10 hours, Yssa = ', (findrsa/-findrs)*(29.5/30), 'gSA/gS')\n",
    "print ('  ')"
   ]
  },
  {
   "cell_type": "markdown",
   "metadata": {},
   "source": [
    "c) Determine the instantaneous **volumetric** rate of succinic acid production and $Y_{SSA}$ at 60 hours and comment. [$0.665 \\frac{g}{L \\cdot h}$ and $1.09 \\frac{g}{g}$]"
   ]
  },
  {
   "cell_type": "code",
   "execution_count": 13,
   "metadata": {},
   "outputs": [
    {
     "name": "stdout",
     "output_type": "stream",
     "text": [
      "at t = 60 hours, rsa_V =  0.594782810087778 gSA/Lh\n",
      "  \n",
      "at t = 60 hours, Yssa =  1.1238095238095123 gSA/gS\n",
      "  \n"
     ]
    }
   ],
   "source": [
    "findrsa_V = interp(60,tspan,rsa_V)\n",
    "#print ('at t = 60 hours, rsa_V = ', findrsa_V, 'cmolSA/Lh')\n",
    "print ('at t = 60 hours, rsa_V = ', findrsa_V*29.5, 'gSA/Lh')\n",
    "print ('  ')\n",
    "\n",
    "findrs = interp(60,tspan,rs)\n",
    "findrsa = interp(60,tspan,rsa)\n",
    "print ('at t = 60 hours, Yssa = ', (findrsa/-findrs)*(29.5/30), 'gSA/gS')\n",
    "print ('  ')"
   ]
  },
  {
   "cell_type": "markdown",
   "metadata": {},
   "source": [
    "d) At what time is the maximum value of $r_{SA}^V$ obtained? [$13 h$]"
   ]
  },
  {
   "cell_type": "code",
   "execution_count": 14,
   "metadata": {},
   "outputs": [
    {
     "name": "stdout",
     "output_type": "stream",
     "text": [
      "rsa_V is max at t =  13.377926421404682 hours\n"
     ]
    }
   ],
   "source": [
    "rsa_Vmaxindex = argmax(rsa_V == max(rsa_V))\n",
    "#rsa_Vmax = rsa_V[rsa_Vmaxindex]\n",
    "tmax = tspan[rsa_Vmaxindex]\n",
    "\n",
    "print ('rsa_V is max at t = ', tmax, 'hours')"
   ]
  },
  {
   "cell_type": "markdown",
   "metadata": {},
   "source": [
    "e) What is the APY and productivity of the fermentation above? "
   ]
  },
  {
   "cell_type": "code",
   "execution_count": 15,
   "metadata": {},
   "outputs": [
    {
     "data": {
      "text/plain": [
       "[0.6495394834999145, 1.0947721408349684]"
      ]
     },
     "execution_count": 15,
     "metadata": {},
     "output_type": "execute_result"
    }
   ],
   "source": [
    "tdone = interp(0.0001,Cs[::-1],tspan[::-1]) \n",
    "P=max(Csa)/tdone*29.5\n",
    "Y=max(Csa)/(100/30)*29.5/30\n",
    "[P, Y]\n",
    "\n"
   ]
  },
  {
   "cell_type": "markdown",
   "metadata": {},
   "source": [
    "f) What is the volumetric rate of $CO_2$ consumption at 60 hours? [$2.5 \\frac{mmol}{L\\cdot h} $]  "
   ]
  },
  {
   "cell_type": "code",
   "execution_count": 16,
   "metadata": {},
   "outputs": [
    {
     "data": {
      "image/png": "[encoded data removed]",
      "text/plain": [
       "<matplotlib.figure.Figure at 0x1d4b1d79940>"
      ]
     },
     "metadata": {},
     "output_type": "display_data"
    }
   ],
   "source": [
    "rc_V = rc*Cx\n",
    "\n",
    "plt.figure(4)\n",
    "plt.plot(tspan, rsa_V, color = 'cyan', label = 'rc_V')\n",
    "plt.axis([0,200,-0.01, 0.1])\n",
    "plt.xlabel('t (h)')\n",
    "plt.ylabel('Rate (cmol/Lh)')\n",
    "plt.legend(loc='best')\n",
    "#plt.grid()\n",
    "plt.show()"
   ]
  },
  {
   "cell_type": "code",
   "execution_count": 17,
   "metadata": {},
   "outputs": [
    {
     "name": "stdout",
     "output_type": "stream",
     "text": [
      "at t = 60 hours, rc_V =  2.5202661444397347 mmolC/Lh\n",
      "  \n"
     ]
    }
   ],
   "source": [
    "findrc_V = interp(60,tspan,rc_V)\n",
    "#print ('at t = 60 hours, rc_V = ', findrc_V*(-1000), 'mmolC/Lh')\n",
    "print ('at t = 60 hours, rc_V = ', -findrc_V*1000, 'mmolC/Lh')\n",
    "print ('  ')"
   ]
  },
  {
   "cell_type": "markdown",
   "metadata": {},
   "source": [
    "g) How will a higher product titre ($C_{SA}^{final}$) be achieved? Will the APY and productivity be higher or lower for this fermentation."
   ]
  },
  {
   "cell_type": "code",
   "execution_count": 18,
   "metadata": {},
   "outputs": [
    {
     "data": {
      "image/png": "[encoded data removed]",
      "text/plain": [
       "<matplotlib.figure.Figure at 0x1d4b1e25080>"
      ]
     },
     "metadata": {},
     "output_type": "display_data"
    }
   ],
   "source": [
    "def response_fun1(C):\n",
    "    Cx, Cs, Csa, Cc = C[0], C[1], C[2], C[3] #X S SA C - C is added for question f)\n",
    "    Cp = Csa\n",
    "    \n",
    "    mu1 = mu_max*(Cs/(Km_mu+Cs))*(1-(Cp/Cp_star))\n",
    "    theta = theta_max*(Cs/(Km_theta+Cs))\n",
    "    \n",
    "    if mu1 < 0.0001:\n",
    "        mu=0\n",
    "    else:\n",
    "        mu=mu1\n",
    "    \n",
    "    #M1\n",
    "    K = matrix([[0,0,0,0,0,0,0,0,0,theta,mu,0]]).T\n",
    "    r = linalg.solve(M1,K)\n",
    "    \n",
    "    rx, rs, rsa, rc = r[1,0], -r[0,0], r[9,0], r[11,0]\n",
    "    \n",
    "    return [rx,\n",
    "            rs,\n",
    "            rsa,\n",
    "            rc]\n",
    "\n",
    "\n",
    "def ferm_eq1(C,t):\n",
    "    Cx, Cs, Csa, Cc = C[0], C[1], C[2], C[3] #X S SA CarbonD\n",
    "    r = response_fun([Cx, Cs, Csa, Cc])\n",
    "    \n",
    "    rx, rs, rsa, rc = r[0], r[1], r[2], r[3]\n",
    "    \n",
    "    return [rx*Cx,\n",
    "            rs*Cx,\n",
    "            rsa*Cx,\n",
    "            rc*Cx]\n",
    "\n",
    "\n",
    "Co1 = [0.002,150/30,0,0] # X S SA\n",
    "tspan1 = linspace(0,280,300)\n",
    "\n",
    "Ci1 = odeint(ferm_eq1, Co1, tspan1)\n",
    "\n",
    "Cx = Ci1[:,0]\n",
    "Cs = Ci1[:,1]\n",
    "Csa = Ci1[:,2]\n",
    "Cc = Ci1[:,3]\n",
    "\n",
    "\n",
    "\n",
    "plt.figure(5)\n",
    "plt.plot(tspan1, Cx, color = 'green', label = 'x')\n",
    "plt.plot(tspan1, Cs, color = 'red', label = 's')\n",
    "plt.plot(tspan1, Csa, color = 'cyan', label = 'sa')\n",
    "plt.axis([0,280,-0.05,6])\n",
    "plt.xlabel('t (h)')\n",
    "plt.ylabel('Concentration (cmol/L)')\n",
    "plt.legend(loc='best')\n",
    "#plt.grid()\n",
    "plt.show()"
   ]
  },
  {
   "cell_type": "code",
   "execution_count": 19,
   "metadata": {},
   "outputs": [
    {
     "name": "stdout",
     "output_type": "stream",
     "text": [
      "the fermentation process will take  263.14381269627 hours\n"
     ]
    }
   ],
   "source": [
    "#the fermentation process proceeds untill gluc is fully consumed - i.e when Cs = 0\n",
    "\n",
    "t_nogluc1 = interp(0,Cs[::-1],tspan1[::-1])\n",
    "print ('the fermentation process will take ', t_nogluc1, 'hours')"
   ]
  },
  {
   "cell_type": "code",
   "execution_count": 20,
   "metadata": {},
   "outputs": [
    {
     "data": {
      "text/plain": [
       "[0.6296047581156515, 1.1044512680846235]"
      ]
     },
     "execution_count": 20,
     "metadata": {},
     "output_type": "execute_result"
    }
   ],
   "source": [
    "tdone1 = interp(0.0001,Cs[::-1],tspan1[::-1]) \n",
    "P=max(Csa)/tdone1*29.5\n",
    "Y=max(Csa)/(150/30)*29.5/30\n",
    "[P, Y]"
   ]
  },
  {
   "cell_type": "markdown",
   "metadata": {},
   "source": [
    "Continuation of tut 9b below"
   ]
  },
  {
   "cell_type": "markdown",
   "metadata": {},
   "source": [
    "h) It is also possible to operate the fermentation under aerobic conditions. Zero succinic acid will form when sufficient oxygen is available (assume this to be the case). Operate the fermenter aerobically for 15 hours by sparging with oxygen and then switch to sparging with $CO_2$. Note that the specifications in the response matrix will alter between aerobic and anaerobic conditions. Integrate the aerobic and anaerobic sections separately, but plot together on a single graph. Determine the APY and productivity of the total fermentation. Compare to the answer in (e) and explain to yourself. What happened to $C_{SA}^{final}$ when comparing to (e)? Also play with increasing the aerobic fermentation time. Take enough time in understanding the concentration profiles and don't just focus on getting the answers. \n",
    "\n",
    "[$1.64 \\frac{g}{L \\cdot h}$ and $0.99 \\frac{g}{g}$]"
   ]
  },
  {
   "cell_type": "code",
   "execution_count": 21,
   "metadata": {},
   "outputs": [],
   "source": [
    "#part 2 - for aerobic conditions (from t=0 -> t=15)\n",
    "\n",
    "S = matrix(pandas.read_excel('Tut9eq.xlsx'))\n",
    "S2 = numpy.vstack([S,[0,1,0,0,0,0,0,0,0,0,0,0],[0,0,0,0,0,0,0,0,0,1,0,0]]) ### this part changed\n",
    "\n",
    "def response_fun2(C):\n",
    "    Cx, Cs, Csa, Cc, CO = C[0], C[1], C[2], C[3], C[4] #X S SA C O2\n",
    "    Cp = Csa\n",
    "    \n",
    "    mu1 = mu_max*(Cs/(Km_mu+Cs))*(1-(Cp/Cp_star))\n",
    "    theta = theta_max*(Cs/(Km_theta+Cs))\n",
    "    \n",
    "    if mu1 < 0.0001:\n",
    "        mu=0\n",
    "    else:\n",
    "        mu=mu1\n",
    "    \n",
    "    #S2\n",
    "    c = matrix([[0,0,0,0,0,0,0,0,0,theta,mu,0]]).T\n",
    "    r2 = linalg.solve(S2,c)\n",
    "    \n",
    "    rx2, rs2, rsa2, rc2, rO2 = r2[1,0], -r2[0,0], r2[9,0], r2[11,0], r2[10,0]\n",
    "    \n",
    "    return [rx2,\n",
    "            rs2,\n",
    "            rsa2,\n",
    "            rc2,\n",
    "            rO2]\n",
    "\n",
    "def ferm_eq2(C,t):\n",
    "    Cx2, Cs2, Csa2, Cc2, CO2 = C[0], C[1], C[2], C[3], C[4] #X S SA\n",
    "    r2 = response_fun2([Cx2, Cs2, Csa2, Cc2, CO2])\n",
    "    \n",
    "    rx2, rs2, rsa2, rc2, rO2 = r2[0], r2[1], r2[2], r2[3], r2[4]\n",
    "    \n",
    "    return [rx2*Cx2,\n",
    "            rs2*Cx2,\n",
    "            rsa2*Cx2,\n",
    "            rc2*Cx2,\n",
    "            rO2*Cx2]\n",
    "\n",
    "Co2 = [0.002,100/30,0,0,0] # X S SA -- initial O2 = 0?\n",
    "tspan2 = linspace(0,15,1000)\n",
    "\n",
    "Ci2 = odeint(ferm_eq2, Co2, tspan2)\n",
    "\n",
    "Cx2 = Ci2[:,0]\n",
    "Cs2 = Ci2[:,1]\n",
    "Csa2 = Ci2[:,2]\n",
    "Cc2 = Ci2[:,3]\n",
    "CO2 = Ci2[:,4]"
   ]
  },
  {
   "cell_type": "code",
   "execution_count": 22,
   "metadata": {},
   "outputs": [
    {
     "data": {
      "image/png": "[encoded data removed]",
      "text/plain": [
       "<matplotlib.figure.Figure at 0x1d4b1e0a828>"
      ]
     },
     "metadata": {},
     "output_type": "display_data"
    }
   ],
   "source": [
    "plt.figure(6)\n",
    "plt.plot(tspan2, Cx2, color = 'green', label = 'x')\n",
    "plt.plot(tspan2, Cs2, color = 'red', label = 's')\n",
    "plt.plot(tspan2, Csa2, color = 'cyan', label = 'sa')\n",
    "#plt.plot(tspan2, Cc2, color = 'magenta', label = 'CO2')\n",
    "#plt.plot(tspan2, CO2, color = 'blue', label = 'O2')\n",
    "#plt.axis([0,200,-0.05,4])\n",
    "plt.xlabel('t (h)')\n",
    "plt.ylabel('Concentration (cmol/L)')\n",
    "plt.legend(loc='best')\n",
    "#plt.grid()\n",
    "plt.show()"
   ]
  },
  {
   "cell_type": "code",
   "execution_count": 23,
   "metadata": {},
   "outputs": [
    {
     "name": "stdout",
     "output_type": "stream",
     "text": [
      "Cx15 =  0.17993634639047837\n",
      "Cs15 =  3.0251799334480025\n",
      "Csa15 =  0.0\n",
      "Cc15 =  0.13021705349485002\n",
      "CO15 =  0.12132023617532614\n"
     ]
    }
   ],
   "source": [
    "Cx15 = Cx2[-1]\n",
    "Cs15 = Cs2[-1]\n",
    "Csa15 = Csa2[-1]\n",
    "Cc15 = Cc2[-1]\n",
    "CO15 = CO2[-1]\n",
    "\n",
    "\n",
    "print ('Cx15 = ', Cx15)\n",
    "print ('Cs15 = ', Cs15)\n",
    "print ('Csa15 = ', Csa15)\n",
    "print ('Cc15 = ', Cc15)\n",
    "print ('CO15 = ', CO15)\n"
   ]
  },
  {
   "cell_type": "code",
   "execution_count": 24,
   "metadata": {},
   "outputs": [],
   "source": [
    "#part 1 - for aerobic conditions (from t=15 -> t=100)\n",
    "\n",
    "S = matrix(pandas.read_excel('Tut9eq.xlsx'))\n",
    "S1 = numpy.vstack([S,[0,1,0,0,0,0,0,0,0,0,0,0],[0,0,0,0,0,0,0,0,0,0,1,0]])\n",
    "\n",
    "def response_fun1(C):\n",
    "    Cx1, Cs1, Csa1, Cc1 = C[0], C[1], C[2], C[3] #X S SA C \n",
    "    Cp = Csa\n",
    "    \n",
    "    mu1 = mu_max*(Cs/(Km_mu+Cs))*(1-(Cp/Cp_star))\n",
    "    theta = theta_max*(Cs/(Km_theta+Cs))\n",
    "    \n",
    "    if mu1 < 0.0001:\n",
    "        mu=0\n",
    "    else:\n",
    "        mu=mu1\n",
    "    \n",
    "    #S1\n",
    "    c = matrix([[0,0,0,0,0,0,0,0,0,theta,mu,0]]).T\n",
    "    r1 = linalg.solve(S1,c)\n",
    "    \n",
    "    rx1, rs1, rsa1, rc1 = r1[1,0], -r1[0,0], r1[9,0], r1[11,0]\n",
    "    \n",
    "    return [rx1,\n",
    "            rs1,\n",
    "            rsa1,\n",
    "            rc1]\n",
    "\n",
    "def ferm_eq1(C,t):\n",
    "    Cx1, Cs1, Csa1, Cc1 = C[0], C[1], C[2], C[3] #X S SA\n",
    "    r1 = response_fun([Cx1, Cs1, Csa1, Cc1])\n",
    "    \n",
    "    rx1, rs1, rsa1, rc1 = r1[0], r1[1], r1[2], r1[3]\n",
    "    \n",
    "    return [rx1*Cx1,\n",
    "            rs1*Cx1,\n",
    "            rsa1*Cx1,\n",
    "            rc1*Cx1]\n",
    "\n",
    "Co1 = [Cx2[-1], Cs2[-1], Csa2[-1], CO2[-1]] # X S SA O  ##############\n",
    "tspan1 = linspace(15,75,1000)         ##############\n",
    "\n",
    "Ci1 = odeint(ferm_eq1, Co1, tspan1)\n",
    "\n",
    "Cx1 = Ci1[:,0]\n",
    "Cs1 = Ci1[:,1]\n",
    "Csa1 = Ci1[:,2]\n",
    "Cc1 = Ci1[:,3]"
   ]
  },
  {
   "cell_type": "code",
   "execution_count": 25,
   "metadata": {},
   "outputs": [
    {
     "data": {
      "image/png": "[encoded data removed]",
      "text/plain": [
       "<matplotlib.figure.Figure at 0x1d4b1efec50>"
      ]
     },
     "metadata": {},
     "output_type": "display_data"
    }
   ],
   "source": [
    "plt.figure(7)\n",
    "plt.plot(tspan1, Cx1, color = 'green', label = 'x')\n",
    "plt.plot(tspan1, Cs1, color = 'red', label = 's')\n",
    "plt.plot(tspan1, Csa1, color = 'cyan', label = 'sa')\n",
    "#plt.axis([0,200,-0.05,4])\n",
    "plt.xlabel('t (h)')\n",
    "plt.ylabel('Concentration (cmol/L)')\n",
    "plt.legend(loc='best')\n",
    "#plt.grid()\n",
    "plt.show()"
   ]
  },
  {
   "cell_type": "code",
   "execution_count": 26,
   "metadata": {},
   "outputs": [
    {
     "data": {
      "image/png": "[encoded data removed]",
      "text/plain": [
       "<matplotlib.figure.Figure at 0x1d4b1f2fba8>"
      ]
     },
     "metadata": {},
     "output_type": "display_data"
    }
   ],
   "source": [
    "plt.figure(8)\n",
    "plt.plot(tspan1, Cx1, color = 'lime', label = 'x1')\n",
    "plt.plot(tspan1, Cs1, color = 'red', label = 's1')\n",
    "plt.plot(tspan1, Csa1, color = 'cyan', label = 'sa1')\n",
    "\n",
    "plt.plot(tspan2, Cx2, color = 'green', label = 'x2')\n",
    "plt.plot(tspan2, Cs2, color = 'maroon', label = 's2')\n",
    "plt.plot(tspan2, Csa2, color = 'blue', label = 'sa2')\n",
    "#plt.axis([0,200,-0.05,4])\n",
    "plt.xlabel('t (h)')\n",
    "plt.ylabel('Concentration (cmol/L)')\n",
    "plt.legend(loc='best')\n",
    "#plt.grid()\n",
    "plt.show()"
   ]
  },
  {
   "cell_type": "code",
   "execution_count": 27,
   "metadata": {},
   "outputs": [
    {
     "name": "stdout",
     "output_type": "stream",
     "text": [
      "0.9908804187323036\n"
     ]
    }
   ],
   "source": [
    "APY = (Csa1[-1]-Csa2[0])/-(Cs1[-1]-Cs2[0])\n",
    "print (APY*(29.5/30))"
   ]
  },
  {
   "cell_type": "code",
   "execution_count": 28,
   "metadata": {},
   "outputs": [
    {
     "name": "stdout",
     "output_type": "stream",
     "text": [
      "productivity =  1.6454898550142443 g/L.h\n"
     ]
    }
   ],
   "source": [
    "#t_noglucf2 = 15\n",
    "t_noglucf1 = interp(0,Cs1[::-1],tspan1[::-1])\n",
    "#t_noglucf = t_noglucf2 + t_noglucf1 \n",
    "#print (t_noglucf1)\n",
    "\n",
    "DeltaCsa = Csa1[-1]-Csa2[0]\n",
    "productivity = (DeltaCsa*29.5)/t_noglucf1\n",
    "print ('productivity = ', productivity, 'g/L.h')\n"
   ]
  },
  {
   "cell_type": "markdown",
   "metadata": {},
   "source": [
    "i) It should be clear that $CO_2$ is consumed when operating under anaerobic conditions. What will happen when the $CO_2$ supply in this phase is shut off? For the aerobic phase oxygen sparging is required, but is it in order to shut off the $CO_2$ supply? Determine the $CO_2$ consumption/production at the start of the aerobic phase in (h). Also investigate the internal flux distribution in the aerobic phase by having a close look at fluxes $r_4$ and $r_5$. What is the difference between the simplified respiration model in [section 4.3](https://nbviewer.jupyter.org/github/willienicol/Biochemical-engineering-notes/blob/master/4%20Stoichiometry%20that%20includes%20internal%20reactions/TCA%20cycle%20and%20oxidative%20phosphorylation.ipynb) and the respiration in this tutorial?"
   ]
  },
  {
   "cell_type": "code",
   "execution_count": null,
   "metadata": {},
   "outputs": [],
   "source": []
  },
  {
   "cell_type": "markdown",
   "metadata": {},
   "source": [
    "j) What is the difference between $-r_{S}$ at the end of the aerobic phase and the start of the anaerobic phase? Why the difference? [$\\frac {-r_S^{anaer}}{-r_S^{aer}} = 4.4$}"
   ]
  },
  {
   "cell_type": "code",
   "execution_count": null,
   "metadata": {},
   "outputs": [],
   "source": []
  },
  {
   "cell_type": "markdown",
   "metadata": {},
   "source": [
    "k) Plot the volumetric consumption rate of oxygen ($r_{O_2}^V$) as a function of time for the aerobic phase. If the oxygen supply to the fermenter had a maximum possible value of $0.02 \\frac{\\text{mol }O_2}{\\text{L}\\cdot \\text{h}}$, how will the organism respond to the limitation?"
   ]
  },
  {
   "cell_type": "code",
   "execution_count": null,
   "metadata": {},
   "outputs": [],
   "source": []
  },
  {
   "cell_type": "markdown",
   "metadata": {},
   "source": [
    "l) Perform your own flux model (set up your own response function). Include $CO_2$ as seperate flux. Check against the supplied model. Note the following stoichiometric relationship: $r_6=2r_3$ ($C_4$ joining $C_2$ to form $C_6$). Use the standard elemental composition for biomass. "
   ]
  },
  {
   "cell_type": "code",
   "execution_count": null,
   "metadata": {},
   "outputs": [],
   "source": []
  },
  {
   "cell_type": "markdown",
   "metadata": {},
   "source": [
    "m) If the PEP carboxykinase gene is removed and replaced with the more conventional pyruvate carboxylase, the ATP balance of the organism will be affected. Note that a mole of ATP is required to convert pyruvate to oxaloacetate via pyruvate carboxylase. Determine how the biomass yield on glucose will be affected when the modification is performed (assume zero inhibition). How will this modification affect the anaerobic fermentation? How will the modification affect the aerobic-anaerobic combo fermentation?[$\\frac{Y_{SX}^{xylase}}{Y_{SX}^{kinase}}=0.28$]"
   ]
  },
  {
   "cell_type": "code",
   "execution_count": null,
   "metadata": {},
   "outputs": [],
   "source": []
  }
 ],
 "metadata": {
  "kernelspec": {
   "display_name": "Python 3",
   "language": "python",
   "name": "python3"
  },
  "language_info": {
   "codemirror_mode": {
    "name": "ipython",
    "version": 3
   },
   "file_extension": ".py",
   "mimetype": "text/x-python",
   "name": "python",
   "nbconvert_exporter": "python",
   "pygments_lexer": "ipython3",
   "version": "3.6.4"
  }
 },
 "nbformat": 4,
 "nbformat_minor": 1
}
