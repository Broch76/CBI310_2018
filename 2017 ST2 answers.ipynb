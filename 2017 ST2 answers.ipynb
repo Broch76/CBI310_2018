{
 "cells": [
  {
   "cell_type": "code",
   "execution_count": 217,
   "metadata": {},
   "outputs": [],
   "source": [
    "from __future__ import division\n",
    "import numpy\n",
    "import pandas\n",
    "import matplotlib.pyplot as plt\n",
    "from numpy import matrix, linalg, linspace, interp, asarray, argmax\n",
    "from scipy.integrate import odeint\n",
    "from scipy.stats import linregress \n",
    "%matplotlib inline\n",
    "#%matplotlib notebook"
   ]
  },
  {
   "cell_type": "markdown",
   "metadata": {},
   "source": [
    "<img src=\"propionibacterium.PNG\" width=\"650\"/>"
   ]
  },
  {
   "cell_type": "markdown",
   "metadata": {},
   "source": [
    "<img src=\"givenproperties.png\" width=\"650\" />"
   ]
  },
  {
   "cell_type": "code",
   "execution_count": 218,
   "metadata": {},
   "outputs": [],
   "source": [
    "alpha = 0.125\n",
    "gamma = 1.8\n",
    "mumax = 0.22\n",
    "thetamax = 0.09\n",
    "MMx = 24.6 #g/mol"
   ]
  },
  {
   "cell_type": "markdown",
   "metadata": {},
   "source": [
    "1) Determine the value of $\\beta$. [2]"
   ]
  },
  {
   "cell_type": "code",
   "execution_count": 219,
   "metadata": {},
   "outputs": [
    {
     "data": {
      "text/plain": [
       "0.1499999999999999"
      ]
     },
     "execution_count": 219,
     "metadata": {},
     "output_type": "execute_result"
    }
   ],
   "source": [
    "DOR = numpy.matrix([[-1, 0, 1, 1, 0],\n",
    "                   [-4, 0, 4.2, 0, 2],\n",
    "                   [0, -1, 0.2, 0, 0],\n",
    "                   [0, 0, 1, 0, 0],\n",
    "                   [0, 0, 0, 1, 0]])\n",
    "\n",
    "C = numpy.matrix([0, 0, 0, 1, alpha]).T\n",
    "\n",
    "DORrates = numpy.linalg.solve(DOR,C)\n",
    "\n",
    "Beta = DORrates[4,0]\n",
    "\n",
    "Beta"
   ]
  },
  {
   "cell_type": "markdown",
   "metadata": {},
   "source": [
    "2.)Determine the value of y by calculating the degree of reduction of pyruvic acid and propionic acid. [3]"
   ]
  },
  {
   "cell_type": "markdown",
   "metadata": {},
   "source": [
    "Pyr($CH_{4/3}O$) Dor = 4 + 4/3 - 2 = 10/3\n",
    "\n",
    "PrA($CH_2O_{2/3}$)Dor = 4 + 2 - 4/3 = 14/3 \n",
    "\n",
    "The difference in DOR is 4/3\n",
    "\n",
    "Each 2/3rds hydrogen represents 1/3rd NADH, therefore the increase required is 2/3NADH\n"
   ]
  },
  {
   "cell_type": "code",
   "execution_count": 220,
   "metadata": {},
   "outputs": [
    {
     "data": {
      "text/plain": [
       "0.6666666666666666"
      ]
     },
     "execution_count": 220,
     "metadata": {},
     "output_type": "execute_result"
    }
   ],
   "source": [
    "y = 2/3\n",
    "y"
   ]
  },
  {
   "cell_type": "markdown",
   "metadata": {},
   "source": [
    "3.) Note that 4 equations of the flux model were supplied in hidden format (2017 ST2_model.xlsx) where\n",
    "the fourth row represents the ATP balance (that is equal to $\\theta$). This question checks if your own energy balance is correct. Replace row 4 with your own ATP balance and change $\\gamma$ to 2.1 mol ATP/(cmol X). All other parameters remain the same while $\\mu$ and $\\theta$ are at the maximum values.\n",
    "Note that $\\gamma$ will be taken as 1.8 mol ATP/(cmol X) for all other questions, so make sure to\n",
    "change it back to the original value after you are done with this question. What is the rate of\n",
    "propionic acid production in cmol/(cmol X.h)? [3]"
   ]
  },
  {
   "cell_type": "code",
   "execution_count": 221,
   "metadata": {},
   "outputs": [],
   "source": [
    "def response_Q3(C):\n",
    "    Cx, Cs, Cpyr, Caca, Cpra = C[0], C[1], C[2], C[3], C[4]\n",
    "    \n",
    "    S = numpy.matrix(pandas.read_excel('2017 ST2_model1.xlsx'))\n",
    "    S1 = numpy.vstack([S,[0,1,0,0,0]])\n",
    "    K = numpy.matrix([0,0,0, thetamax, mumax]).T\n",
    "    r = numpy.linalg.solve(S1,K)\n",
    "    \n",
    "    return [r[1,0],      #X\n",
    "            -r[0,0],     #Glucose\n",
    "            r[2,0],      #Pyruvate\n",
    "            r[3,0],      #Acetic Acid\n",
    "            r[4,0]]      #Propionic Acid"
   ]
  },
  {
   "cell_type": "code",
   "execution_count": 222,
   "metadata": {},
   "outputs": [
    {
     "name": "stdout",
     "output_type": "stream",
     "text": [
      "Rate of propionic acid production=  0.8774999999999982 cmol/(cmol X.h)\n"
     ]
    }
   ],
   "source": [
    "Cxo = 0\n",
    "Cso = 1\n",
    "Co = [Cxo, Cso, 0, 0, 0]\n",
    "\n",
    "rates_Q3 = response_Q3(Co)\n",
    "\n",
    "rx = rates_Q3[0]\n",
    "rs = -rates_Q3[1]\n",
    "rpyr = rates_Q3[2]\n",
    "raca = rates_Q3[3]\n",
    "rpra = rates_Q3[4]\n",
    "\n",
    "print('Rate of propionic acid production= ', rpra, 'cmol/(cmol X.h)')"
   ]
  },
  {
   "cell_type": "markdown",
   "metadata": {},
   "source": [
    "4.) What is the ratio of propionic acid to acetic acid produced (in cmol/cmol) when only growth (and no maintenance) is considered? [2]"
   ]
  },
  {
   "cell_type": "code",
   "execution_count": 223,
   "metadata": {},
   "outputs": [],
   "source": [
    "def response_Q4(C):\n",
    "    Cx, Cs, Cpyr, Caca, Cpra = C[0], C[1], C[2], C[3], C[4]\n",
    "    \n",
    "    S = numpy.matrix(pandas.read_excel('2017 ST2_model2.xlsx'))\n",
    "    S1 = numpy.vstack([S,[0,1,0,0,0]])\n",
    "    K = numpy.matrix([0,0,0, 0, mumax]).T\n",
    "    r = numpy.linalg.solve(S1,K)\n",
    "    \n",
    "    return [r[1,0],      #X\n",
    "            -r[0,0],     #Glucose\n",
    "            r[2,0],      #Pyruvate\n",
    "            r[3,0],      #Acetic Acid\n",
    "            r[4,0]]      #Propionic Acid"
   ]
  },
  {
   "cell_type": "code",
   "execution_count": 224,
   "metadata": {},
   "outputs": [
    {
     "name": "stdout",
     "output_type": "stream",
     "text": [
      "Yaca_pra = 3.5454545454545365 cmolPrA/cmolAcA\n"
     ]
    }
   ],
   "source": [
    "Cxo = 0\n",
    "Cso = 1\n",
    "Co = [Cxo, Cso, 0, 0, 0]\n",
    "\n",
    "rates_Q4 = response_Q4(Co)\n",
    "\n",
    "rx4 = rates_Q4[0]\n",
    "rs4 = -rates_Q4[1]\n",
    "rpyr4 = rates_Q4[2]\n",
    "raca4 = rates_Q4[3]\n",
    "rpra4 = rates_Q4[4]\n",
    "\n",
    "print('Yaca_pra =', rpra4/raca4, 'cmolPrA/cmolAcA')"
   ]
  },
  {
   "cell_type": "markdown",
   "metadata": {},
   "source": [
    "5.) What is the ratio of propionic acid to acetic acid produced (in cmol/cmol) when only maintenance(and no growth) is considered? [1]"
   ]
  },
  {
   "cell_type": "code",
   "execution_count": 225,
   "metadata": {},
   "outputs": [],
   "source": [
    "def response_Q5(C):\n",
    "    Cx, Cs, Cpyr, Caca, Cpra = C[0], C[1], C[2], C[3], C[4]\n",
    "    \n",
    "    S = numpy.matrix(pandas.read_excel('2017 ST2_model2.xlsx'))\n",
    "    S1 = numpy.vstack([S,[0,1,0,0,0]])\n",
    "    K = numpy.matrix([0,0,0, thetamax, 0]).T\n",
    "    r = numpy.linalg.solve(S1,K)\n",
    "    \n",
    "    return [r[1,0],      #X\n",
    "            -r[0,0],     #Glucose\n",
    "            r[2,0],      #Pyruvate\n",
    "            r[3,0],      #Acetic Acid\n",
    "            r[4,0]]      #Propionic Acid"
   ]
  },
  {
   "cell_type": "code",
   "execution_count": 226,
   "metadata": {},
   "outputs": [
    {
     "name": "stdout",
     "output_type": "stream",
     "text": [
      "Yaca_pra = 2.9999999999999933 cmolPrA/cmolAcA\n"
     ]
    }
   ],
   "source": [
    "Cxo = 0\n",
    "Cso = 1\n",
    "Co = [Cxo, Cso, 0, 0, 0]\n",
    "\n",
    "rates_Q5 = response_Q5(Co)\n",
    "\n",
    "rx5 = rates_Q5[0]\n",
    "rs5 = -rates_Q5[1]\n",
    "rpyr5 = rates_Q5[2]\n",
    "raca5 = rates_Q5[3]\n",
    "rpra5 = rates_Q5[4]\n",
    "\n",
    "print('Yaca_pra =', rpra5/raca5, 'cmolPrA/cmolAcA')"
   ]
  },
  {
   "cell_type": "markdown",
   "metadata": {},
   "source": [
    "6.) Explain the difference between questions 4.) and 5.). [4]"
   ]
  },
  {
   "cell_type": "markdown",
   "metadata": {},
   "source": [
    "When there is growth only, it implies in this case that the process is anaerobic only.\n"
   ]
  },
  {
   "cell_type": "markdown",
   "metadata": {},
   "source": [
    "When there is maintenance only, it implies not enough ATP is made available for growth"
   ]
  },
  {
   "cell_type": "markdown",
   "metadata": {},
   "source": [
    "\n",
    "7.) What is the expenditure rate on growth when the total glucose consumption rate is 1$cmolS/(cmolX.h)$. Give the answer in $(cmolS/(cmolX.h))$. [4]"
   ]
  },
  {
   "cell_type": "code",
   "execution_count": 227,
   "metadata": {},
   "outputs": [
    {
     "name": "stdout",
     "output_type": "stream",
     "text": [
      "Glucose exp on growth only= 1.1632499999999986\n",
      "Glucose exp on maintenance only= 0.20249999999999976\n",
      "The Growth Expenditure rate =  0.7975000000000002 cmolS/(cmolX.h)\n"
     ]
    }
   ],
   "source": [
    "print('Glucose exp on growth only=',rs4) #from Q4\n",
    "print('Glucose exp on maintenance only=',rs5) #from Q5\n",
    "\n",
    "Growth_exp = 1-rs5\n",
    "print('The Growth Expenditure rate = ', Growth_exp,'cmolS/(cmolX.h)')\n"
   ]
  },
  {
   "cell_type": "code",
   "execution_count": 228,
   "metadata": {},
   "outputs": [
    {
     "name": "stdout",
     "output_type": "stream",
     "text": [
      "[0.15082742316784872, -1.0, 0.8303191489361703, 0.16943262411347526, 0.5761702127659574]\n",
      "For 1cmolS mu=  0.151 1/h\n"
     ]
    }
   ],
   "source": [
    "#Part 7a\n",
    "# to find mu, redo matrix with the specification equation making glucose 1cmolS/cmolx.h\n",
    "\n",
    "def response_Q7(C):\n",
    "    Cx, Cs, Cpyr, Caca, Cpra = C[0], C[1], C[2], C[3], C[4]\n",
    "    \n",
    "    S = numpy.matrix(pandas.read_excel('2017 ST2_model2.xlsx'))\n",
    "    S1 = numpy.vstack([S,[1,0,0,0,0]])\n",
    "    K = numpy.matrix([0,0,0, thetamax, 1]).T #specified glucose as 1cmolS/cmolx.h\n",
    "    r = numpy.linalg.solve(S1,K)\n",
    "    \n",
    "    return [r[1,0],      #X\n",
    "            -r[0,0],     #Glucose\n",
    "            r[2,0],      #Pyruvate\n",
    "            r[3,0],      #Acetic Acid\n",
    "            r[4,0]]      #Propionic Acid\n",
    "rates7 = response_Q7(Co)\n",
    "\n",
    "print(rates7)\n",
    "\n",
    "mu7 = numpy.round(rates7[0],3)\n",
    "print('For 1cmolS mu= ', mu7, '1/h')"
   ]
  },
  {
   "cell_type": "code",
   "execution_count": 229,
   "metadata": {},
   "outputs": [
    {
     "name": "stdout",
     "output_type": "stream",
     "text": [
      "[0.151, -0.7984124999999992, 0.6285374999999999, 0.12457500000000014, 0.4416749999999993]\n",
      "Glucose expended on Growth= 0.798 cmolS/cmolX.h\n"
     ]
    }
   ],
   "source": [
    "#Part 7b\n",
    "#from part 7a, we now know that for 1cmolS/cmolX.h, part of that 1cmolS will be used for growth that results in mu=0.15\n",
    "#If we now fix mu from 7a in the specification equation, we will be able to see how much of the 1cmolS was spent on this growth\n",
    "#Also make theta=0, then we will know how much glucose goes towards growth only\n",
    "\n",
    "def response_Q7b(C):\n",
    "    Cx, Cs, Cpyr, Caca, Cpra = C[0], C[1], C[2], C[3], C[4]\n",
    "    \n",
    "    S = numpy.matrix(pandas.read_excel('2017 ST2_model2.xlsx'))\n",
    "    S1 = numpy.vstack([S,[0,1,0,0,0]])\n",
    "    K = numpy.matrix([0,0,0, 0, mu7]).T #specified mu7\n",
    "    r = numpy.linalg.solve(S1,K)\n",
    "    \n",
    "    return [r[1,0],      #X\n",
    "            -r[0,0],     #Glucose\n",
    "            r[2,0],      #Pyruvate\n",
    "            r[3,0],      #Acetic Acid\n",
    "            r[4,0]]      #Propionic Acid\n",
    "rates7b = response_Q7b(Co)\n",
    "\n",
    "print(rates7b)\n",
    "\n",
    "Gluc_Growth = numpy.round(-rates7b[1],3)\n",
    "\n",
    "print('Glucose expended on Growth=', Gluc_Growth, 'cmolS/cmolX.h')"
   ]
  },
  {
   "cell_type": "markdown",
   "metadata": {},
   "source": [
    "A batch fermenter run is performed . The initial glucose concentration is 150 g/L while the initial biomass concentration is 0.001 cmolX/L. The Monod constants for both growth and maintenance is given by 0.0002 cmol/L. The growth is inhibited by propionic acid ($ \\C_p$) according to the following relationship:\n",
    "$$ \\mu = \\mu_{max}(1 - C_p^2)$$"
   ]
  },
  {
   "cell_type": "markdown",
   "metadata": {},
   "source": [
    "\n",
    "8.) At what time in the fermentation does growth stop? Your answer needs to be within 2% of the correct answer. Give answer in hour. [3]"
   ]
  },
  {
   "cell_type": "code",
   "execution_count": 230,
   "metadata": {},
   "outputs": [],
   "source": [
    "Cs_o = 150/30 #cmolS/L\n",
    "Cx_o = 0.001 #CmolX/L\n",
    "Km = 0.0002 #cmol/L\n"
   ]
  },
  {
   "cell_type": "code",
   "execution_count": 231,
   "metadata": {},
   "outputs": [],
   "source": [
    "def response_fun(C):\n",
    "    \n",
    "    Cx, Cs, Cpyr, Caca, Cpra = C[0], C[1], C[2], C[3], C[4]        \n",
    "    Cp = Cpra\n",
    "    mu1 = mumax*(1 - 0.25*(Cp**2))\n",
    "    theta = thetamax*(Cs/(Km + Cs))\n",
    "    \n",
    "    if mu1 < 0.0001:\n",
    "        mu=0\n",
    "    else:\n",
    "        mu=mu1\n",
    "    \n",
    "    S =  numpy.matrix(pandas.read_excel('2017 ST2_model2.xlsx'))\n",
    "    S1 = numpy.vstack([S,[0,1,0,0,0]])  \n",
    "      \n",
    "    C= numpy.matrix([[0,0,0,theta, mu]]).T\n",
    "    r = numpy.linalg.solve(S1,C)            \n",
    "    \n",
    "     \n",
    "    \n",
    "        \n",
    "    return [r[1,0],      #X\n",
    "            -r[0,0],     #Glucose\n",
    "            r[2,0],      #Pyruvate\n",
    "            r[3,0],      #Acetic Acid\n",
    "            r[4,0],      #Propionic Acid\n",
    "            theta]"
   ]
  },
  {
   "cell_type": "code",
   "execution_count": 232,
   "metadata": {},
   "outputs": [],
   "source": [
    "def ferm_eq(C,t):\n",
    "        Cx, Cs, Cpyr, Caca, Cpra = C[0], C[1], C[2], C[3], C[4]\n",
    "        \n",
    "        r = response_fun([Cx, Cs, Cpyr, Caca, Cpra])\n",
    "        \n",
    "        rx, rs, rpyr, raca, rpra = r[0], r[1], r[2], r[3], r[4]\n",
    "        \n",
    "        return [rx*Cx,\n",
    "                rs*Cx,\n",
    "                rpyr*Cx,\n",
    "                raca*Cx,\n",
    "                rpra*Cx]"
   ]
  },
  {
   "cell_type": "code",
   "execution_count": 233,
   "metadata": {},
   "outputs": [],
   "source": [
    "tspan = linspace(0,100,1000)\n",
    "Co = [Cx_o, Cs_o, 0, 0, 0]\n",
    "\n",
    "Ci = odeint(ferm_eq, Co, tspan)\n",
    "\n",
    "Cx = Ci[:,0]\n",
    "Cs = Ci[:,1]\n",
    "Cpyr = Ci[:,2]\n",
    "Caca = Ci[:,3]\n",
    "Cpra = Ci[:,4]"
   ]
  },
  {
   "cell_type": "code",
   "execution_count": 234,
   "metadata": {},
   "outputs": [],
   "source": [
    "r = asarray([response_fun(C) for C in Ci])\n",
    "\n",
    "rx8 = r[:,0]\n",
    "rs8 = -r[:,1]\n",
    "rpyr8 = r[:,2]\n",
    "raca8 = r[:,3]\n",
    "rpra8 = r[:,4]"
   ]
  },
  {
   "cell_type": "code",
   "execution_count": 235,
   "metadata": {},
   "outputs": [
    {
     "data": {
      "image/png": "[encoded data removed]",
      "text/plain": [
       "<matplotlib.figure.Figure at 0x1fbc1bfad68>"
      ]
     },
     "metadata": {},
     "output_type": "display_data"
    }
   ],
   "source": [
    "plt.figure(1)\n",
    "plt.plot(tspan, Cx, color = 'green', label = 'x')\n",
    "plt.plot(tspan, Cs, color = 'red', label = 's')\n",
    "plt.plot(tspan, Caca, color = 'blue', label = 'aca')\n",
    "plt.plot(tspan, Cpra, color = 'cyan', label = 'pra')\n",
    "plt.xlabel('t (h)')\n",
    "plt.ylabel('Concentration (cmol/L)')\n",
    "plt.legend(loc='best')\n",
    "#plt.grid()\n",
    "plt.show()"
   ]
  },
  {
   "cell_type": "code",
   "execution_count": 236,
   "metadata": {},
   "outputs": [
    {
     "data": {
      "image/png": "[encoded data removed]",
      "text/plain": [
       "<matplotlib.figure.Figure at 0x1fbc1ef8940>"
      ]
     },
     "metadata": {},
     "output_type": "display_data"
    }
   ],
   "source": [
    "plt.figure(2)\n",
    "plt.plot(tspan, rx8, color = 'green', label = 'x')\n",
    "plt.plot(tspan, rs8, color = 'red', label = 's')\n",
    "plt.plot(tspan, raca8, color = 'blue', label = 'aca')\n",
    "plt.plot(tspan, rpra8, color = 'cyan', label = 'pra')\n",
    "plt.xlabel('t (h)')\n",
    "plt.ylabel('Concentration (cmol/L)')\n",
    "plt.legend(loc='best')\n",
    "#plt.grid()\n",
    "plt.show()"
   ]
  },
  {
   "cell_type": "code",
   "execution_count": 237,
   "metadata": {},
   "outputs": [
    {
     "name": "stdout",
     "output_type": "stream",
     "text": [
      "33.3333333331982 h\n"
     ]
    }
   ],
   "source": [
    "#if 0 is entered as desired end point, result is 100 hours\n",
    "#make sure to draw graph to see if result is reasonable\n",
    "#in this case, growth stops near 30 on graph so results are reasonable\n",
    "\n",
    "growthend = interp(0.000000000001,rx8[::-1],tspan[::-1]) \n",
    "print(growthend,'h')"
   ]
  },
  {
   "cell_type": "markdown",
   "metadata": {},
   "source": [
    "9.) Determine the time elapsed when the maximum volumetric growth rate occurs. Your Answer needs to be within 1% of the correct result. Give the answer in hours. [3]"
   ]
  },
  {
   "cell_type": "code",
   "execution_count": 250,
   "metadata": {},
   "outputs": [
    {
     "data": {
      "image/png": "[encoded data removed]",
      "text/plain": [
       "<matplotlib.figure.Figure at 0x1fbc1ec3f28>"
      ]
     },
     "metadata": {},
     "output_type": "display_data"
    }
   ],
   "source": [
    "r9 = asarray([response_fun(C) for C in Ci])\n",
    "\n",
    "rx9 = r9[:,0]\n",
    "rs9 = r9[:,1]\n",
    "rpyr9 = r9[:,2]\n",
    "raca9 = r9[:,3]\n",
    "rpra9 = r9[:,4]\n",
    "theta = r9[:,5]\n",
    "\n",
    "rx9_v = rx9*Cx\n",
    "\n",
    "plt.figure(3)\n",
    "#plt.plot(tspan, rx9, color = 'green', label = 'rx')\n",
    "#plt.plot(tspan, rs9, color = 'blue', label = 'rs')\n",
    "plt.plot(tspan, rx9_v, color = 'red', label = 'rs')\n",
    "plt.xlabel('t (h)')\n",
    "plt.ylabel('RateV (cmolX/L.h)')\n",
    "plt.legend(loc='best')\n",
    "#plt.grid()\n",
    "plt.show()"
   ]
  },
  {
   "cell_type": "code",
   "execution_count": 251,
   "metadata": {},
   "outputs": [
    {
     "data": {
      "text/plain": [
       "27.027027027027028"
      ]
     },
     "execution_count": 251,
     "metadata": {},
     "output_type": "execute_result"
    }
   ],
   "source": [
    "rx9_v = rx9*Cx\n",
    "rx9_vmax = argmax(rx9_v == max(rx9_v))\n",
    "tmax = tspan[rx9_vmax]\n",
    "tmax"
   ]
  },
  {
   "cell_type": "markdown",
   "metadata": {},
   "source": [
    "10.) Plot the instantaneous and accumulative yield of propionic acid on glucose (in cmol/cmol) on a single quantitative plot. Accumulative is the overall product yield obtained at the specific instant in time (as if the fermentation stopped at that instant in time). [4]"
   ]
  },
  {
   "cell_type": "code",
   "execution_count": 240,
   "metadata": {},
   "outputs": [
    {
     "name": "stderr",
     "output_type": "stream",
     "text": [
      "C:\\Users\\baral\\Anaconda3\\lib\\site-packages\\ipykernel_launcher.py:2: RuntimeWarning: invalid value encountered in true_divide\n",
      "  \n"
     ]
    },
    {
     "data": {
      "image/png": "[encoded data removed]",
      "text/plain": [
       "<matplotlib.figure.Figure at 0x1fbc1e24710>"
      ]
     },
     "metadata": {},
     "output_type": "display_data"
    }
   ],
   "source": [
    "iYield = rpra9/-rs9\n",
    "aYield = Cpra /-(Cs - Cs_o)\n",
    "#plt.plot(tspan, -ri[:,1])\n",
    "#plt.plot(tspan, ri[:,2])\n",
    "plt.figure(4)\n",
    "plt.plot(tspan, iYield, color='green', label='iYield')\n",
    "plt.plot(tspan, aYield, color='blue', label='aYield')\n",
    "plt.axis([0,70,0.55, 0.7])\n",
    "plt.xlabel('t (h)')\n",
    "plt.ylabel('Yield (cmol/cmol)')\n",
    "plt.legend(loc='best')\n",
    "plt.show()\n"
   ]
  },
  {
   "cell_type": "markdown",
   "metadata": {},
   "source": [
    "11.) Determine the time in the fermentation when the energy expenditure is perfectly balanced between growth and maintenance (1:1). Your answer needs to be within 1% of the correct solution. [4]"
   ]
  },
  {
   "cell_type": "code",
   "execution_count": 241,
   "metadata": {},
   "outputs": [
    {
     "data": {
      "image/png": "[encoded data removed]",
      "text/plain": [
       "<matplotlib.figure.Figure at 0x1fbc1efdd68>"
      ]
     },
     "metadata": {},
     "output_type": "display_data"
    }
   ],
   "source": [
    "# In the ATP balance line of the matrix, theta is the maintenance, and -gamma*r1 is the growth. Both are equal in a perfectly balanced energy expenditure\n",
    "\n",
    "\n",
    "plt.figure(5)\n",
    "plt.plot(tspan, rx9*1.8, color = 'green', label = 'gamma*rx')\n",
    "plt.plot(tspan, theta, color = 'blue', label = 'theta')\n",
    "plt.xlabel('t (h)')\n",
    "plt.ylabel('Rate (molATP/(cmolX.h))')\n",
    "plt.legend(loc='best')\n",
    "#plt.grid()\n",
    "plt.show()"
   ]
  },
  {
   "cell_type": "code",
   "execution_count": 242,
   "metadata": {},
   "outputs": [
    {
     "data": {
      "text/plain": [
       "30.830830830830834"
      ]
     },
     "execution_count": 242,
     "metadata": {},
     "output_type": "execute_result"
    }
   ],
   "source": [
    "tspan[numpy.where(abs(rx9*1.8)<theta)[0][0] ] #result looks reasonable"
   ]
  },
  {
   "cell_type": "markdown",
   "metadata": {},
   "source": [
    "12.) If the value of $\\theta_{max}$ was two times higher, how will the overall product yield (APY) and productivity compare to before (when all glucose is consumed)"
   ]
  },
  {
   "cell_type": "code",
   "execution_count": 243,
   "metadata": {},
   "outputs": [
    {
     "data": {
      "text/plain": [
       "49.24924924924925"
      ]
     },
     "execution_count": 243,
     "metadata": {},
     "output_type": "execute_result"
    }
   ],
   "source": [
    "tend = tspan[ numpy.where(Cs <= 0)[0][0] ]\n",
    "tend"
   ]
  },
  {
   "cell_type": "code",
   "execution_count": 244,
   "metadata": {},
   "outputs": [
    {
     "data": {
      "text/plain": [
       "33.3333333331982"
      ]
     },
     "execution_count": 244,
     "metadata": {},
     "output_type": "execute_result"
    }
   ],
   "source": [
    "growthend"
   ]
  },
  {
   "cell_type": "code",
   "execution_count": 245,
   "metadata": {},
   "outputs": [
    {
     "name": "stdout",
     "output_type": "stream",
     "text": [
      "APY 0.6084448984040678\n",
      "Productivity 0.06177199730748615\n"
     ]
    }
   ],
   "source": [
    "print(\"APY\", aYield[-1])\n",
    "print(\"Productivity\", Cpra[-1]/tend)\n",
    "\n",
    "def response_fun2(C):\n",
    "    \n",
    "    Cx, Cs, Cpyr, Caca, Cpra = C[0], C[1], C[2], C[3], C[4]        \n",
    "    Cp = Cpra        \n",
    "    mu1=mumax*Cs/(Km+Cs)*(1-0.25*Cp*Cp)\n",
    "    theta=2*thetamax*Cs/(Km+Cs)\n",
    "    \n",
    "    if mu1 < 0.0001:\n",
    "        mu=0\n",
    "    else:\n",
    "        mu=mu1\n",
    "    \n",
    "    S =  numpy.matrix(pandas.read_excel('2017 ST2_model2.xlsx'))\n",
    "    S1 = numpy.vstack([S,[0,1,0,0,0]])  \n",
    "      \n",
    "    C= numpy.matrix([[0,0,0,theta, mu]]).T\n",
    "    r = numpy.linalg.solve(S1,C)            \n",
    "    \n",
    "     \n",
    "    \n",
    "        \n",
    "    return [r[1,0],      #X\n",
    "            -r[0,0],     #Glucose\n",
    "            r[2,0],      #Pyruvate\n",
    "            r[3,0],      #Acetic Acid\n",
    "            r[4,0],      #Propionic Acid\n",
    "            theta,\n",
    "            mu]                                                    \n"
   ]
  },
  {
   "cell_type": "code",
   "execution_count": 246,
   "metadata": {},
   "outputs": [],
   "source": [
    "def ferm_eq2(C,t):\n",
    "    Cx, Cs, Cpyr, Caca, Cpra = C[0], C[1], C[2], C[3], C[4]\n",
    "    r = response_fun2([Cx, Cs, Cpyr, Caca, Cpra])\n",
    "    rx, rs, rpyr, raca, rpra = r[0], r[1], r[2], r[3], r[4]\n",
    "    \n",
    "          \n",
    "    return [rx*Cx,\n",
    "            rs*Cx,\n",
    "            rpyr*Cx,\n",
    "            raca*Cx,\n",
    "            rpra*Cx]"
   ]
  },
  {
   "cell_type": "code",
   "execution_count": 247,
   "metadata": {},
   "outputs": [
    {
     "name": "stdout",
     "output_type": "stream",
     "text": [
      "APY2 0.6198329871878518\n",
      "Productivity2 0.07389178451081908\n"
     ]
    },
    {
     "name": "stderr",
     "output_type": "stream",
     "text": [
      "C:\\Users\\baral\\Anaconda3\\lib\\site-packages\\ipykernel_launcher.py:3: RuntimeWarning: invalid value encountered in true_divide\n",
      "  This is separate from the ipykernel package so we can avoid doing imports until\n"
     ]
    },
    {
     "data": {
      "image/png": "[encoded data removed]",
      "text/plain": [
       "<matplotlib.figure.Figure at 0x1fbc1f64390>"
      ]
     },
     "metadata": {},
     "output_type": "display_data"
    }
   ],
   "source": [
    "Ci2 = odeint(ferm_eq2, Co, tspan)\n",
    "\n",
    "aYield2 = Ci2[:,4] / -( Ci2[:,1] - Ci2[:,1][0])\n",
    "tend2 = tspan[ numpy.where(Ci2[:,1] <= 0)[0][0] ]\n",
    "print(\"APY2\", aYield2[-1])\n",
    "print(\"Productivity2\", Ci2[:,4][-1]/tend2)\n",
    "\n",
    "for i in range(3):\n",
    "    plt.plot(tspan, Ci2[:,i], label=i)\n",
    "plt.legend()\n",
    "plt.axis([0,55,0,5.1])\n",
    "plt.show()"
   ]
  },
  {
   "cell_type": "markdown",
   "metadata": {},
   "source": [
    "C) Yield and productivity will increase because glucose consumption rates will be higher at all times and instantaneous yields higher during growth."
   ]
  },
  {
   "cell_type": "code",
   "execution_count": null,
   "metadata": {},
   "outputs": [],
   "source": []
  }
 ],
 "metadata": {
  "kernelspec": {
   "display_name": "Python 3",
   "language": "python",
   "name": "python3"
  },
  "language_info": {
   "codemirror_mode": {
    "name": "ipython",
    "version": 3
   },
   "file_extension": ".py",
   "mimetype": "text/x-python",
   "name": "python",
   "nbconvert_exporter": "python",
   "pygments_lexer": "ipython3",
   "version": "3.6.4"
  }
 },
 "nbformat": 4,
 "nbformat_minor": 2
}
