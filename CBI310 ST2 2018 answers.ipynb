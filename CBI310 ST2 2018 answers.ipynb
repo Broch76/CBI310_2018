{
 "cells": [
  {
   "cell_type": "code",
   "execution_count": 17,
   "metadata": {},
   "outputs": [],
   "source": [
    "from __future__ import division\n",
    "import numpy\n",
    "import pandas\n",
    "import matplotlib.pyplot as plt\n",
    "from numpy import matrix, linalg, linspace, interp, asarray, argmax\n",
    "from scipy.integrate import odeint\n",
    "from scipy.stats import linregress \n",
    "%matplotlib inline"
   ]
  },
  {
   "cell_type": "markdown",
   "metadata": {},
   "source": [
    "<img src=\"tukkies.png\" width=\"150\" />\n",
    "\n",
    "100 minutes"
   ]
  },
  {
   "cell_type": "markdown",
   "metadata": {},
   "source": [
    "The aerobic metabolism of Actinobacillus ethenonicum is given below as cmol map.\n",
    "\n",
    "<img src=\"actinobacillus.png\" width=\"450\" />"
   ]
  },
  {
   "cell_type": "markdown",
   "metadata": {},
   "source": [
    "Apart from $CO_2$ the only catabolite formed is ethenone ($C_2H_2O$).\n",
    "\n",
    "The following physical properties are known:\n",
    "\n",
    "|$\\alpha \\qquad \\qquad$|$\\mu_{max} \\qquad$|$\\theta_{max}\\qquad$| $Biomass$ $\\qquad \\qquad$\n",
    "|----|-|-|-|-\n",
    "|$\\frac{cmol\\,CO_2}{cmol \\, X}$|$\\frac{1}{h}$|$\\frac{mol \\, ATP}{cmol\\,X\\cdot h}$|$X$\n",
    "|0.05|0.25|0.08|$CH_{1.92}O_{0.63}N_{0.25}$\n",
    "\n"
   ]
  },
  {
   "cell_type": "code",
   "execution_count": 18,
   "metadata": {},
   "outputs": [],
   "source": [
    "MMx = 27.5 #kg/kmol\n",
    "alpha = 0.05\n",
    "mumax = 0.25\n",
    "thetamax = 0.08"
   ]
  },
  {
   "cell_type": "markdown",
   "metadata": {},
   "source": [
    "1.) Determine the value of $x$ (see map). Use a minus sign if NADH is consumed (arrow inwards). [3]"
   ]
  },
  {
   "cell_type": "markdown",
   "metadata": {},
   "source": [
    "\n",
    "On the stream after pyruvate, before the split to $CO_2$, we know 1NADH is produced or 1/3NADH per cmol pyruvate. After the split on the ethenone stream, the 1NADH is divided by the 2 carbons of ethenone to convert it to per cmol Ethenone. Hence the answer is x = +0.5NADH/(cmol Ethenone)\n"
   ]
  },
  {
   "cell_type": "markdown",
   "metadata": {},
   "source": [
    "2.) Determine the value of $\\beta$. [3]"
   ]
  },
  {
   "cell_type": "code",
   "execution_count": 19,
   "metadata": {},
   "outputs": [
    {
     "data": {
      "text/plain": [
       "0.14499999999999993"
      ]
     },
     "execution_count": 19,
     "metadata": {},
     "output_type": "execute_result"
    }
   ],
   "source": [
    "DOR = numpy.matrix([[-1, 0, 1, 1, 0],\n",
    "                   [-4, 0, 3.91, 0, 2],\n",
    "                   [0, -1, 0.25, 0, 0],\n",
    "                   [0, 0, 1, 0, 0],\n",
    "                   [0, 0, 0, 1, 0]])\n",
    "\n",
    "C = numpy.matrix([0, 0, 0, 1, alpha]).T\n",
    "\n",
    "DORrates = numpy.linalg.solve(DOR,C)\n",
    "\n",
    "Beta = DORrates[4,0]\n",
    "\n",
    "Beta"
   ]
  },
  {
   "cell_type": "markdown",
   "metadata": {},
   "source": [
    "3.)Note that 3 equations of the flux model are supplies in hidden format (ST2_mod.xlsx) where the third row represents the ATP balance (that is equal to $\\theta$). What is the value of $\\gamma$ in $\\frac{mol \\, ATP}{Cmol \\, X}$? [3]"
   ]
  },
  {
   "cell_type": "code",
   "execution_count": 20,
   "metadata": {},
   "outputs": [],
   "source": [
    "def response_Q3(C):\n",
    "    Cx, Cs, Cet, Cox = C[0], C[1], C[2], C[3]\n",
    "    \n",
    "    S = numpy.matrix(pandas.read_excel('ST2_mod.xlsx'))\n",
    "    S1 = numpy.vstack([S,[0,1,0,0]])\n",
    "    K = numpy.matrix([0,0, thetamax, mumax]).T\n",
    "    r = numpy.linalg.solve(S1,K)\n",
    "    \n",
    "    return [r[1,0],      #X\n",
    "            -r[0,0],     #Glucose\n",
    "            r[2,0],      #Ethenone\n",
    "            r[3,0]]      #Oxygen consumption"
   ]
  },
  {
   "cell_type": "code",
   "execution_count": 21,
   "metadata": {},
   "outputs": [
    {
     "data": {
      "text/plain": [
       "[0.25, -0.7223437500000001, 0.3065625, 0.17140625]"
      ]
     },
     "execution_count": 21,
     "metadata": {},
     "output_type": "execute_result"
    }
   ],
   "source": [
    "Cxo = 0\n",
    "Cso = 1\n",
    "Co = [Cxo, Cso, 0, 0]\n",
    "\n",
    "rates_Q3 = response_Q3(Co)\n",
    "\n",
    "rx = rates_Q3[0]\n",
    "rs = -rates_Q3[1]\n",
    "ret = rates_Q3[2]\n",
    "rox = rates_Q3[3]\n",
    "\n",
    "rates_Q3"
   ]
  },
  {
   "cell_type": "markdown",
   "metadata": {},
   "source": [
    "Just solve for gamma on ATP balance:\n",
    "\n",
    "$$-\\gamma{r_1} + 0.5r_2 + 3r_3 = \\theta$$\n",
    "\n",
    "Remember the 1/3ATP per cmol Pyruvate is equivalent to 1/2ATP per cmol Ethenone.\n"
   ]
  },
  {
   "cell_type": "code",
   "execution_count": 22,
   "metadata": {},
   "outputs": [
    {
     "data": {
      "text/plain": [
       "2.3500000000000005"
      ]
     },
     "execution_count": 22,
     "metadata": {},
     "output_type": "execute_result"
    }
   ],
   "source": [
    "gamma = ((1/2)*ret + 3*rox - thetamax)/rx\n",
    "gamma"
   ]
  },
  {
   "cell_type": "markdown",
   "metadata": {},
   "source": [
    "4.) What is the rate of $O_2$ consumption in $\\frac{mol}{Cmol \\, X.h}$ if both $\\mu$ and $\\theta$ is at a maximum? [2]"
   ]
  },
  {
   "cell_type": "markdown",
   "metadata": {},
   "source": [
    "Just read it from the response_fun returns"
   ]
  },
  {
   "cell_type": "code",
   "execution_count": 23,
   "metadata": {},
   "outputs": [
    {
     "data": {
      "text/plain": [
       "0.17140625"
      ]
     },
     "execution_count": 23,
     "metadata": {},
     "output_type": "execute_result"
    }
   ],
   "source": [
    "rox"
   ]
  },
  {
   "cell_type": "markdown",
   "metadata": {},
   "source": [
    "5.) What is the rate of $CO_2$ production in $\\frac{mol}{Cmol \\, X.h}$  if both $\\mu$ and $\\theta$ is at a maximum? [2]"
   ]
  },
  {
   "cell_type": "markdown",
   "metadata": {},
   "source": [
    "$CO_2$ balance is determined by:\n",
    "\n",
    "$$CO_2{(Total)} = \\alpha{r_1} + 2r_2$$"
   ]
  },
  {
   "cell_type": "code",
   "execution_count": 24,
   "metadata": {},
   "outputs": [
    {
     "data": {
      "text/plain": [
       "0.16578125000000002"
      ]
     },
     "execution_count": 24,
     "metadata": {},
     "output_type": "execute_result"
    }
   ],
   "source": [
    "rco2 = alpha*rx + (1/2)*ret\n",
    "rco2"
   ]
  },
  {
   "cell_type": "markdown",
   "metadata": {},
   "source": [
    "6.) Is anaerobic operation possible for the organism? Explain your answer. [2]"
   ]
  },
  {
   "cell_type": "markdown",
   "metadata": {},
   "source": [
    "\n",
    "No. Ethenone is produced as part of respiration where NADH is released. If no NADH is released, no Ethenone can be produced.\n",
    "\n"
   ]
  },
  {
   "cell_type": "markdown",
   "metadata": {},
   "source": [
    "\n",
    "\n",
    "A batch fermenter run is performed. The initial glucose concentration is $120 g/L$ while the initial biomass concentration is $0.002\\frac{cmol\\,X}{L}$.  The Monod constant for both growth and maintenance is given by $0.0003\\frac{cmol}{L}$. The growth rate is inhibited by ethenone ($C_E$) according to the following relationship:\n",
    "\n",
    "$$\\mu = \\mu_{max}(1 - 0.42C_E^{2})$$\n",
    "\n"
   ]
  },
  {
   "cell_type": "markdown",
   "metadata": {},
   "source": [
    "7.) Do the following question without performing integration. If the value of $r_o$ is $0.1\\frac{mol\\,O_2}{Cmol \\, X.h}$ what will be the value of $C_E$($\\frac{cmol}{L}$) in the fermenter. [3]"
   ]
  },
  {
   "cell_type": "code",
   "execution_count": 25,
   "metadata": {},
   "outputs": [],
   "source": [
    "Cso, Cxo, Km = 120/30, 0.002, 0.0003"
   ]
  },
  {
   "cell_type": "code",
   "execution_count": 26,
   "metadata": {},
   "outputs": [],
   "source": [
    "def response_Q7(C):\n",
    "    Cx, Cs, Cet, Cox = C[0], C[1], C[2], C[3]\n",
    "    \n",
    "    mu1 = mumax*(1 - 0.42*(Cet**2))\n",
    "    theta = thetamax*(Cs/(Km + Cs))\n",
    "    \n",
    "    if mu1 < 0.0001:\n",
    "        mu=0\n",
    "    else:\n",
    "        mu=mu1\n",
    "    \n",
    "    S = numpy.matrix(pandas.read_excel('ST2_mod.xlsx'))\n",
    "    S1 = numpy.vstack([S,[0,0,0,1]])\n",
    "    K = numpy.matrix([0,0, theta, 0.1]).T\n",
    "    r = numpy.linalg.solve(S1,K)\n",
    "    \n",
    "    return [r[1,0],      #X\n",
    "            -r[0,0],     #Glucose\n",
    "            r[2,0],      #Ethenone\n",
    "            r[3,0]]      #Oxygen consumption"
   ]
  },
  {
   "cell_type": "code",
   "execution_count": 29,
   "metadata": {},
   "outputs": [
    {
     "data": {
      "text/plain": [
       "0.13209741983489526"
      ]
     },
     "execution_count": 29,
     "metadata": {},
     "output_type": "execute_result"
    }
   ],
   "source": [
    "Co7 = (Cxo, Cso, 0 ,0)\n",
    "rates7 = response_Q7(Co7)\n",
    "rates7[0]"
   ]
  },
  {
   "cell_type": "markdown",
   "metadata": {},
   "source": [
    "\n",
    "Now solve for $C_E$ using the given equation\n"
   ]
  },
  {
   "cell_type": "code",
   "execution_count": 32,
   "metadata": {},
   "outputs": [
    {
     "data": {
      "text/plain": [
       "1.0596611325599048"
      ]
     },
     "execution_count": 32,
     "metadata": {},
     "output_type": "execute_result"
    }
   ],
   "source": [
    "Ce7 = ((1 - (rates7[0]/mumax))/0.42)**(1/2)\n",
    "Ce7"
   ]
  },
  {
   "cell_type": "markdown",
   "metadata": {},
   "source": [
    "8.) At what time does growth terminate? Give answers in hours. [3]"
   ]
  },
  {
   "cell_type": "code",
   "execution_count": 71,
   "metadata": {},
   "outputs": [],
   "source": [
    "def response_Q8(C):\n",
    "    Cx, Cs, Cet, Cox = C[0], C[1], C[2], C[3]\n",
    "    \n",
    "    mu1 = mumax*(1 - 0.42*(Cet**2))\n",
    "    theta = thetamax*(Cs/(Km + Cs))\n",
    "    \n",
    "    if mu1 < 0.0001:\n",
    "        mu=0\n",
    "    else:\n",
    "        mu=mu1\n",
    "    \n",
    "    S = numpy.matrix(pandas.read_excel('ST2_mod.xlsx'))\n",
    "    S1 = numpy.vstack([S,[0,1,0,0]])\n",
    "    K = numpy.matrix([0,0, theta, mu]).T\n",
    "    r = numpy.linalg.solve(S1,K)\n",
    "    \n",
    "    return [r[1,0],      #X\n",
    "            -r[0,0],     #Glucose\n",
    "            r[2,0],      #Ethenone\n",
    "            r[3,0],      #Oxygen consumption\n",
    "            theta]"
   ]
  },
  {
   "cell_type": "code",
   "execution_count": 47,
   "metadata": {},
   "outputs": [],
   "source": [
    "def ferm_eq8(C,t):\n",
    "        Cx, Cs, Cet, Cox = C[0], C[1], C[2], C[3]\n",
    "        \n",
    "        r = response_Q8([Cx, Cs, Cet, Cox])\n",
    "                \n",
    "        return [r[0]*Cx,\n",
    "                r[1]*Cx,\n",
    "                r[2]*Cx,\n",
    "                r[3]*Cx]"
   ]
  },
  {
   "cell_type": "code",
   "execution_count": 62,
   "metadata": {},
   "outputs": [],
   "source": [
    "Co8 = (Cxo, Cso, 0, 0)\n",
    "tmax8 = 50\n",
    "tspan8 = numpy.linspace(0,tmax8,500)\n",
    "\n",
    "Ci8 = odeint(ferm_eq8, Co8, tspan8)\n",
    "\n",
    "Cx8, Cs8, Cet8, Cox8 = Ci8.T"
   ]
  },
  {
   "cell_type": "code",
   "execution_count": 63,
   "metadata": {},
   "outputs": [],
   "source": [
    "r8 = asarray([response_Q8(C) for C in Ci8])\n",
    "\n",
    "rx8 = r8[:,0]\n",
    "rs8 = -r8[:,1]\n",
    "ret8 = r8[:,2]\n",
    "rox8 = r8[:,3]"
   ]
  },
  {
   "cell_type": "code",
   "execution_count": 64,
   "metadata": {},
   "outputs": [
    {
     "data": {
      "image/png": "[encoded data removed]",
      "text/plain": [
       "<matplotlib.figure.Figure at 0x185802f4710>"
      ]
     },
     "metadata": {},
     "output_type": "display_data"
    }
   ],
   "source": [
    "plt.figure(1)\n",
    "plt.plot(tspan8, Cx8, color = 'green', label = 'Cx')\n",
    "plt.plot(tspan8, Cs8, color = 'red', label = 'Cs')\n",
    "plt.plot(tspan8, Cet8, color = 'blue', label = 'Cet')\n",
    "plt.plot(tspan8, Cox8, color = 'cyan', label = 'Cox')\n",
    "plt.xlabel('t (h)')\n",
    "plt.ylabel('Concentration (cmol/L)')\n",
    "plt.legend(loc='best')\n",
    "#plt.grid()\n",
    "plt.show()"
   ]
  },
  {
   "cell_type": "code",
   "execution_count": 65,
   "metadata": {},
   "outputs": [
    {
     "data": {
      "image/png": "[encoded data removed]",
      "text/plain": [
       "<matplotlib.figure.Figure at 0x1858037b828>"
      ]
     },
     "metadata": {},
     "output_type": "display_data"
    }
   ],
   "source": [
    "plt.figure(2)\n",
    "plt.plot(tspan8, rx8, color = 'green', label = 'rx')\n",
    "plt.plot(tspan8, rs8, color = 'red', label = 'rs')\n",
    "plt.plot(tspan8, ret8, color = 'blue', label = 'ret')\n",
    "plt.plot(tspan8, rox8, color = 'cyan', label = 'rox')\n",
    "plt.xlabel('t (h)')\n",
    "plt.ylabel('Rates (cmolx/cmolx.h)')\n",
    "plt.legend(loc='best')\n",
    "#plt.grid()\n",
    "plt.show()"
   ]
  },
  {
   "cell_type": "code",
   "execution_count": 66,
   "metadata": {},
   "outputs": [
    {
     "data": {
      "text/plain": [
       "30.251655003135106"
      ]
     },
     "execution_count": 66,
     "metadata": {},
     "output_type": "execute_result"
    }
   ],
   "source": [
    "growthend = interp(0.0001,rx8[::-1],tspan8[::-1])\n",
    "growthend"
   ]
  },
  {
   "cell_type": "markdown",
   "metadata": {},
   "source": [
    "9.) Plot the time dependent concentration profile of ethenone. [2]"
   ]
  },
  {
   "cell_type": "code",
   "execution_count": 67,
   "metadata": {},
   "outputs": [
    {
     "data": {
      "image/png": "[encoded data removed]",
      "text/plain": [
       "<matplotlib.figure.Figure at 0x1858001d710>"
      ]
     },
     "metadata": {},
     "output_type": "display_data"
    }
   ],
   "source": [
    "plt.figure(3)\n",
    "plt.plot(tspan8, Cet8, color = 'blue', label = 'Cet')\n",
    "plt.xlabel('t (h)')\n",
    "plt.ylabel('Concentration (cmol/L)')\n",
    "plt.legend(loc='best')\n",
    "#plt.grid()\n",
    "plt.show()"
   ]
  },
  {
   "cell_type": "markdown",
   "metadata": {},
   "source": [
    "To get full marks for this question, there needs to be a change in concetration gradient before it reaches the maximum to show when growth is done."
   ]
  },
  {
   "cell_type": "markdown",
   "metadata": {},
   "source": [
    "10.) At what time in the fermentation is the volumetric consumption rate of oxygen at a maximum? Give answer in hours. [3]"
   ]
  },
  {
   "cell_type": "code",
   "execution_count": 68,
   "metadata": {},
   "outputs": [
    {
     "data": {
      "text/plain": [
       "24.549098196392787"
      ]
     },
     "execution_count": 68,
     "metadata": {},
     "output_type": "execute_result"
    }
   ],
   "source": [
    "rox8_v = rox8 * Cx8\n",
    "rox8_vmax = argmax(rox8_v == max(rox8_v))\n",
    "tmax = tspan8[rox8_vmax]\n",
    "tmax"
   ]
  },
  {
   "cell_type": "markdown",
   "metadata": {},
   "source": [
    "11.) At the time in question 10.), what fraction of glucose consumed is used to generate energy for growth? [3]"
   ]
  },
  {
   "cell_type": "code",
   "execution_count": 102,
   "metadata": {},
   "outputs": [
    {
     "data": {
      "text/plain": [
       "array([0.74408194, 1.82858829, 0.92815045, 0.51787617])"
      ]
     },
     "execution_count": 102,
     "metadata": {},
     "output_type": "execute_result"
    }
   ],
   "source": [
    "tspan11=numpy.linspace(0,tmax,500)           \n",
    "Ci11 = odeint(ferm_eq8, Co8, tspan11)\n",
    "C11 = Ci11[-1,:]\n",
    "C11"
   ]
  },
  {
   "cell_type": "code",
   "execution_count": 103,
   "metadata": {},
   "outputs": [
    {
     "data": {
      "text/plain": [
       "[0.15954635736376052,\n",
       " -0.4826882884960512,\n",
       " 0.21010974217606843,\n",
       " 0.11662198199690685,\n",
       " 0.07998687727391751]"
      ]
     },
     "execution_count": 103,
     "metadata": {},
     "output_type": "execute_result"
    }
   ],
   "source": [
    "rates11=response_Q8(C11)\n",
    "rates11"
   ]
  },
  {
   "cell_type": "code",
   "execution_count": 104,
   "metadata": {},
   "outputs": [],
   "source": [
    "def response_growth(C):\n",
    "    Cx, Cs, Cet, Cox = C[0], C[1], C[2], C[3]\n",
    "    \n",
    "    mu1 = mumax*(1 - 0.42*(Cet**2))\n",
    "    theta = thetamax*(Cs/(Km + Cs))\n",
    "    \n",
    "    if mu1 < 0.0001:\n",
    "        mu=0\n",
    "    else:\n",
    "        mu=mu1\n",
    "    \n",
    "    S = numpy.matrix(pandas.read_excel('ST2_mod.xlsx'))\n",
    "    S1 = numpy.vstack([S,[0,1,0,0]])\n",
    "    K = numpy.matrix([0,0, 0, mu]).T\n",
    "    r = numpy.linalg.solve(S1,K)\n",
    "    \n",
    "    return [r[1,0],      #X\n",
    "            -r[0,0],     #Glucose\n",
    "            r[2,0],      #Ethenone\n",
    "            r[3,0],      #Oxygen consumption\n",
    "            theta]"
   ]
  },
  {
   "cell_type": "code",
   "execution_count": 105,
   "metadata": {},
   "outputs": [
    {
     "data": {
      "text/plain": [
       "[0.15954635736376052,\n",
       " -0.4226981305406131,\n",
       " 0.1701163035391097,\n",
       " 0.09662526267842747,\n",
       " 0.07998687727391751]"
      ]
     },
     "execution_count": 105,
     "metadata": {},
     "output_type": "execute_result"
    }
   ],
   "source": [
    "ratesG = response_growth(C11)\n",
    "ratesG"
   ]
  },
  {
   "cell_type": "code",
   "execution_count": 106,
   "metadata": {},
   "outputs": [
    {
     "data": {
      "text/plain": [
       "0.8757165661873545"
      ]
     },
     "execution_count": 106,
     "metadata": {},
     "output_type": "execute_result"
    }
   ],
   "source": [
    "GrowthFrac = ratesG[1]/rates11[1]\n",
    "GrowthFrac"
   ]
  },
  {
   "cell_type": "markdown",
   "metadata": {},
   "source": [
    "12.) How will you improve the accumulated product yield (APY) of this fermentation without altering the initial glucose or biomass concentrations? Explain your reasoning. [3]"
   ]
  },
  {
   "cell_type": "code",
   "execution_count": 108,
   "metadata": {},
   "outputs": [
    {
     "data": {
      "text/plain": [
       "38.13195436780285"
      ]
     },
     "execution_count": 108,
     "metadata": {},
     "output_type": "execute_result"
    }
   ],
   "source": [
    "tdone = interp(0.001, Cs8[::-1],tspan8[::-1])\n",
    "tdone"
   ]
  },
  {
   "cell_type": "code",
   "execution_count": 109,
   "metadata": {},
   "outputs": [
    {
     "data": {
      "text/plain": [
       "1.0415995076012932"
      ]
     },
     "execution_count": 109,
     "metadata": {},
     "output_type": "execute_result"
    }
   ],
   "source": [
    "P12 = max(Cet8)/tdone*21\n",
    "P12"
   ]
  },
  {
   "cell_type": "code",
   "execution_count": 110,
   "metadata": {},
   "outputs": [
    {
     "data": {
      "text/plain": [
       "0.33098520744482024"
      ]
     },
     "execution_count": 110,
     "metadata": {},
     "output_type": "execute_result"
    }
   ],
   "source": [
    "APY12 = max(Cet8)/Cso*21/30\n",
    "APY12"
   ]
  },
  {
   "cell_type": "markdown",
   "metadata": {},
   "source": []
  }
 ],
 "metadata": {
  "kernelspec": {
   "display_name": "Python 3",
   "language": "python",
   "name": "python3"
  },
  "language_info": {
   "codemirror_mode": {
    "name": "ipython",
    "version": 3
   },
   "file_extension": ".py",
   "mimetype": "text/x-python",
   "name": "python",
   "nbconvert_exporter": "python",
   "pygments_lexer": "ipython3",
   "version": "3.6.4"
  }
 },
 "nbformat": 4,
 "nbformat_minor": 2
}
