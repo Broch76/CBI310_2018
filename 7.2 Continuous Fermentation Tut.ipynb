{
 "cells": [
  {
   "cell_type": "code",
   "execution_count": 82,
   "metadata": {},
   "outputs": [],
   "source": [
    "from __future__ import division\n",
    "import numpy\n",
    "import pandas\n",
    "import matplotlib.pyplot as plt\n",
    "from numpy import matrix, linalg, linspace, interp, asarray, argmax\n",
    "from scipy.integrate import odeint\n",
    "from scipy.stats import linregress \n",
    "%matplotlib inline\n",
    "#%matplotlib notebook"
   ]
  },
  {
   "cell_type": "markdown",
   "metadata": {},
   "source": [
    "### Continuous fermentation\n",
    "\n",
    "Most bulk scale chemical processes are operated in continuous mode, consider for example the traditional petrochemical refinery. Continuous operation offers the advantage of stability, where conditions remain the same over extended periods of time. The non-production time in expensive equipment is minimised with continuous production, while optimal conditions can be targeted at steady state.\n",
    "\n",
    "Fermentation processes can also operate at steady state. Although commercial continuous processes exist, the status quo is batch and fed-batch operation. It is much easier to operate a batch fermentation, especially in the lab, where small scale explorations establish the platform for commercial development. This is likely to change in the age of the biorefinery, where optimisation of bulk scale fermentation processes will become more important.\n",
    "\n",
    "Continuous fermentation holds some practical challenges. Long term sterility can be an issue, where infections from unwanted organisms can kill a process and cause major material losses. Genetic stability of modified microbes can also be an issue, where strain regression can occur over extended periods of operation. With proper engineering these challenges can be overcome.\n",
    "\n",
    "In the lab continuous fermentation has advantages over conventional batch fermentation. The main advantage is that the microbe can be operated at steady state by keeping all the conditions in the fermenter constant. It is much easier to understand and investigate the physiology of an organism if it is ‘standing still’. In a batch system conditions are always changing and it becomes harder to investigate the effect of the conditions on the organism. Unfortunately continuous fermentation on small scale require specialized equipment, where a batch fermentation can be as easy as putting a flask in a temperature controlled shaker, accordingly 95% of fermentation literature is based on batch of fed-batch fermentation.\n",
    "\n",
    "In this last section of the course we'll introduce the chemostat. The example will show how steady state is reached when the inlet flowrate to the fermenter is equal to the outlet flowrate. We will show how the differential part of the cmol balance becomes zero and how an algebraic equation that describes steady state results. It will be shown how the growth rate of the organism can be controlled by merely adjusting the feed (and exit) flowrates. We will use the same system as in [section 7.1](https://nbviewer.jupyter.org/github/willienicol/Biochemical-engineering-notes/blob/master/7%20Fed-batch%20and%20continuous%20fermenters/Fed-batch%20fermenters.ipynb).\n",
    "\n"
   ]
  },
  {
   "cell_type": "markdown",
   "metadata": {},
   "source": [
    "<img src=\"lacmap1.png\" width=\"450\" />\n",
    "\n",
    "The following physiological parameters will be used:\n",
    "\n",
    "\n",
    "|$\\alpha \\qquad \\qquad$|$\\gamma \\qquad \\qquad $|$\\mu_{max} \\qquad$|$\\theta_{max}\\qquad$\n",
    "|----|-|-|-\n",
    "|$\\frac{cmol\\,CO_2}{cmol \\, X}$|$\\frac{mol \\, ATP}{Cmol \\, X}$|$\\frac{1}{h}$|$\\frac{mol \\, ATP}{cmol\\,X\\cdot h}$\n",
    "|0.05|1.8|0.4|0.09\n",
    "\n",
    "Let's assume the standard biomass formula of $CH_{1.8}O_{0.5}N_{0.2}$.\n",
    "\n",
    "The growth and maintenance functions are given below. **Note that substrate inhibition used in section 7.1 is now omitted from the growth function.**\n",
    "\n",
    "$$\\mu=\\mu_{max}\\left[\\frac{Cs}{Km+Cs}\\right] \\left[1+\\frac{C_P}{K_P} \\right]^{-1} $$\n",
    "\n",
    "$$\\theta=\\theta_{max}\\left[\\frac{Cs}{Km+Cs}\\right]$$\n",
    "\n",
    "Parameters are defined in the cell below:\n"
   ]
  },
  {
   "cell_type": "code",
   "execution_count": 83,
   "metadata": {},
   "outputs": [],
   "source": [
    "Km, Kp, Ks = 0.001, 2, 5"
   ]
  },
  {
   "cell_type": "code",
   "execution_count": 84,
   "metadata": {},
   "outputs": [],
   "source": [
    "alpha = 0.05\n",
    "gamma = 1.8\n",
    "mumax = 0.4\n",
    "thetamax = 0.09"
   ]
  },
  {
   "cell_type": "markdown",
   "metadata": {},
   "source": [
    "The following video might be helpful:\n",
    "\n",
    "[Video: Lecture 19: Continuous fermentation](https://youtu.be/iuuq0p1QeaY)\n",
    "\n",
    "<img src=\"cont.png\" width=\"400\" />\n",
    "\n",
    "We are now going to operate the fermenter by continuously feeding substrate at a flowrate of $Q$, while simultaneously removing liquid from the fermenter at the same flowrate ($Q$). Like before we start by using  cmol component balance given in [section 5.3](https://nbviewer.jupyter.org/github/willienicol/Biochemical-engineering-notes/blob/master/5%20Basic%20bioreactor%20modeling/The%20fermenter%20equation.ipynb):\n",
    "\n",
    "$$\\frac{dN_i}{dt}=Q C^F_i-QC_i  + r_i C_X V $$\n",
    "\n",
    "Given that the inlet and outlet flowrates are the same, the volume in the fermenter will remain unchanged. The above equation can thus be rewritten as follow:\n",
    "\n",
    "$$\\frac{dC_i}{dt}=\\frac{Q}{V}(C^F_i-C_i) + r_i C_X  $$  \n",
    "\n",
    "Note that the outlet concentration ($C_i$) is the same as the concentration in the well mixed fermenter. The inlet concentration\n",
    "($C^F_i$) needs to be specified.\n"
   ]
  },
  {
   "cell_type": "code",
   "execution_count": 85,
   "metadata": {},
   "outputs": [],
   "source": [
    "Cfs=68/30  #cmol/l"
   ]
  },
  {
   "cell_type": "markdown",
   "metadata": {},
   "source": [
    "Note from the specification above that only glucose is fed to the fermenter. Accordingly no cells or lactic acid is fed. The 3 balances can be written separately:\n",
    "\n",
    "$$\\frac{dC_S}{dt}=\\frac{Q}{V}(C^F_S-C_S) + r_S C_X  $$\n",
    "\n",
    "$$\\frac{dC_X}{dt}=-\\frac{Q}{V}C_X + r_X C_X  $$\n",
    "\n",
    "$$\\frac{dC_P}{dt}=-\\frac{Q}{V}C_P + r_P C_X  $$\n",
    "\n"
   ]
  },
  {
   "cell_type": "markdown",
   "metadata": {},
   "source": [
    "The equations above look very similar to the batch fermenter equations of the **ferm_function**. There is however additional terms. The **response_fun** will however remain exactly the same as before.\n",
    "\n",
    "Use the following conditions and model the fermenter for 400 hours."
   ]
  },
  {
   "cell_type": "code",
   "execution_count": 86,
   "metadata": {},
   "outputs": [],
   "source": [
    "Cxo, Cso, Claco = 0.003, 0 , 0 #cmol/L\n",
    "V, Qf = 1000, 250     #L and L/h "
   ]
  },
  {
   "cell_type": "markdown",
   "metadata": {},
   "source": [
    "You should get something like this:\n",
    "\n",
    "<img src=\"cont_dyn1.png\" width=\"550\" />"
   ]
  },
  {
   "cell_type": "code",
   "execution_count": 87,
   "metadata": {},
   "outputs": [],
   "source": [
    "def response_fun(C):\n",
    "    \n",
    "    Cx, Cs, Clac= C[0],C[1],C[2]  #Same component order as in the ferm-eq\n",
    "    Cp = Clac\n",
    "                                       \n",
    "    mu1=mumax*(Cs/(Km + Cs))*((1 + (Cp/Kp))**(-1))\n",
    "    theta=thetamax*(Cs/(Km + Cs))\n",
    "    \n",
    "    if mu1 < 0.0001:   #Negative values of mu set to zero\n",
    "        mu=0 \n",
    "    else:\n",
    "        mu=mu1\n",
    "  \n",
    "    Sbase = numpy.matrix([[-1,(1+alpha),1],   #Stoichiometric matrix without specification (4x5)\n",
    "                          [0,(-1)*gamma,1/3]])\n",
    "    \n",
    "    S1 = numpy.vstack([Sbase,[0,1,0]])  #Stoich matrix with growth spec\n",
    "      \n",
    "    C= numpy.matrix([[0,theta, mu]]).T\n",
    "    r = numpy.linalg.solve(S1,C)             \n",
    "    \n",
    "    return [r[1,0],   # important to see the order of the rates (X,S,LAC)\n",
    "           -r[0,0],   # glucose, note the negative since the flux model calculated (-rs)\n",
    "            r[2,0]]   # LAC"
   ]
  },
  {
   "cell_type": "code",
   "execution_count": 88,
   "metadata": {},
   "outputs": [],
   "source": [
    "def ferm_eq(C,t):\n",
    "    Cx, Cs, Clac= C[0],C[1],C[2]  #order of components very important \n",
    "    r=response_fun([Cx, Cs, Clac])# this is the 'fetching' from the response function\n",
    "    \n",
    "    return [r[0]*Cx - (Qf*Cx)/V,          #X\n",
    "            r[1]*Cx + (Qf/V)*(Cfs - Cs),  #glucose\n",
    "            r[2]*Cx - (Qf*Clac)/V]        #LA"
   ]
  },
  {
   "cell_type": "code",
   "execution_count": 89,
   "metadata": {},
   "outputs": [
    {
     "data": {
      "image/png": "[encoded data removed]",
      "text/plain": [
       "<matplotlib.figure.Figure at 0x21d76ddb550>"
      ]
     },
     "metadata": {},
     "output_type": "display_data"
    }
   ],
   "source": [
    "Co=[Cxo, Cso, Claco]                     # [Cxo, Cso, Cpo] in cmol/L\n",
    "tmax=400                                    \n",
    "tspan=numpy.linspace(0,tmax,400)           \n",
    "Ci = odeint(ferm_eq, Co, tspan)\n",
    "\n",
    "Cx=Ci[:,0]                                  \n",
    "Cs=Ci[:,1]\n",
    "Clac=Ci[:,2]\n",
    "\n",
    "plt.figure(1)\n",
    "plt.plot(tspan, Cs, color='red',label='Cs')\n",
    "plt.plot(tspan, Cx, color='blue',label='Cx')\n",
    "plt.plot(tspan, Clac, color='green', label='Clac')\n",
    "plt.legend(loc='best')\n",
    "plt.ylabel('Concentration cmol/L') \n",
    "plt.xlabel('time (h)') \n",
    "plt.show()"
   ]
  },
  {
   "cell_type": "markdown",
   "metadata": {},
   "source": [
    "Repeat the simulation, but this time put some glucose in the fermenter beforehand:"
   ]
  },
  {
   "cell_type": "code",
   "execution_count": 90,
   "metadata": {},
   "outputs": [],
   "source": [
    "Cso=60/30  #cmol/L"
   ]
  },
  {
   "cell_type": "code",
   "execution_count": 91,
   "metadata": {},
   "outputs": [
    {
     "data": {
      "image/png": "[encoded data removed]",
      "text/plain": [
       "<matplotlib.figure.Figure at 0x21d78373438>"
      ]
     },
     "metadata": {},
     "output_type": "display_data"
    }
   ],
   "source": [
    "Co=[Cxo, Cso, Claco]                     # [Cxo, Cso, Cpo] in cmol/L\n",
    "tmax=400                                    \n",
    "tspan=numpy.linspace(0,tmax,400)           \n",
    "Ci = odeint(ferm_eq, Co, tspan)\n",
    "\n",
    "Cx=Ci[:,0]                                  \n",
    "Cs=Ci[:,1]\n",
    "Clac=Ci[:,2]\n",
    "\n",
    "plt.figure(2)\n",
    "plt.plot(tspan, Cs, color='red',label='Cs')\n",
    "plt.plot(tspan, Cx, color='blue',label='Cx')\n",
    "plt.plot(tspan, Clac, color='green', label='Clac')\n",
    "plt.legend(loc='best')\n",
    "plt.ylabel('Concentration cmol/L') \n",
    "plt.xlabel('time (h)') \n",
    "plt.show()"
   ]
  },
  {
   "cell_type": "markdown",
   "metadata": {},
   "source": [
    "You should now get something like this:\n",
    "\n",
    "<img src=\"cont_dyn2.png\" width=\"550\" />\n",
    "\n",
    "Compare the final 'steady state' condition. Is there is difference? "
   ]
  },
  {
   "cell_type": "markdown",
   "metadata": {},
   "source": [
    "No difference in the final steady state."
   ]
  },
  {
   "cell_type": "markdown",
   "metadata": {},
   "source": [
    "Now reduce $C_X^o$ to zero. What do you obtain and why?"
   ]
  },
  {
   "cell_type": "code",
   "execution_count": 92,
   "metadata": {},
   "outputs": [],
   "source": [
    "Cxo = 0"
   ]
  },
  {
   "cell_type": "code",
   "execution_count": 93,
   "metadata": {},
   "outputs": [
    {
     "data": {
      "image/png": "[encoded data removed]",
      "text/plain": [
       "<matplotlib.figure.Figure at 0x21d783738d0>"
      ]
     },
     "metadata": {},
     "output_type": "display_data"
    }
   ],
   "source": [
    "Co=[Cxo, Cso, Claco]                     # [Cxo, Cso, Cpo] in cmol/L\n",
    "tmax=400                                    \n",
    "tspan=numpy.linspace(0,tmax,400)           \n",
    "Ci = odeint(ferm_eq, Co, tspan)\n",
    "\n",
    "Cx=Ci[:,0]                                  \n",
    "Cs=Ci[:,1]\n",
    "Clac=Ci[:,2]\n",
    "\n",
    "plt.figure(3)\n",
    "plt.plot(tspan, Cs, color='red',label='Cs')\n",
    "plt.plot(tspan, Cx, color='blue',label='Cx')\n",
    "#plt.plot(tspan, Clac, color='green', label='Clac')\n",
    "plt.legend(loc='best')\n",
    "plt.ylabel('Concentration cmol/L') \n",
    "plt.xlabel('time (h)') \n",
    "plt.show()"
   ]
  },
  {
   "cell_type": "markdown",
   "metadata": {},
   "source": [
    "There needs to be growth in the cell to keep increasing production of Latose. The biomass is the bug, so one needs to inocculate the mixture with some biomass to get things rolling. Something needs to be there to chomp the glucose."
   ]
  },
  {
   "cell_type": "markdown",
   "metadata": {},
   "source": [
    "We can see that there is zero concentration change at the end of the run, thus $\\frac{dC_i}{dt}=0$. At steady state we thus have the following:\n",
    "\n",
    "$$\\frac{Q}{V}(C^F_S-C_S) + r_S C_X = 0 $$\n",
    "\n",
    "$$-\\frac{Q}{V}C_X + r_X C_X  = 0 $$\n",
    "\n",
    "$$-\\frac{Q}{V}C_P + r_P C_X = 0 $$\n",
    "\n",
    "Above we have 3 equations with 3 unknowns ($C=[C_S, C_X, C_P]$). Unlike our matrix formulations these 3 equations are non-linear, just consider the $\\mu=r_X$ function (part of the **response_fun**). It is relatively simple to solve the system of 3 non-linear algebraic equations using the Python function **fsolve**.\n",
    "\n",
    "As example, take the following system of two non-linear equations:\n",
    "\n",
    "$$y=0.02x^2$$\n",
    "\n",
    "$$y=\\frac{2}{x}$$\n",
    "\n",
    "Let's quickly plot these functions:\n"
   ]
  },
  {
   "cell_type": "code",
   "execution_count": 94,
   "metadata": {},
   "outputs": [
    {
     "data": {
      "image/png": "[encoded data removed]",
      "text/plain": [
       "<matplotlib.figure.Figure at 0x21d78364128>"
      ]
     },
     "metadata": {},
     "output_type": "display_data"
    }
   ],
   "source": [
    "xspan=numpy.linspace(1,7,200)  \n",
    "plt.figure(4)\n",
    "plt.plot(xspan, 0.02*xspan**2, color='blue', label='fun1')\n",
    "plt.plot(xspan, 2/xspan, color='red', label='fun2')\n",
    "\n",
    "plt.legend(loc='best')\n",
    "plt.ylabel('y') \n",
    "plt.xlabel('x') \n",
    "plt.show()"
   ]
  },
  {
   "cell_type": "markdown",
   "metadata": {},
   "source": [
    "The intersection on the graph above gives the **x** and **y** value where both equations are satisfied, it is therefore a root of the two-equation system. We can easily obtain these values with **fsolve**. We start by defining a function of the two equations:  "
   ]
  },
  {
   "cell_type": "code",
   "execution_count": 95,
   "metadata": {},
   "outputs": [],
   "source": [
    "def fun_algebra(C):\n",
    "    y, x = C[0], C[1]\n",
    "       \n",
    "    return [y-0.02*x**2,\n",
    "            y-2/x]            "
   ]
  },
  {
   "cell_type": "code",
   "execution_count": 96,
   "metadata": {},
   "outputs": [
    {
     "data": {
      "text/plain": [
       "array([0.43088694, 4.64158883])"
      ]
     },
     "execution_count": 96,
     "metadata": {},
     "output_type": "execute_result"
    }
   ],
   "source": [
    "from scipy.optimize import fsolve\n",
    "ans=fsolve(fun_algebra,[1,1])  #Get estimate from graph above\n",
    "ans"
   ]
  },
  {
   "cell_type": "markdown",
   "metadata": {},
   "source": [
    "Note that the function **fsolve** requires an estimate for the answers. The estimate provided in the example was $[1,1]$. An answer is not always guaranteed when using **fsolve**. The root-finding algorithm depends on the accuracy of the initial guess. It is also possible to obtain multiple roots, so be careful in using **fsolve** blindly. It is very easy to test the answer by merely substituting into the function:  "
   ]
  },
  {
   "cell_type": "code",
   "execution_count": 97,
   "metadata": {},
   "outputs": [
    {
     "name": "stdout",
     "output_type": "stream",
     "text": [
      "[8.032463583163008e-14, -5.257017043902579e-12]\n"
     ]
    }
   ],
   "source": [
    "print(fun_algebra(ans))"
   ]
  },
  {
   "cell_type": "markdown",
   "metadata": {},
   "source": [
    "What do the values above mean?\n",
    "\n",
    "Let's see if you can use **fsolve**. Take the 3 steady state component cmol balances and see whether you can obtain the same steady state concentrations as the final values from the integration. The answers will be close to identical. Your equivalent of the **fun_algebra** function will be very similar to the old **ferm_eq** function that calls upon the **response_fun**, but there won't be any differentials, only algebraic equations. \n",
    "\n",
    "Be careful when performing the initial guess. To be realistic the root must obey the following:\n",
    "\n",
    "$$0<C_S < C_S^F$$\n",
    "\n",
    "$$0<C_P < Y_{SP}^{max}C_S^F$$\n",
    "\n",
    "$$0<C_X < Y_{SX}^{max}C_S^F$$\n",
    "\n",
    "You should get the following $C=[C_X, C_S, C_P]$ : **[0.18465745,  0.87642339,  1.19635296]**\n"
   ]
  },
  {
   "cell_type": "code",
   "execution_count": 98,
   "metadata": {},
   "outputs": [],
   "source": [
    "def algebra_fun(C):\n",
    "    Cx, Cs, Clac= C[0],C[1],C[2]  #order of components very important \n",
    "    r=response_fun([Cx, Cs, Clac])# this is the 'fetching' from the response function\n",
    "    \n",
    "    return [r[0]*Cx - (Qf*Cx)/V,          #X\n",
    "            r[1]*Cx + (Qf/V)*(Cfs - Cs),  #glucose\n",
    "            r[2]*Cx - (Qf*Clac)/V]        #LA"
   ]
  },
  {
   "cell_type": "code",
   "execution_count": 99,
   "metadata": {},
   "outputs": [
    {
     "data": {
      "text/plain": [
       "array([0.18465745, 0.87642339, 1.19635296])"
      ]
     },
     "execution_count": 99,
     "metadata": {},
     "output_type": "execute_result"
    }
   ],
   "source": [
    "Co=[0.1,0,0]                     # [Cxo, Cso, Clao] in cmol/L\n",
    "\n",
    "ans=fsolve(algebra_fun, Co)  #Get estimate from graph above\n",
    "ans"
   ]
  },
  {
   "cell_type": "markdown",
   "metadata": {},
   "source": [
    "Once you are able to solve for a steady state condition, you can vary the throughput (flow through the fermenter).\n",
    "\n",
    "Reduce the flowrate to 50 $\\frac{L}{h}$. You should get the following $[C_X, C_S, C_P]$ : **[0.2910506, 3.28984e-04,   1.960734]**"
   ]
  },
  {
   "cell_type": "code",
   "execution_count": 100,
   "metadata": {},
   "outputs": [],
   "source": [
    "Qf = 50"
   ]
  },
  {
   "cell_type": "code",
   "execution_count": 101,
   "metadata": {},
   "outputs": [
    {
     "data": {
      "text/plain": [
       "array([2.91050604e-01, 3.28984734e-04, 1.96073455e+00])"
      ]
     },
     "execution_count": 101,
     "metadata": {},
     "output_type": "execute_result"
    }
   ],
   "source": [
    "Co1=[0.1,0,0]                     # [Cxo, Cso, Clao] in cmol/L\n",
    "\n",
    "ans=fsolve(algebra_fun, Co1)  #Get estimate from graph above\n",
    "ans"
   ]
  },
  {
   "cell_type": "markdown",
   "metadata": {},
   "source": [
    "The productivity of the chemostat (continuous fermenter) is merely the volumetric production rate of product ($r_P^V$). Play around with the flowrate ($Q$) and determine the maximum lactic acid productivity. **[P = 11.5 $\\frac{g}{L \\cdot h}$]**\n",
    "\n",
    "<img src=\"prod_cont.png\" width=\"550\" />\n",
    "\n"
   ]
  },
  {
   "cell_type": "code",
   "execution_count": 102,
   "metadata": {},
   "outputs": [
    {
     "data": {
      "image/png": "[encoded data removed]",
      "text/plain": [
       "<matplotlib.figure.Figure at 0x21d7804d860>"
      ]
     },
     "metadata": {},
     "output_type": "display_data"
    },
    {
     "data": {
      "text/plain": [
       "11.527737723164167"
      ]
     },
     "execution_count": 102,
     "metadata": {},
     "output_type": "execute_result"
    }
   ],
   "source": [
    "Qf2 = linspace(50,400,400)\n",
    "D = Qf2/V\n",
    "P=[]\n",
    "\n",
    "for vals in Qf2:\n",
    "    Qf = vals     \n",
    "    \n",
    "    def response_fun(C):\n",
    "            \n",
    "        Cx, Cs, Clac= C[0],C[1],C[2]  #Same component order as in the ferm-eq\n",
    "        Cp = Clac\n",
    "                                       \n",
    "        mu1=mumax*(Cs/(Km + Cs))*(1/(1 + (Cp/Kp)))\n",
    "        theta=thetamax*(Cs/(Km + Cs))\n",
    "    \n",
    "        if mu1 < 0.0001:   #Negative values of mu set to zero\n",
    "            mu=0 \n",
    "        else:\n",
    "            mu=mu1\n",
    "  \n",
    "        Sbase = numpy.matrix([[-1,(1+alpha),1],   #Stoichiometric matrix without specification (4x5)\n",
    "                             [0,(-1)*gamma,1/3]])\n",
    "    \n",
    "        S1 = numpy.vstack([Sbase,[0,1,0]])  #Stoich matrix with growth spec\n",
    "      \n",
    "        C= numpy.matrix([[0,theta, mu]]).T\n",
    "        r = numpy.linalg.solve(S1,C)             \n",
    "    \n",
    "        return [r[1,0],   # important to see the order of the rates (X,S,LAC)\n",
    "               -r[0,0],   # glucose, note the negative since the flux model calculated (-rs)\n",
    "                r[2,0]]   # LAC\n",
    "        \n",
    "      \n",
    "    def algebra_fun(C):\n",
    "        Cx, Cs, Clac= C[0],C[1],C[2]  #order of components very important \n",
    "        r=response_fun([Cx, Cs, Clac])# this is the 'fetching' from the response function\n",
    "    \n",
    "        return [r[0]*Cx - (Qf*Cx)/V,          #X\n",
    "                r[1]*Cx + (Qf/V)*(Cfs - Cs),  #glucose\n",
    "                r[2]*Cx - (Qf*Clac)/V]        #LA\n",
    "    \n",
    "    Co2=[0.1,0,0]                     # [Cxo, Cso, Clao] in cmol/L\n",
    "    \n",
    "    ans=fsolve(algebra_fun, Co2)  #Get estimate from graph above\n",
    "    \n",
    "    rates = [response_fun(ans)]\n",
    "    \n",
    "    rp_v = rates[0][2]*ans[0]*30\n",
    "    \n",
    "    P.append(rp_v)\n",
    "    \n",
    "    \n",
    "plt.figure(5)\n",
    "plt.plot(D,P, color='blue', label='Cp')\n",
    "plt.ylabel('Productivity cmol/L.h') \n",
    "plt.xlabel('D (1/h)') \n",
    "plt.show()\n",
    "\n",
    "Pmax = max(P)\n",
    "Pmax"
   ]
  },
  {
   "cell_type": "markdown",
   "metadata": {},
   "source": [
    "Compare this to the productivity of a batch fermenter, where $C_S^o$ is the same as the glucose feed concentration of the chemostat ($C_S^F$). Use the same $C_X^o$ as specified before. **[P = 4.2 $\\frac{g}{L \\cdot h}$]**\n",
    "\n",
    "Why is the chemostat so much more productive? Think long and hard and talk to your group about your ideas."
   ]
  },
  {
   "cell_type": "code",
   "execution_count": 103,
   "metadata": {},
   "outputs": [],
   "source": [
    "CoBatch = (0.003,68/30, 0)"
   ]
  },
  {
   "cell_type": "code",
   "execution_count": 104,
   "metadata": {},
   "outputs": [],
   "source": [
    "def ferm_batch(C,t):\n",
    "    Cx, Cs, Clac= C[0],C[1],C[2] # order of components very important \n",
    "    r=response_fun([Cx, Cs, Clac])      # this is the 'fetching' from the response function\n",
    "    \n",
    "    return [r[0]*Cx,    #X\n",
    "            r[1]*Cx,    #glucose\n",
    "            r[2]*Cx]    #LA"
   ]
  },
  {
   "cell_type": "code",
   "execution_count": 105,
   "metadata": {},
   "outputs": [
    {
     "data": {
      "image/png": "[encoded data removed]",
      "text/plain": [
       "<matplotlib.figure.Figure at 0x21d7801bda0>"
      ]
     },
     "metadata": {},
     "output_type": "display_data"
    }
   ],
   "source": [
    "tmax2=400                                    \n",
    "tspan2=numpy.linspace(0,tmax2,400)           \n",
    "Ci2 = odeint(ferm_batch, CoBatch, tspan2)\n",
    "\n",
    "Cx2=Ci2[:,0]                                  \n",
    "Cs2=Ci2[:,1]\n",
    "Clac2=Ci2[:,2]\n",
    "\n",
    "plt.figure(6)\n",
    "plt.plot(tspan2, Cs2, color='red',label='Cs2')\n",
    "plt.plot(tspan2, Cx2, color='blue',label='Cx2')\n",
    "plt.plot(tspan2, Clac2, color='green', label='Clac2')\n",
    "plt.legend(loc='best')\n",
    "plt.ylabel('Concentration cmol/L') \n",
    "plt.xlabel('time (h)') \n",
    "plt.show()"
   ]
  },
  {
   "cell_type": "code",
   "execution_count": 106,
   "metadata": {},
   "outputs": [
    {
     "data": {
      "text/plain": [
       "14.032421998644907"
      ]
     },
     "execution_count": 106,
     "metadata": {},
     "output_type": "execute_result"
    }
   ],
   "source": [
    "tdone = interp(0.001,Cs2[::-1],tspan2[::-1])\n",
    "tdone"
   ]
  },
  {
   "cell_type": "code",
   "execution_count": 107,
   "metadata": {},
   "outputs": [
    {
     "data": {
      "text/plain": [
       "4.162750648641024"
      ]
     },
     "execution_count": 107,
     "metadata": {},
     "output_type": "execute_result"
    }
   ],
   "source": [
    "Pbatch = max(Clac2)/tdone*30\n",
    "Pbatch"
   ]
  },
  {
   "cell_type": "markdown",
   "metadata": {},
   "source": [
    "We haven't even included a substrate inhibition factor for the response function. By controlling the Qf, we can maximise the steady state concentrations, and get the optimal productivity, as opposed to feeding all the glucose all at once. At steady state, the throughput directly controls the growth rate, as explained in the next section."
   ]
  },
  {
   "cell_type": "markdown",
   "metadata": {},
   "source": [
    "### Dilution rate (D)\n",
    "\n",
    "In fermentation nomenclature the throughput is defined by the dilution rate (D) where:\n",
    "\n",
    "$$D=\\frac{Q}{V}$$\n",
    "---\n",
    "\n",
    "If we take the steady state cmol balance of biomass, an interesting result is obtained:\n",
    "\n",
    "$$-\\frac{Q}{V}C_X + r_X C_X  = 0 $$\n",
    "\n",
    "$$ -DC_X + \\mu C_X = 0$$\n",
    "\n",
    "$$ D=\\mu$$\n",
    "---\n",
    "\n",
    "Wow! So the throughput directly controls the growth rate! We can thus adjust the $\\mu$ value by adjusting $Q$.\n",
    "\n",
    "Okey, so the aim is to get $\\mu$ high. Let's specify a $\\mu =D$ value of $0.5 \\frac{1}{h}$ and see what is obtained. Check your algebraic calculation by also performing an integration (time dependant solution of steady state). Use a $C_S^o$ value of $2 \\frac{cmol}{L}$ and a $C_X^o$ value of $0.3 \\frac{cmol}{L}$ while $C_S^F$ remains the same as before. What is happening here?\n",
    "\n",
    "<img src=\"washout.png\" width=\"550\" />\n"
   ]
  },
  {
   "cell_type": "code",
   "execution_count": 108,
   "metadata": {},
   "outputs": [],
   "source": [
    "Cso, Cxo, Csf = 2, 0.3, 68/30\n",
    "QfD = 500  #Q/V must equal to 0.5 as it is equal to mu"
   ]
  },
  {
   "cell_type": "code",
   "execution_count": 109,
   "metadata": {},
   "outputs": [],
   "source": [
    "def response_D(C):\n",
    "    \n",
    "    Cx, Cs, Clac= C[0],C[1],C[2]  #Same component order as in the ferm-eq\n",
    "    Cp = Clac\n",
    "                                       \n",
    "    mu1=mumax*(Cs/(Km + Cs))*((1 + (Cp/Kp))**(-1))\n",
    "    theta=thetamax*(Cs/(Km + Cs))\n",
    "    \n",
    "    if mu1 < 0.0001:   #Negative values of mu set to zero\n",
    "        mu=0 \n",
    "    else:\n",
    "        mu=mu1\n",
    "  \n",
    "    Sbase = numpy.matrix([[-1,(1+alpha),1],   #Stoichiometric matrix without specification (4x5)\n",
    "                          [0,(-1)*gamma,1/3]])\n",
    "    \n",
    "    S1 = numpy.vstack([Sbase,[0,1,0]])  #Stoich matrix with growth spec\n",
    "      \n",
    "    C= numpy.matrix([[0,theta, mu]]).T\n",
    "    r = numpy.linalg.solve(S1,C)             \n",
    "    \n",
    "    return [r[1,0],   # important to see the order of the rates (X,S,LAC)\n",
    "           -r[0,0],   # glucose, note the negative since the flux model calculated (-rs)\n",
    "            r[2,0]]   # LAC"
   ]
  },
  {
   "cell_type": "code",
   "execution_count": 110,
   "metadata": {},
   "outputs": [],
   "source": [
    "def algebra_D(C):\n",
    "    Cx, Cs, Clac= C[0],C[1],C[2]  #order of components very important \n",
    "    r=response_D([Cx, Cs, Clac])# this is the 'fetching' from the response function\n",
    "    \n",
    "    return [r[0]*Cx - (Qf*Cx)/V,          #X\n",
    "            r[1]*Cx + (Qf/V)*(Cfs - Cs),  #glucose\n",
    "            r[2]*Cx - (Qf*Clac)/V]        #LA"
   ]
  },
  {
   "cell_type": "code",
   "execution_count": 111,
   "metadata": {},
   "outputs": [
    {
     "data": {
      "text/plain": [
       "array([5.85773764e-14, 2.26666667e+00, 3.55840144e-13])"
      ]
     },
     "execution_count": 111,
     "metadata": {},
     "output_type": "execute_result"
    }
   ],
   "source": [
    "CoD=[Cxo,Cso,0]                     # [Cxo, Cso, Clao] in cmol/L\n",
    "\n",
    "ans=fsolve(algebra_D, CoD)  #Get estimate from graph above\n",
    "ans"
   ]
  },
  {
   "cell_type": "code",
   "execution_count": 112,
   "metadata": {},
   "outputs": [],
   "source": [
    "def ferm_D(C,t):\n",
    "    Cx, Cs, Clac= C[0],C[1],C[2]  #order of components very important \n",
    "    r=response_fun([Cx, Cs, Clac])# this is the 'fetching' from the response function\n",
    "    \n",
    "    return [r[0]*Cx - (QfD*Cx)/V,          #X\n",
    "            r[1]*Cx + (QfD/V)*(Cfs - Cs),  #glucose\n",
    "            r[2]*Cx - (QfD*Clac)/V]        #LA"
   ]
  },
  {
   "cell_type": "code",
   "execution_count": 113,
   "metadata": {},
   "outputs": [
    {
     "data": {
      "image/png": "[encoded data removed]",
      "text/plain": [
       "<matplotlib.figure.Figure at 0x21d76dee390>"
      ]
     },
     "metadata": {},
     "output_type": "display_data"
    }
   ],
   "source": [
    "tmaxD=30                                   \n",
    "tspanD=numpy.linspace(0,tmaxD,400)           \n",
    "CiD = odeint(ferm_D, CoD, tspanD)\n",
    "\n",
    "CxD=CiD[:,0]                                  \n",
    "CsD=CiD[:,1]\n",
    "ClacD=CiD[:,2]\n",
    "\n",
    "plt.figure(7)\n",
    "plt.plot(tspanD, CsD, color='red',label='CsD')\n",
    "plt.plot(tspanD, CxD, color='blue',label='CxD')\n",
    "plt.plot(tspanD, ClacD, color='green', label='ClacD')\n",
    "plt.legend(loc='best')\n",
    "plt.ylabel('Concentration cmol/L') \n",
    "plt.xlabel('time (h)') \n",
    "plt.show()"
   ]
  },
  {
   "cell_type": "markdown",
   "metadata": {},
   "source": [
    "All the production concentrations are zero because the system has been washed out. In other words, the Qf is so high, there is not enough time for production of lactic acid, they're all flushed out before any measurable concentration can build."
   ]
  },
  {
   "cell_type": "markdown",
   "metadata": {},
   "source": [
    "Reduce the D value and replot the dynamic response, while checking the algebraic steady state root. "
   ]
  },
  {
   "cell_type": "code",
   "execution_count": 114,
   "metadata": {},
   "outputs": [],
   "source": [
    "QfD1 = 200"
   ]
  },
  {
   "cell_type": "code",
   "execution_count": 115,
   "metadata": {},
   "outputs": [],
   "source": [
    "def fprint(s, i=2):\n",
    "    print((\"{:.\"+str(i)+\"f}\").format(s))"
   ]
  },
  {
   "cell_type": "code",
   "execution_count": 116,
   "metadata": {},
   "outputs": [
    {
     "data": {
      "text/plain": [
       "array([5.85773764e-14, 2.26666667e+00, 3.55840144e-13])"
      ]
     },
     "execution_count": 116,
     "metadata": {},
     "output_type": "execute_result"
    }
   ],
   "source": [
    "CoD1=[Cxo,Cso,0]                     # [Cxo, Cso, Clao] in cmol/L\n",
    "\n",
    "ans=fsolve(algebra_D, CoD1)  #Get estimate from graph above\n",
    "ans"
   ]
  },
  {
   "cell_type": "code",
   "execution_count": 117,
   "metadata": {},
   "outputs": [
    {
     "data": {
      "image/png": "[encoded data removed]",
      "text/plain": [
       "<matplotlib.figure.Figure at 0x21d7803d748>"
      ]
     },
     "metadata": {},
     "output_type": "display_data"
    }
   ],
   "source": [
    "tmaxD1=30                                   \n",
    "tspanD1=numpy.linspace(0,tmaxD1,400)           \n",
    "CiD1 = odeint(ferm_D, CoD1, tspanD1)\n",
    "\n",
    "CxD1=CiD1[:,0]                                  \n",
    "CsD1=CiD1[:,1]\n",
    "ClacD1=CiD1[:,2]\n",
    "\n",
    "plt.figure(7)\n",
    "plt.plot(tspanD1, CsD1, color='red',label='CsD1')\n",
    "plt.plot(tspanD1, CxD1, color='blue',label='CxD1')\n",
    "plt.plot(tspanD1, ClacD1, color='green', label='ClacD1')\n",
    "plt.legend(loc='best')\n",
    "plt.ylabel('Concentration cmol/L') \n",
    "plt.xlabel('time (h)') \n",
    "plt.show()"
   ]
  },
  {
   "cell_type": "markdown",
   "metadata": {},
   "source": [
    "So there you have it. It is possible to have stable steady state operation at higher productivities than the that of the batch fermenter. No integration required to solve for steady state. Response function remains identical (like always). **Fsolve** is a convenient tool for solving sets of non-linear algebraic equations. There is a throughput limit linked to the maximum growth rate."
   ]
  },
  {
   "cell_type": "code",
   "execution_count": null,
   "metadata": {},
   "outputs": [],
   "source": []
  }
 ],
 "metadata": {
  "kernelspec": {
   "display_name": "Python 3",
   "language": "python",
   "name": "python3"
  },
  "language_info": {
   "codemirror_mode": {
    "name": "ipython",
    "version": 3
   },
   "file_extension": ".py",
   "mimetype": "text/x-python",
   "name": "python",
   "nbconvert_exporter": "python",
   "pygments_lexer": "ipython3",
   "version": "3.6.4"
  }
 },
 "nbformat": 4,
 "nbformat_minor": 2
}
